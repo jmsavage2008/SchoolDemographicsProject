{
 "cells": [
  {
   "cell_type": "code",
   "execution_count": 65,
   "id": "1a935b38",
   "metadata": {},
   "outputs": [
    {
     "data": {
      "text/html": [
       "<div>\n",
       "<style scoped>\n",
       "    .dataframe tbody tr th:only-of-type {\n",
       "        vertical-align: middle;\n",
       "    }\n",
       "\n",
       "    .dataframe tbody tr th {\n",
       "        vertical-align: top;\n",
       "    }\n",
       "\n",
       "    .dataframe thead th {\n",
       "        text-align: right;\n",
       "    }\n",
       "</style>\n",
       "<table border=\"1\" class=\"dataframe\">\n",
       "  <thead>\n",
       "    <tr style=\"text-align: right;\">\n",
       "      <th></th>\n",
       "      <th>District Name</th>\n",
       "      <th>FR_PCT</th>\n",
       "      <th>PROFICIENT_PCT</th>\n",
       "      <th>ADVANCED_PCT</th>\n",
       "      <th>TOTAL_PCT</th>\n",
       "    </tr>\n",
       "  </thead>\n",
       "  <tbody>\n",
       "    <tr>\n",
       "      <th>0</th>\n",
       "      <td>AFFTON 101</td>\n",
       "      <td>35.7</td>\n",
       "      <td>21.2</td>\n",
       "      <td>12.5</td>\n",
       "      <td>33.7</td>\n",
       "    </tr>\n",
       "    <tr>\n",
       "      <th>1</th>\n",
       "      <td>BAYLESS</td>\n",
       "      <td>52.7</td>\n",
       "      <td>24.1</td>\n",
       "      <td>27.1</td>\n",
       "      <td>51.2</td>\n",
       "    </tr>\n",
       "    <tr>\n",
       "      <th>2</th>\n",
       "      <td>BRENTWOOD</td>\n",
       "      <td>18.1</td>\n",
       "      <td>20.2</td>\n",
       "      <td>42.3</td>\n",
       "      <td>62.5</td>\n",
       "    </tr>\n",
       "    <tr>\n",
       "      <th>3</th>\n",
       "      <td>CLAYTON</td>\n",
       "      <td>9.1</td>\n",
       "      <td>23.6</td>\n",
       "      <td>46.6</td>\n",
       "      <td>70.2</td>\n",
       "    </tr>\n",
       "    <tr>\n",
       "      <th>4</th>\n",
       "      <td>CRYSTAL CITY 47</td>\n",
       "      <td>44.6</td>\n",
       "      <td>23.6</td>\n",
       "      <td>21.1</td>\n",
       "      <td>44.7</td>\n",
       "    </tr>\n",
       "  </tbody>\n",
       "</table>\n",
       "</div>"
      ],
      "text/plain": [
       "     District Name  FR_PCT  PROFICIENT_PCT  ADVANCED_PCT  TOTAL_PCT\n",
       "0       AFFTON 101    35.7            21.2          12.5       33.7\n",
       "1          BAYLESS    52.7            24.1          27.1       51.2\n",
       "2        BRENTWOOD    18.1            20.2          42.3       62.5\n",
       "3          CLAYTON     9.1            23.6          46.6       70.2\n",
       "4  CRYSTAL CITY 47    44.6            23.6          21.1       44.7"
      ]
     },
     "execution_count": 65,
     "metadata": {},
     "output_type": "execute_result"
    }
   ],
   "source": [
    "#Dependencies\n",
    "import matplotlib.pyplot as plt\n",
    "import pandas as pd\n",
    "import scipy.stats as st\n",
    "from scipy.stats import linregress\n",
    "import numpy as np\n",
    "import adjustText\n",
    "from adjustText import adjust_text\n",
    "import plotly.express as px\n",
    "from dash import Dash, dcc, html, Input, Output\n",
    "import plotly.graph_objects as go\n",
    "\n",
    "\n",
    "#Upload from CSVs\n",
    "prof_adv_path = \"prof_adv_2023_all.csv\"\n",
    "dist_attend_path = \"District Proportional Attendance Rates.csv\"\n",
    "fr_rates_path = \"FRLUNCH.csv\"\n",
    "fr_all_path = \"FRALL.csv\"\n",
    "dist_count_path = \"district_counties.csv\"\n",
    "fr_dist_path = \"fr_district\"\n",
    "\n",
    "#Read data and results\n",
    "prof_adv_df = pd.read_csv(prof_adv_path)\n",
    "fr_all_df = pd.read_csv(fr_all_path)\n",
    "dist_count_df = pd.read_csv(dist_count_path)\n",
    "att_all_df = pd.read_csv(dist_attend_path)\n",
    "fr_dist_df = pd.read_csv(fr_dist_path)\n",
    "\n",
    "fr_dist_df.head()\n",
    "\n"
   ]
  },
  {
   "cell_type": "markdown",
   "id": "69766548",
   "metadata": {},
   "source": [
    "## Filter Prof/Advanced"
   ]
  },
  {
   "cell_type": "code",
   "execution_count": 18,
   "id": "c21e17d6",
   "metadata": {},
   "outputs": [],
   "source": [
    "#Filter to only total scores\n",
    "prof_adv_total_df = prof_adv_df.loc[(prof_adv_df[\"TYPE\"]==\"Total\")]\n",
    "\n",
    "#Filter to only math\n",
    "prof_adv_math_df = prof_adv_total_df.loc[(prof_adv_total_df[\"CONTENT_AREA\"]==\"Mathematics\")]\n",
    "\n",
    "#Reduce\n",
    "prof_adv_math_reduced_df = prof_adv_math_df[[\"DISTRICT_NAME\", \"PROFICIENT_PCT\", \"ADVANCED_PCT\"]]\n",
    "\n",
    "#Export to csv\n",
    "prof_adv_math_reduced_df.to_csv('prof_adv_math.csv', index=False)\n",
    "\n",
    "#Import edited csv - Narrowed down\n",
    "prof_adv_math_updated_path = \"prof_adv_math_filtered.csv\"\n",
    "prof_adv_math_new_df = pd.read_csv(prof_adv_math_updated_path)\n",
    "\n"
   ]
  },
  {
   "cell_type": "code",
   "execution_count": 19,
   "id": "5dff715c",
   "metadata": {},
   "outputs": [
    {
     "data": {
      "text/html": [
       "<div>\n",
       "<style scoped>\n",
       "    .dataframe tbody tr th:only-of-type {\n",
       "        vertical-align: middle;\n",
       "    }\n",
       "\n",
       "    .dataframe tbody tr th {\n",
       "        vertical-align: top;\n",
       "    }\n",
       "\n",
       "    .dataframe thead th {\n",
       "        text-align: right;\n",
       "    }\n",
       "</style>\n",
       "<table border=\"1\" class=\"dataframe\">\n",
       "  <thead>\n",
       "    <tr style=\"text-align: right;\">\n",
       "      <th></th>\n",
       "      <th>District Name</th>\n",
       "      <th>PROFICIENT_PCT</th>\n",
       "      <th>ADVANCED_PCT</th>\n",
       "    </tr>\n",
       "  </thead>\n",
       "  <tbody>\n",
       "    <tr>\n",
       "      <th>17</th>\n",
       "      <td>ADAIR CO. R-I</td>\n",
       "      <td>16.1</td>\n",
       "      <td>12.5</td>\n",
       "    </tr>\n",
       "    <tr>\n",
       "      <th>61</th>\n",
       "      <td>KIRKSVILLE R-III</td>\n",
       "      <td>22.6</td>\n",
       "      <td>21.6</td>\n",
       "    </tr>\n",
       "    <tr>\n",
       "      <th>76</th>\n",
       "      <td>ADAIR CO. R-II</td>\n",
       "      <td>31.3</td>\n",
       "      <td>*</td>\n",
       "    </tr>\n",
       "    <tr>\n",
       "      <th>99</th>\n",
       "      <td>NORTH ANDREW CO. R-VI</td>\n",
       "      <td>32.5</td>\n",
       "      <td>29.9</td>\n",
       "    </tr>\n",
       "    <tr>\n",
       "      <th>119</th>\n",
       "      <td>AVENUE CITY R-IX</td>\n",
       "      <td>36.9</td>\n",
       "      <td>29.2</td>\n",
       "    </tr>\n",
       "  </tbody>\n",
       "</table>\n",
       "</div>"
      ],
      "text/plain": [
       "             District Name PROFICIENT_PCT ADVANCED_PCT\n",
       "17           ADAIR CO. R-I           16.1         12.5\n",
       "61        KIRKSVILLE R-III           22.6         21.6\n",
       "76          ADAIR CO. R-II           31.3            *\n",
       "99   NORTH ANDREW CO. R-VI           32.5         29.9\n",
       "119       AVENUE CITY R-IX           36.9         29.2"
      ]
     },
     "execution_count": 19,
     "metadata": {},
     "output_type": "execute_result"
    }
   ],
   "source": [
    "prof_adv_math_reduced_df = prof_adv_math_reduced_df.rename(columns={\"DISTRICT_NAME\": \"District Name\"})\n",
    "prof_adv_math_reduced_df.head()"
   ]
  },
  {
   "cell_type": "code",
   "execution_count": null,
   "id": "e4d94027",
   "metadata": {},
   "outputs": [],
   "source": []
  },
  {
   "cell_type": "code",
   "execution_count": 20,
   "id": "2189d40e",
   "metadata": {},
   "outputs": [
    {
     "data": {
      "text/html": [
       "<div>\n",
       "<style scoped>\n",
       "    .dataframe tbody tr th:only-of-type {\n",
       "        vertical-align: middle;\n",
       "    }\n",
       "\n",
       "    .dataframe tbody tr th {\n",
       "        vertical-align: top;\n",
       "    }\n",
       "\n",
       "    .dataframe thead th {\n",
       "        text-align: right;\n",
       "    }\n",
       "</style>\n",
       "<table border=\"1\" class=\"dataframe\">\n",
       "  <thead>\n",
       "    <tr style=\"text-align: right;\">\n",
       "      <th></th>\n",
       "      <th>YEAR</th>\n",
       "      <th>COUNTY_DISTRICT_CODE</th>\n",
       "      <th>District Name</th>\n",
       "      <th>PROPORTIONAL_ATTENDANCE_TOTAL_90ABV</th>\n",
       "      <th>PROPORTIONAL_ATTENDANCE_TOTAL</th>\n",
       "      <th>PROPORTIONAL_ATTENDANCE_TOTAL_PCT</th>\n",
       "      <th>PROPORTIONAL_ATTENDANCE_ASIAN_90ABV</th>\n",
       "      <th>PROPORTIONAL_ATTENDANCE_ASIAN</th>\n",
       "      <th>PROPORTIONAL_ATTENDANCE_ASIAN_PCT</th>\n",
       "      <th>PROPORTIONAL_ATTENDANCE_BLACK_90ABV</th>\n",
       "      <th>...</th>\n",
       "      <th>PROPORTIONAL_ATTENDANCE_WHITE_PCT</th>\n",
       "      <th>PROPORTIONAL_ATTENDANCE_K_8_90ABV</th>\n",
       "      <th>PROPORTIONAL_ATTENDANCE_K_8</th>\n",
       "      <th>PROPORTIONAL_ATTENDANCE_K_8_PCT</th>\n",
       "      <th>PROPORTIONAL_ATTENDANCE_9_12_90ABV</th>\n",
       "      <th>PROPORTIONAL_ATTENDANCE_9_12</th>\n",
       "      <th>PROPORTIONAL_ATTENDANCE_9_12_PCT</th>\n",
       "      <th>PROPORTIONAL_ATTENDANCE_LEP_PCT</th>\n",
       "      <th>PROPORTIONAL_ATTENDANCE_IEP_PCT</th>\n",
       "      <th>PROPORTIONAL_ATTENDANCE_FRL_PCT</th>\n",
       "    </tr>\n",
       "  </thead>\n",
       "  <tbody>\n",
       "    <tr>\n",
       "      <th>2306</th>\n",
       "      <td>2009</td>\n",
       "      <td>36123</td>\n",
       "      <td>FRANKLIN CO. R-II</td>\n",
       "      <td>150.3437</td>\n",
       "      <td>154.3409</td>\n",
       "      <td>97.4</td>\n",
       "      <td>*</td>\n",
       "      <td>*</td>\n",
       "      <td>*</td>\n",
       "      <td>*</td>\n",
       "      <td>...</td>\n",
       "      <td>97.4</td>\n",
       "      <td>150.3437</td>\n",
       "      <td>154.3409</td>\n",
       "      <td>97.4</td>\n",
       "      <td>*</td>\n",
       "      <td>*</td>\n",
       "      <td>*</td>\n",
       "      <td>*</td>\n",
       "      <td>92.7</td>\n",
       "      <td>94.8</td>\n",
       "    </tr>\n",
       "    <tr>\n",
       "      <th>2307</th>\n",
       "      <td>2010</td>\n",
       "      <td>36123</td>\n",
       "      <td>FRANKLIN CO. R-II</td>\n",
       "      <td>155.6702</td>\n",
       "      <td>162.6239</td>\n",
       "      <td>95.7</td>\n",
       "      <td>*</td>\n",
       "      <td>*</td>\n",
       "      <td>*</td>\n",
       "      <td>*</td>\n",
       "      <td>...</td>\n",
       "      <td>95.7</td>\n",
       "      <td>155.6702</td>\n",
       "      <td>162.6239</td>\n",
       "      <td>95.7</td>\n",
       "      <td>*</td>\n",
       "      <td>*</td>\n",
       "      <td>*</td>\n",
       "      <td>*</td>\n",
       "      <td>89.4</td>\n",
       "      <td>92.7</td>\n",
       "    </tr>\n",
       "    <tr>\n",
       "      <th>2308</th>\n",
       "      <td>2011</td>\n",
       "      <td>36123</td>\n",
       "      <td>FRANKLIN CO. R-II</td>\n",
       "      <td>144.9314</td>\n",
       "      <td>154.4012</td>\n",
       "      <td>93.9</td>\n",
       "      <td>*</td>\n",
       "      <td>*</td>\n",
       "      <td>*</td>\n",
       "      <td>*</td>\n",
       "      <td>...</td>\n",
       "      <td>93.8</td>\n",
       "      <td>144.9314</td>\n",
       "      <td>154.4012</td>\n",
       "      <td>93.9</td>\n",
       "      <td>*</td>\n",
       "      <td>*</td>\n",
       "      <td>*</td>\n",
       "      <td>*</td>\n",
       "      <td>85.2</td>\n",
       "      <td>90.1</td>\n",
       "    </tr>\n",
       "    <tr>\n",
       "      <th>2309</th>\n",
       "      <td>2012</td>\n",
       "      <td>36123</td>\n",
       "      <td>FRANKLIN CO. R-II</td>\n",
       "      <td>134.5333</td>\n",
       "      <td>141.9881</td>\n",
       "      <td>94.7</td>\n",
       "      <td>*</td>\n",
       "      <td>*</td>\n",
       "      <td>*</td>\n",
       "      <td>*</td>\n",
       "      <td>...</td>\n",
       "      <td>94.7</td>\n",
       "      <td>134.5333</td>\n",
       "      <td>141.9881</td>\n",
       "      <td>94.7</td>\n",
       "      <td>*</td>\n",
       "      <td>*</td>\n",
       "      <td>*</td>\n",
       "      <td>*</td>\n",
       "      <td>88.5</td>\n",
       "      <td>91.9</td>\n",
       "    </tr>\n",
       "    <tr>\n",
       "      <th>2310</th>\n",
       "      <td>2013</td>\n",
       "      <td>36123</td>\n",
       "      <td>FRANKLIN CO. R-II</td>\n",
       "      <td>133.4635</td>\n",
       "      <td>138.6812</td>\n",
       "      <td>96.2</td>\n",
       "      <td>*</td>\n",
       "      <td>*</td>\n",
       "      <td>*</td>\n",
       "      <td>*</td>\n",
       "      <td>...</td>\n",
       "      <td>96.1</td>\n",
       "      <td>133.4635</td>\n",
       "      <td>138.6812</td>\n",
       "      <td>96.2</td>\n",
       "      <td>*</td>\n",
       "      <td>*</td>\n",
       "      <td>*</td>\n",
       "      <td>*</td>\n",
       "      <td>95.1</td>\n",
       "      <td>93.4</td>\n",
       "    </tr>\n",
       "  </tbody>\n",
       "</table>\n",
       "<p>5 rows × 36 columns</p>\n",
       "</div>"
      ],
      "text/plain": [
       "      YEAR  COUNTY_DISTRICT_CODE      District Name  \\\n",
       "2306  2009                 36123  FRANKLIN CO. R-II   \n",
       "2307  2010                 36123  FRANKLIN CO. R-II   \n",
       "2308  2011                 36123  FRANKLIN CO. R-II   \n",
       "2309  2012                 36123  FRANKLIN CO. R-II   \n",
       "2310  2013                 36123  FRANKLIN CO. R-II   \n",
       "\n",
       "     PROPORTIONAL_ATTENDANCE_TOTAL_90ABV PROPORTIONAL_ATTENDANCE_TOTAL  \\\n",
       "2306                            150.3437                      154.3409   \n",
       "2307                            155.6702                      162.6239   \n",
       "2308                            144.9314                      154.4012   \n",
       "2309                            134.5333                      141.9881   \n",
       "2310                            133.4635                      138.6812   \n",
       "\n",
       "     PROPORTIONAL_ATTENDANCE_TOTAL_PCT PROPORTIONAL_ATTENDANCE_ASIAN_90ABV  \\\n",
       "2306                              97.4                                   *   \n",
       "2307                              95.7                                   *   \n",
       "2308                              93.9                                   *   \n",
       "2309                              94.7                                   *   \n",
       "2310                              96.2                                   *   \n",
       "\n",
       "     PROPORTIONAL_ATTENDANCE_ASIAN PROPORTIONAL_ATTENDANCE_ASIAN_PCT  \\\n",
       "2306                             *                                 *   \n",
       "2307                             *                                 *   \n",
       "2308                             *                                 *   \n",
       "2309                             *                                 *   \n",
       "2310                             *                                 *   \n",
       "\n",
       "     PROPORTIONAL_ATTENDANCE_BLACK_90ABV  ...  \\\n",
       "2306                                   *  ...   \n",
       "2307                                   *  ...   \n",
       "2308                                   *  ...   \n",
       "2309                                   *  ...   \n",
       "2310                                   *  ...   \n",
       "\n",
       "     PROPORTIONAL_ATTENDANCE_WHITE_PCT PROPORTIONAL_ATTENDANCE_K_8_90ABV  \\\n",
       "2306                              97.4                          150.3437   \n",
       "2307                              95.7                          155.6702   \n",
       "2308                              93.8                          144.9314   \n",
       "2309                              94.7                          134.5333   \n",
       "2310                              96.1                          133.4635   \n",
       "\n",
       "     PROPORTIONAL_ATTENDANCE_K_8 PROPORTIONAL_ATTENDANCE_K_8_PCT  \\\n",
       "2306                    154.3409                            97.4   \n",
       "2307                    162.6239                            95.7   \n",
       "2308                    154.4012                            93.9   \n",
       "2309                    141.9881                            94.7   \n",
       "2310                    138.6812                            96.2   \n",
       "\n",
       "     PROPORTIONAL_ATTENDANCE_9_12_90ABV PROPORTIONAL_ATTENDANCE_9_12  \\\n",
       "2306                                  *                            *   \n",
       "2307                                  *                            *   \n",
       "2308                                  *                            *   \n",
       "2309                                  *                            *   \n",
       "2310                                  *                            *   \n",
       "\n",
       "     PROPORTIONAL_ATTENDANCE_9_12_PCT PROPORTIONAL_ATTENDANCE_LEP_PCT  \\\n",
       "2306                                *                               *   \n",
       "2307                                *                               *   \n",
       "2308                                *                               *   \n",
       "2309                                *                               *   \n",
       "2310                                *                               *   \n",
       "\n",
       "     PROPORTIONAL_ATTENDANCE_IEP_PCT PROPORTIONAL_ATTENDANCE_FRL_PCT  \n",
       "2306                            92.7                            94.8  \n",
       "2307                            89.4                            92.7  \n",
       "2308                            85.2                            90.1  \n",
       "2309                            88.5                            91.9  \n",
       "2310                            95.1                            93.4  \n",
       "\n",
       "[5 rows x 36 columns]"
      ]
     },
     "execution_count": 20,
     "metadata": {},
     "output_type": "execute_result"
    }
   ],
   "source": [
    "#Rename column\n",
    "att_all_df = att_all_df.rename(columns={\"DISTRICT_NAME\": \"District Name\"})\n",
    "\n",
    "#Filter by school and scores\n",
    "\n",
    "att_district_list = [\"FRANKLIN CO. R-II\", \"MERAMEC VALLEY R-III\", \"NEW HAVEN\", \"ST. CLAIR R-XIII\", \"SULLIVAN\",\n",
    "    \"UNION R-XI\", \"WASHINGTON\", \"CRYSTAL CITY 47\", \"DESOTO 73\", \"DUNKLIN R-V\", \"FESTUS R-VI\", \"FOX C-6\",\n",
    "    \"GRANDVIEW R-II\", \"HILLSBORO R-III\", \"JEFFERSON CO. R-VII\", \"NORTHWEST R-I\", \"SUNRISE R-IX\", \"WINDSOR C-1\",\n",
    "    \"FERGUSON-FLORISSANT R-II\", \"HANCOCK PLACE\", \"HAZELWOOD\", \"JENNINGS\", \"NORMANDY SCHOOLS COLLABORATIVE\",\n",
    "    \"PATTONVILLE R-III\", \"RITENOUR\", \"RIVERVIEW GARDENS\", \"AFFTON 101\", \"BAYLESS\", \"MEHLVILLE R-IX\", \n",
    "    \"FRANCIS HOWELL R-III\", \"FT. ZUMWALT R-II\", \"ORCHARD FARM R-V\", \"ST. CHARLES R-VI\", \"WENTZVILLE R-IV\",\n",
    "    \"ST. LOUIS CITY\", \"BRENTWOOD\", \"CLAYTON\", \"KIRKWOOD R-VII\", \"LADUE\", \"LINDBERGH SCHOOLS\", \n",
    "    \"MAPLEWOOD-RICHMOND HEIGHTS\", \"PARKWAY C-2\", \"ROCKWOOD R-VI\", \"UNIVERSITY CITY\", \"VALLEY PARK\", \"WEBSTER GROVES\"]\n",
    "\n",
    "att_reduced_1_df = att_all_df.loc[att_all_df[\"District Name\"].isin(att_district_list)]\n",
    "\n",
    "\n",
    "\n",
    "att_reduced_1_df.head()\n",
    "\n",
    "\n",
    "\n",
    "            \n"
   ]
  },
  {
   "cell_type": "code",
   "execution_count": 21,
   "id": "4582ac5f",
   "metadata": {},
   "outputs": [
    {
     "data": {
      "text/html": [
       "<div>\n",
       "<style scoped>\n",
       "    .dataframe tbody tr th:only-of-type {\n",
       "        vertical-align: middle;\n",
       "    }\n",
       "\n",
       "    .dataframe tbody tr th {\n",
       "        vertical-align: top;\n",
       "    }\n",
       "\n",
       "    .dataframe thead th {\n",
       "        text-align: right;\n",
       "    }\n",
       "</style>\n",
       "<table border=\"1\" class=\"dataframe\">\n",
       "  <thead>\n",
       "    <tr style=\"text-align: right;\">\n",
       "      <th></th>\n",
       "      <th>District Name</th>\n",
       "      <th>PROPORTIONAL_ATTENDANCE_TOTAL_PCT</th>\n",
       "      <th>PROFICIENT_PCT</th>\n",
       "      <th>ADVANCED_PCT</th>\n",
       "    </tr>\n",
       "  </thead>\n",
       "  <tbody>\n",
       "    <tr>\n",
       "      <th>0</th>\n",
       "      <td>FRANKLIN CO. R-II</td>\n",
       "      <td>88.9</td>\n",
       "      <td>33.8</td>\n",
       "      <td>37.7</td>\n",
       "    </tr>\n",
       "    <tr>\n",
       "      <th>1</th>\n",
       "      <td>MERAMEC VALLEY R-III</td>\n",
       "      <td>75.7</td>\n",
       "      <td>26.6</td>\n",
       "      <td>17.1</td>\n",
       "    </tr>\n",
       "    <tr>\n",
       "      <th>2</th>\n",
       "      <td>UNION R-XI</td>\n",
       "      <td>79.4</td>\n",
       "      <td>26.8</td>\n",
       "      <td>22.7</td>\n",
       "    </tr>\n",
       "    <tr>\n",
       "      <th>3</th>\n",
       "      <td>ST. CLAIR R-XIII</td>\n",
       "      <td>78</td>\n",
       "      <td>21</td>\n",
       "      <td>11.6</td>\n",
       "    </tr>\n",
       "    <tr>\n",
       "      <th>4</th>\n",
       "      <td>SULLIVAN</td>\n",
       "      <td>79.1</td>\n",
       "      <td>24.2</td>\n",
       "      <td>19</td>\n",
       "    </tr>\n",
       "  </tbody>\n",
       "</table>\n",
       "</div>"
      ],
      "text/plain": [
       "          District Name PROPORTIONAL_ATTENDANCE_TOTAL_PCT PROFICIENT_PCT  \\\n",
       "0     FRANKLIN CO. R-II                              88.9           33.8   \n",
       "1  MERAMEC VALLEY R-III                              75.7           26.6   \n",
       "2            UNION R-XI                              79.4           26.8   \n",
       "3      ST. CLAIR R-XIII                                78             21   \n",
       "4              SULLIVAN                              79.1           24.2   \n",
       "\n",
       "  ADVANCED_PCT  \n",
       "0         37.7  \n",
       "1         17.1  \n",
       "2         22.7  \n",
       "3         11.6  \n",
       "4           19  "
      ]
     },
     "execution_count": 21,
     "metadata": {},
     "output_type": "execute_result"
    }
   ],
   "source": [
    "#Merge Attendance\n",
    "\n",
    "\n",
    "\n",
    "#Filter\n",
    "att_reduced_1_df = att_reduced_1_df.loc[att_reduced_1_df[\"YEAR\"]==2023]\n",
    "\n",
    "#Make Smaller\n",
    "att_all_2_df = att_reduced_1_df[[\"District Name\",\"PROPORTIONAL_ATTENDANCE_TOTAL_PCT\" ]]\n",
    "\n",
    "#Merge\n",
    "att_merge_df = pd.merge(att_all_2_df, prof_adv_math_reduced_df, how=\"inner\", on=[\"District Name\"])\n",
    "\n",
    "att_merge_df.head()"
   ]
  },
  {
   "cell_type": "code",
   "execution_count": 22,
   "id": "f47b3c7c",
   "metadata": {
    "scrolled": true
   },
   "outputs": [
    {
     "data": {
      "text/html": [
       "<div>\n",
       "<style scoped>\n",
       "    .dataframe tbody tr th:only-of-type {\n",
       "        vertical-align: middle;\n",
       "    }\n",
       "\n",
       "    .dataframe tbody tr th {\n",
       "        vertical-align: top;\n",
       "    }\n",
       "\n",
       "    .dataframe thead th {\n",
       "        text-align: right;\n",
       "    }\n",
       "</style>\n",
       "<table border=\"1\" class=\"dataframe\">\n",
       "  <thead>\n",
       "    <tr style=\"text-align: right;\">\n",
       "      <th></th>\n",
       "      <th>District Name</th>\n",
       "      <th>PROPORTIONAL_ATTENDANCE_TOTAL_PCT</th>\n",
       "      <th>PROFICIENT_PCT</th>\n",
       "      <th>ADVANCED_PCT</th>\n",
       "      <th>COUNTY</th>\n",
       "      <th>TOTAL_PCT</th>\n",
       "    </tr>\n",
       "  </thead>\n",
       "  <tbody>\n",
       "    <tr>\n",
       "      <th>0</th>\n",
       "      <td>FRANKLIN CO. R-II</td>\n",
       "      <td>88.9</td>\n",
       "      <td>33.8</td>\n",
       "      <td>37.7</td>\n",
       "      <td>Franklin County</td>\n",
       "      <td>71.5</td>\n",
       "    </tr>\n",
       "    <tr>\n",
       "      <th>1</th>\n",
       "      <td>MERAMEC VALLEY R-III</td>\n",
       "      <td>75.7</td>\n",
       "      <td>26.6</td>\n",
       "      <td>17.1</td>\n",
       "      <td>Franklin County</td>\n",
       "      <td>43.7</td>\n",
       "    </tr>\n",
       "    <tr>\n",
       "      <th>2</th>\n",
       "      <td>UNION R-XI</td>\n",
       "      <td>79.4</td>\n",
       "      <td>26.8</td>\n",
       "      <td>22.7</td>\n",
       "      <td>Franklin County</td>\n",
       "      <td>49.5</td>\n",
       "    </tr>\n",
       "    <tr>\n",
       "      <th>3</th>\n",
       "      <td>ST. CLAIR R-XIII</td>\n",
       "      <td>78.0</td>\n",
       "      <td>21.0</td>\n",
       "      <td>11.6</td>\n",
       "      <td>Franklin County</td>\n",
       "      <td>32.6</td>\n",
       "    </tr>\n",
       "    <tr>\n",
       "      <th>4</th>\n",
       "      <td>SULLIVAN</td>\n",
       "      <td>79.1</td>\n",
       "      <td>24.2</td>\n",
       "      <td>19.0</td>\n",
       "      <td>Franklin County</td>\n",
       "      <td>43.2</td>\n",
       "    </tr>\n",
       "    <tr>\n",
       "      <th>5</th>\n",
       "      <td>NEW HAVEN</td>\n",
       "      <td>93.7</td>\n",
       "      <td>29.8</td>\n",
       "      <td>20.0</td>\n",
       "      <td>Franklin County</td>\n",
       "      <td>49.8</td>\n",
       "    </tr>\n",
       "    <tr>\n",
       "      <th>6</th>\n",
       "      <td>WASHINGTON</td>\n",
       "      <td>81.6</td>\n",
       "      <td>28.0</td>\n",
       "      <td>19.5</td>\n",
       "      <td>Franklin County</td>\n",
       "      <td>47.5</td>\n",
       "    </tr>\n",
       "    <tr>\n",
       "      <th>7</th>\n",
       "      <td>NORTHWEST R-I</td>\n",
       "      <td>75.4</td>\n",
       "      <td>23.8</td>\n",
       "      <td>17.6</td>\n",
       "      <td>Jefferson County</td>\n",
       "      <td>41.4</td>\n",
       "    </tr>\n",
       "    <tr>\n",
       "      <th>8</th>\n",
       "      <td>GRANDVIEW R-II</td>\n",
       "      <td>95.0</td>\n",
       "      <td>12.6</td>\n",
       "      <td>5.6</td>\n",
       "      <td>Jefferson County</td>\n",
       "      <td>18.2</td>\n",
       "    </tr>\n",
       "    <tr>\n",
       "      <th>9</th>\n",
       "      <td>HILLSBORO R-III</td>\n",
       "      <td>78.9</td>\n",
       "      <td>25.8</td>\n",
       "      <td>16.6</td>\n",
       "      <td>Jefferson County</td>\n",
       "      <td>42.4</td>\n",
       "    </tr>\n",
       "    <tr>\n",
       "      <th>10</th>\n",
       "      <td>DUNKLIN R-V</td>\n",
       "      <td>74.0</td>\n",
       "      <td>23.1</td>\n",
       "      <td>10.9</td>\n",
       "      <td>Jefferson County</td>\n",
       "      <td>34.0</td>\n",
       "    </tr>\n",
       "    <tr>\n",
       "      <th>11</th>\n",
       "      <td>FESTUS R-VI</td>\n",
       "      <td>83.2</td>\n",
       "      <td>30.3</td>\n",
       "      <td>33.8</td>\n",
       "      <td>Jefferson County</td>\n",
       "      <td>64.1</td>\n",
       "    </tr>\n",
       "    <tr>\n",
       "      <th>12</th>\n",
       "      <td>JEFFERSON CO. R-VII</td>\n",
       "      <td>84.3</td>\n",
       "      <td>27.5</td>\n",
       "      <td>19.0</td>\n",
       "      <td>Jefferson County</td>\n",
       "      <td>46.5</td>\n",
       "    </tr>\n",
       "    <tr>\n",
       "      <th>13</th>\n",
       "      <td>SUNRISE R-IX</td>\n",
       "      <td>89.2</td>\n",
       "      <td>26.1</td>\n",
       "      <td>10.4</td>\n",
       "      <td>Jefferson County</td>\n",
       "      <td>36.5</td>\n",
       "    </tr>\n",
       "    <tr>\n",
       "      <th>14</th>\n",
       "      <td>WINDSOR C-1</td>\n",
       "      <td>81.1</td>\n",
       "      <td>24.9</td>\n",
       "      <td>13.0</td>\n",
       "      <td>Jefferson County</td>\n",
       "      <td>37.9</td>\n",
       "    </tr>\n",
       "    <tr>\n",
       "      <th>15</th>\n",
       "      <td>FOX C-6</td>\n",
       "      <td>78.0</td>\n",
       "      <td>27.3</td>\n",
       "      <td>21.8</td>\n",
       "      <td>Jefferson County</td>\n",
       "      <td>49.1</td>\n",
       "    </tr>\n",
       "    <tr>\n",
       "      <th>16</th>\n",
       "      <td>CRYSTAL CITY 47</td>\n",
       "      <td>80.0</td>\n",
       "      <td>23.6</td>\n",
       "      <td>21.1</td>\n",
       "      <td>Jefferson County</td>\n",
       "      <td>44.7</td>\n",
       "    </tr>\n",
       "    <tr>\n",
       "      <th>17</th>\n",
       "      <td>DESOTO 73</td>\n",
       "      <td>78.0</td>\n",
       "      <td>29.9</td>\n",
       "      <td>24.7</td>\n",
       "      <td>Jefferson County</td>\n",
       "      <td>54.6</td>\n",
       "    </tr>\n",
       "    <tr>\n",
       "      <th>18</th>\n",
       "      <td>FT. ZUMWALT R-II</td>\n",
       "      <td>80.9</td>\n",
       "      <td>29.1</td>\n",
       "      <td>29.3</td>\n",
       "      <td>St. Charles County</td>\n",
       "      <td>58.4</td>\n",
       "    </tr>\n",
       "    <tr>\n",
       "      <th>19</th>\n",
       "      <td>FRANCIS HOWELL R-III</td>\n",
       "      <td>81.9</td>\n",
       "      <td>28.1</td>\n",
       "      <td>33.1</td>\n",
       "      <td>St. Charles County</td>\n",
       "      <td>61.2</td>\n",
       "    </tr>\n",
       "    <tr>\n",
       "      <th>20</th>\n",
       "      <td>WENTZVILLE R-IV</td>\n",
       "      <td>78.2</td>\n",
       "      <td>27.0</td>\n",
       "      <td>24.1</td>\n",
       "      <td>St. Charles County</td>\n",
       "      <td>51.1</td>\n",
       "    </tr>\n",
       "    <tr>\n",
       "      <th>21</th>\n",
       "      <td>ST. CHARLES R-VI</td>\n",
       "      <td>80.3</td>\n",
       "      <td>25.8</td>\n",
       "      <td>22.4</td>\n",
       "      <td>St. Charles County</td>\n",
       "      <td>48.2</td>\n",
       "    </tr>\n",
       "    <tr>\n",
       "      <th>22</th>\n",
       "      <td>ORCHARD FARM R-V</td>\n",
       "      <td>82.1</td>\n",
       "      <td>24.8</td>\n",
       "      <td>28.2</td>\n",
       "      <td>St. Charles County</td>\n",
       "      <td>53.0</td>\n",
       "    </tr>\n",
       "    <tr>\n",
       "      <th>23</th>\n",
       "      <td>HAZELWOOD</td>\n",
       "      <td>57.7</td>\n",
       "      <td>12.8</td>\n",
       "      <td>6.4</td>\n",
       "      <td>North County</td>\n",
       "      <td>19.2</td>\n",
       "    </tr>\n",
       "    <tr>\n",
       "      <th>24</th>\n",
       "      <td>FERGUSON-FLORISSANT R-II</td>\n",
       "      <td>56.0</td>\n",
       "      <td>11.3</td>\n",
       "      <td>5.1</td>\n",
       "      <td>North County</td>\n",
       "      <td>16.4</td>\n",
       "    </tr>\n",
       "    <tr>\n",
       "      <th>25</th>\n",
       "      <td>PATTONVILLE R-III</td>\n",
       "      <td>76.0</td>\n",
       "      <td>22.7</td>\n",
       "      <td>15.5</td>\n",
       "      <td>North County</td>\n",
       "      <td>38.2</td>\n",
       "    </tr>\n",
       "    <tr>\n",
       "      <th>26</th>\n",
       "      <td>ROCKWOOD R-VI</td>\n",
       "      <td>81.9</td>\n",
       "      <td>28.1</td>\n",
       "      <td>29.7</td>\n",
       "      <td>West County</td>\n",
       "      <td>57.8</td>\n",
       "    </tr>\n",
       "    <tr>\n",
       "      <th>27</th>\n",
       "      <td>KIRKWOOD R-VII</td>\n",
       "      <td>87.2</td>\n",
       "      <td>25.9</td>\n",
       "      <td>32.2</td>\n",
       "      <td>West County</td>\n",
       "      <td>58.1</td>\n",
       "    </tr>\n",
       "    <tr>\n",
       "      <th>28</th>\n",
       "      <td>LINDBERGH SCHOOLS</td>\n",
       "      <td>85.1</td>\n",
       "      <td>28.4</td>\n",
       "      <td>27.3</td>\n",
       "      <td>West County</td>\n",
       "      <td>55.7</td>\n",
       "    </tr>\n",
       "    <tr>\n",
       "      <th>29</th>\n",
       "      <td>MEHLVILLE R-IX</td>\n",
       "      <td>80.5</td>\n",
       "      <td>22.4</td>\n",
       "      <td>15.5</td>\n",
       "      <td>South County</td>\n",
       "      <td>37.9</td>\n",
       "    </tr>\n",
       "    <tr>\n",
       "      <th>30</th>\n",
       "      <td>PARKWAY C-2</td>\n",
       "      <td>82.9</td>\n",
       "      <td>26.8</td>\n",
       "      <td>30.6</td>\n",
       "      <td>West County</td>\n",
       "      <td>57.4</td>\n",
       "    </tr>\n",
       "    <tr>\n",
       "      <th>31</th>\n",
       "      <td>AFFTON 101</td>\n",
       "      <td>72.0</td>\n",
       "      <td>21.2</td>\n",
       "      <td>12.5</td>\n",
       "      <td>South County</td>\n",
       "      <td>33.7</td>\n",
       "    </tr>\n",
       "    <tr>\n",
       "      <th>32</th>\n",
       "      <td>BAYLESS</td>\n",
       "      <td>81.1</td>\n",
       "      <td>24.1</td>\n",
       "      <td>27.1</td>\n",
       "      <td>South County</td>\n",
       "      <td>51.2</td>\n",
       "    </tr>\n",
       "    <tr>\n",
       "      <th>33</th>\n",
       "      <td>BRENTWOOD</td>\n",
       "      <td>82.4</td>\n",
       "      <td>20.2</td>\n",
       "      <td>42.3</td>\n",
       "      <td>West County</td>\n",
       "      <td>62.5</td>\n",
       "    </tr>\n",
       "    <tr>\n",
       "      <th>34</th>\n",
       "      <td>CLAYTON</td>\n",
       "      <td>86.8</td>\n",
       "      <td>23.6</td>\n",
       "      <td>46.6</td>\n",
       "      <td>West County</td>\n",
       "      <td>70.2</td>\n",
       "    </tr>\n",
       "    <tr>\n",
       "      <th>35</th>\n",
       "      <td>HANCOCK PLACE</td>\n",
       "      <td>65.8</td>\n",
       "      <td>20.2</td>\n",
       "      <td>13.4</td>\n",
       "      <td>North County</td>\n",
       "      <td>33.6</td>\n",
       "    </tr>\n",
       "    <tr>\n",
       "      <th>36</th>\n",
       "      <td>JENNINGS</td>\n",
       "      <td>50.1</td>\n",
       "      <td>9.4</td>\n",
       "      <td>6.0</td>\n",
       "      <td>North County</td>\n",
       "      <td>15.4</td>\n",
       "    </tr>\n",
       "    <tr>\n",
       "      <th>37</th>\n",
       "      <td>LADUE</td>\n",
       "      <td>83.0</td>\n",
       "      <td>23.5</td>\n",
       "      <td>43.3</td>\n",
       "      <td>West County</td>\n",
       "      <td>66.8</td>\n",
       "    </tr>\n",
       "    <tr>\n",
       "      <th>38</th>\n",
       "      <td>MAPLEWOOD-RICHMOND HEIGHTS</td>\n",
       "      <td>77.1</td>\n",
       "      <td>21.5</td>\n",
       "      <td>26.0</td>\n",
       "      <td>West County</td>\n",
       "      <td>47.5</td>\n",
       "    </tr>\n",
       "    <tr>\n",
       "      <th>39</th>\n",
       "      <td>NORMANDY SCHOOLS COLLABORATIVE</td>\n",
       "      <td>47.3</td>\n",
       "      <td>5.1</td>\n",
       "      <td>1.9</td>\n",
       "      <td>North County</td>\n",
       "      <td>7.0</td>\n",
       "    </tr>\n",
       "    <tr>\n",
       "      <th>40</th>\n",
       "      <td>RITENOUR</td>\n",
       "      <td>59.8</td>\n",
       "      <td>14.9</td>\n",
       "      <td>7.4</td>\n",
       "      <td>North County</td>\n",
       "      <td>22.3</td>\n",
       "    </tr>\n",
       "    <tr>\n",
       "      <th>41</th>\n",
       "      <td>RIVERVIEW GARDENS</td>\n",
       "      <td>38.7</td>\n",
       "      <td>2.2</td>\n",
       "      <td>0.3</td>\n",
       "      <td>North County</td>\n",
       "      <td>2.5</td>\n",
       "    </tr>\n",
       "    <tr>\n",
       "      <th>42</th>\n",
       "      <td>UNIVERSITY CITY</td>\n",
       "      <td>56.8</td>\n",
       "      <td>15.8</td>\n",
       "      <td>10.0</td>\n",
       "      <td>West County</td>\n",
       "      <td>25.8</td>\n",
       "    </tr>\n",
       "    <tr>\n",
       "      <th>43</th>\n",
       "      <td>VALLEY PARK</td>\n",
       "      <td>80.6</td>\n",
       "      <td>27.5</td>\n",
       "      <td>15.4</td>\n",
       "      <td>West County</td>\n",
       "      <td>42.9</td>\n",
       "    </tr>\n",
       "    <tr>\n",
       "      <th>44</th>\n",
       "      <td>WEBSTER GROVES</td>\n",
       "      <td>86.0</td>\n",
       "      <td>27.9</td>\n",
       "      <td>37.4</td>\n",
       "      <td>West County</td>\n",
       "      <td>65.3</td>\n",
       "    </tr>\n",
       "    <tr>\n",
       "      <th>45</th>\n",
       "      <td>ST. LOUIS CITY</td>\n",
       "      <td>49.4</td>\n",
       "      <td>7.9</td>\n",
       "      <td>8.3</td>\n",
       "      <td>St. Louis City</td>\n",
       "      <td>16.2</td>\n",
       "    </tr>\n",
       "  </tbody>\n",
       "</table>\n",
       "</div>"
      ],
      "text/plain": [
       "                     District Name  PROPORTIONAL_ATTENDANCE_TOTAL_PCT  \\\n",
       "0                FRANKLIN CO. R-II                               88.9   \n",
       "1             MERAMEC VALLEY R-III                               75.7   \n",
       "2                       UNION R-XI                               79.4   \n",
       "3                 ST. CLAIR R-XIII                               78.0   \n",
       "4                         SULLIVAN                               79.1   \n",
       "5                        NEW HAVEN                               93.7   \n",
       "6                       WASHINGTON                               81.6   \n",
       "7                    NORTHWEST R-I                               75.4   \n",
       "8                   GRANDVIEW R-II                               95.0   \n",
       "9                  HILLSBORO R-III                               78.9   \n",
       "10                     DUNKLIN R-V                               74.0   \n",
       "11                     FESTUS R-VI                               83.2   \n",
       "12             JEFFERSON CO. R-VII                               84.3   \n",
       "13                    SUNRISE R-IX                               89.2   \n",
       "14                     WINDSOR C-1                               81.1   \n",
       "15                         FOX C-6                               78.0   \n",
       "16                 CRYSTAL CITY 47                               80.0   \n",
       "17                       DESOTO 73                               78.0   \n",
       "18                FT. ZUMWALT R-II                               80.9   \n",
       "19            FRANCIS HOWELL R-III                               81.9   \n",
       "20                 WENTZVILLE R-IV                               78.2   \n",
       "21                ST. CHARLES R-VI                               80.3   \n",
       "22                ORCHARD FARM R-V                               82.1   \n",
       "23                       HAZELWOOD                               57.7   \n",
       "24        FERGUSON-FLORISSANT R-II                               56.0   \n",
       "25               PATTONVILLE R-III                               76.0   \n",
       "26                   ROCKWOOD R-VI                               81.9   \n",
       "27                  KIRKWOOD R-VII                               87.2   \n",
       "28               LINDBERGH SCHOOLS                               85.1   \n",
       "29                  MEHLVILLE R-IX                               80.5   \n",
       "30                     PARKWAY C-2                               82.9   \n",
       "31                      AFFTON 101                               72.0   \n",
       "32                         BAYLESS                               81.1   \n",
       "33                       BRENTWOOD                               82.4   \n",
       "34                         CLAYTON                               86.8   \n",
       "35                   HANCOCK PLACE                               65.8   \n",
       "36                        JENNINGS                               50.1   \n",
       "37                           LADUE                               83.0   \n",
       "38      MAPLEWOOD-RICHMOND HEIGHTS                               77.1   \n",
       "39  NORMANDY SCHOOLS COLLABORATIVE                               47.3   \n",
       "40                        RITENOUR                               59.8   \n",
       "41               RIVERVIEW GARDENS                               38.7   \n",
       "42                 UNIVERSITY CITY                               56.8   \n",
       "43                     VALLEY PARK                               80.6   \n",
       "44                  WEBSTER GROVES                               86.0   \n",
       "45                  ST. LOUIS CITY                               49.4   \n",
       "\n",
       "    PROFICIENT_PCT  ADVANCED_PCT              COUNTY  TOTAL_PCT  \n",
       "0             33.8          37.7     Franklin County       71.5  \n",
       "1             26.6          17.1     Franklin County       43.7  \n",
       "2             26.8          22.7     Franklin County       49.5  \n",
       "3             21.0          11.6     Franklin County       32.6  \n",
       "4             24.2          19.0     Franklin County       43.2  \n",
       "5             29.8          20.0     Franklin County       49.8  \n",
       "6             28.0          19.5     Franklin County       47.5  \n",
       "7             23.8          17.6    Jefferson County       41.4  \n",
       "8             12.6           5.6    Jefferson County       18.2  \n",
       "9             25.8          16.6    Jefferson County       42.4  \n",
       "10            23.1          10.9    Jefferson County       34.0  \n",
       "11            30.3          33.8    Jefferson County       64.1  \n",
       "12            27.5          19.0    Jefferson County       46.5  \n",
       "13            26.1          10.4    Jefferson County       36.5  \n",
       "14            24.9          13.0    Jefferson County       37.9  \n",
       "15            27.3          21.8    Jefferson County       49.1  \n",
       "16            23.6          21.1    Jefferson County       44.7  \n",
       "17            29.9          24.7    Jefferson County       54.6  \n",
       "18            29.1          29.3  St. Charles County       58.4  \n",
       "19            28.1          33.1  St. Charles County       61.2  \n",
       "20            27.0          24.1  St. Charles County       51.1  \n",
       "21            25.8          22.4  St. Charles County       48.2  \n",
       "22            24.8          28.2  St. Charles County       53.0  \n",
       "23            12.8           6.4        North County       19.2  \n",
       "24            11.3           5.1        North County       16.4  \n",
       "25            22.7          15.5        North County       38.2  \n",
       "26            28.1          29.7         West County       57.8  \n",
       "27            25.9          32.2         West County       58.1  \n",
       "28            28.4          27.3         West County       55.7  \n",
       "29            22.4          15.5        South County       37.9  \n",
       "30            26.8          30.6         West County       57.4  \n",
       "31            21.2          12.5        South County       33.7  \n",
       "32            24.1          27.1        South County       51.2  \n",
       "33            20.2          42.3         West County       62.5  \n",
       "34            23.6          46.6         West County       70.2  \n",
       "35            20.2          13.4        North County       33.6  \n",
       "36             9.4           6.0        North County       15.4  \n",
       "37            23.5          43.3         West County       66.8  \n",
       "38            21.5          26.0         West County       47.5  \n",
       "39             5.1           1.9        North County        7.0  \n",
       "40            14.9           7.4        North County       22.3  \n",
       "41             2.2           0.3        North County        2.5  \n",
       "42            15.8          10.0         West County       25.8  \n",
       "43            27.5          15.4         West County       42.9  \n",
       "44            27.9          37.4         West County       65.3  \n",
       "45             7.9           8.3      St. Louis City       16.2  "
      ]
     },
     "execution_count": 22,
     "metadata": {},
     "output_type": "execute_result"
    }
   ],
   "source": [
    "#Add csv with districts and merge\n",
    "dist_count_df = dist_count_df.rename(columns={\"DISTRICT_NAME\": \"District Name\"})\n",
    "\n",
    "att_merge_df = pd.merge(att_merge_df, dist_count_df, how=\"inner\", on=[\"District Name\"])\n",
    "\n",
    "#Change data types\n",
    "#att_merge_df = att_merge_df.rename(columns={0:\"FR_PCT\"})\n",
    "att_merge_df = att_merge_df.astype({\"PROFICIENT_PCT\": \"float64\"})\n",
    "att_merge_df = att_merge_df.astype({\"ADVANCED_PCT\":\"float64\"})\n",
    "att_merge_df = att_merge_df.astype({\"PROPORTIONAL_ATTENDANCE_TOTAL_PCT\": \"float64\"})\n",
    "#att_merge_1_df = att_merge_1_df.astype({\"TOTAL_PCT\":\"float64\"})\n",
    "#att_merge_df[\"PROPORTIONAL_ATTENDANCE_TOTAL_PCT\"]=att_merge_df[\"PROPORTIONAL_ATTENDANCE_TOTAL_PCT\"].round(0)\n",
    "\n",
    "#Add Totals Prof/Adv\n",
    "total_pct = []\n",
    "for index, row in att_merge_df.iterrows():\n",
    "     total_pct.append((row[\"PROFICIENT_PCT\"]+row[\"ADVANCED_PCT\"]))\n",
    "    \n",
    "att_merge_df[\"TOTAL_PCT\"] = total_pct\n",
    "\n",
    "\n",
    "\n",
    "att_merge_df"
   ]
  },
  {
   "cell_type": "code",
   "execution_count": 23,
   "id": "dc79b798",
   "metadata": {},
   "outputs": [
    {
     "data": {
      "text/html": [
       "<div>\n",
       "<style scoped>\n",
       "    .dataframe tbody tr th:only-of-type {\n",
       "        vertical-align: middle;\n",
       "    }\n",
       "\n",
       "    .dataframe tbody tr th {\n",
       "        vertical-align: top;\n",
       "    }\n",
       "\n",
       "    .dataframe thead th {\n",
       "        text-align: right;\n",
       "    }\n",
       "</style>\n",
       "<table border=\"1\" class=\"dataframe\">\n",
       "  <thead>\n",
       "    <tr style=\"text-align: right;\">\n",
       "      <th></th>\n",
       "      <th>PROPORTIONAL_ATTENDANCE_TOTAL_PCT</th>\n",
       "      <th>TOTAL_PCT</th>\n",
       "      <th>COUNTY</th>\n",
       "    </tr>\n",
       "  </thead>\n",
       "  <tbody>\n",
       "    <tr>\n",
       "      <th>0</th>\n",
       "      <td>88.9</td>\n",
       "      <td>71.5</td>\n",
       "      <td>Franklin County</td>\n",
       "    </tr>\n",
       "    <tr>\n",
       "      <th>1</th>\n",
       "      <td>75.7</td>\n",
       "      <td>43.7</td>\n",
       "      <td>Franklin County</td>\n",
       "    </tr>\n",
       "    <tr>\n",
       "      <th>2</th>\n",
       "      <td>79.4</td>\n",
       "      <td>49.5</td>\n",
       "      <td>Franklin County</td>\n",
       "    </tr>\n",
       "    <tr>\n",
       "      <th>3</th>\n",
       "      <td>78.0</td>\n",
       "      <td>32.6</td>\n",
       "      <td>Franklin County</td>\n",
       "    </tr>\n",
       "    <tr>\n",
       "      <th>4</th>\n",
       "      <td>79.1</td>\n",
       "      <td>43.2</td>\n",
       "      <td>Franklin County</td>\n",
       "    </tr>\n",
       "  </tbody>\n",
       "</table>\n",
       "</div>"
      ],
      "text/plain": [
       "   PROPORTIONAL_ATTENDANCE_TOTAL_PCT  TOTAL_PCT           COUNTY\n",
       "0                               88.9       71.5  Franklin County\n",
       "1                               75.7       43.7  Franklin County\n",
       "2                               79.4       49.5  Franklin County\n",
       "3                               78.0       32.6  Franklin County\n",
       "4                               79.1       43.2  Franklin County"
      ]
     },
     "execution_count": 23,
     "metadata": {},
     "output_type": "execute_result"
    }
   ],
   "source": [
    "#reduce\n",
    "att_merge_2_df = att_merge_df[[\"PROPORTIONAL_ATTENDANCE_TOTAL_PCT\", \"TOTAL_PCT\", \"COUNTY\"]]\n",
    "att_merge_2_df.head()"
   ]
  },
  {
   "cell_type": "code",
   "execution_count": 24,
   "id": "2b2743e4",
   "metadata": {},
   "outputs": [
    {
     "name": "stderr",
     "output_type": "stream",
     "text": [
      "/var/folders/x5/vxxw6g_96f337pf8r_zr_15h0000gn/T/ipykernel_1690/3677068292.py:2: SettingWithCopyWarning: \n",
      "A value is trying to be set on a copy of a slice from a DataFrame.\n",
      "Try using .loc[row_indexer,col_indexer] = value instead\n",
      "\n",
      "See the caveats in the documentation: https://pandas.pydata.org/pandas-docs/stable/user_guide/indexing.html#returning-a-view-versus-a-copy\n",
      "  att_merge_2_df[\"PROPORTIONAL_ATTENDANCE_TOTAL_PCT\"] = att_merge_2_df[\"PROPORTIONAL_ATTENDANCE_TOTAL_PCT\"].round(0)\n",
      "/var/folders/x5/vxxw6g_96f337pf8r_zr_15h0000gn/T/ipykernel_1690/3677068292.py:3: SettingWithCopyWarning: \n",
      "A value is trying to be set on a copy of a slice from a DataFrame.\n",
      "Try using .loc[row_indexer,col_indexer] = value instead\n",
      "\n",
      "See the caveats in the documentation: https://pandas.pydata.org/pandas-docs/stable/user_guide/indexing.html#returning-a-view-versus-a-copy\n",
      "  att_merge_2_df[\"TOTAL_PCT\"]=att_merge_2_df[\"TOTAL_PCT\"].round(0)\n"
     ]
    },
    {
     "data": {
      "text/html": [
       "<div>\n",
       "<style scoped>\n",
       "    .dataframe tbody tr th:only-of-type {\n",
       "        vertical-align: middle;\n",
       "    }\n",
       "\n",
       "    .dataframe tbody tr th {\n",
       "        vertical-align: top;\n",
       "    }\n",
       "\n",
       "    .dataframe thead th {\n",
       "        text-align: right;\n",
       "    }\n",
       "</style>\n",
       "<table border=\"1\" class=\"dataframe\">\n",
       "  <thead>\n",
       "    <tr style=\"text-align: right;\">\n",
       "      <th></th>\n",
       "      <th>PROPORTIONAL_ATTENDANCE_TOTAL_PCT</th>\n",
       "      <th>TOTAL_PCT</th>\n",
       "      <th>COUNTY</th>\n",
       "    </tr>\n",
       "  </thead>\n",
       "  <tbody>\n",
       "    <tr>\n",
       "      <th>0</th>\n",
       "      <td>89.0</td>\n",
       "      <td>72.0</td>\n",
       "      <td>Franklin County</td>\n",
       "    </tr>\n",
       "    <tr>\n",
       "      <th>1</th>\n",
       "      <td>76.0</td>\n",
       "      <td>44.0</td>\n",
       "      <td>Franklin County</td>\n",
       "    </tr>\n",
       "    <tr>\n",
       "      <th>2</th>\n",
       "      <td>79.0</td>\n",
       "      <td>50.0</td>\n",
       "      <td>Franklin County</td>\n",
       "    </tr>\n",
       "    <tr>\n",
       "      <th>3</th>\n",
       "      <td>78.0</td>\n",
       "      <td>33.0</td>\n",
       "      <td>Franklin County</td>\n",
       "    </tr>\n",
       "    <tr>\n",
       "      <th>4</th>\n",
       "      <td>79.0</td>\n",
       "      <td>43.0</td>\n",
       "      <td>Franklin County</td>\n",
       "    </tr>\n",
       "  </tbody>\n",
       "</table>\n",
       "</div>"
      ],
      "text/plain": [
       "   PROPORTIONAL_ATTENDANCE_TOTAL_PCT  TOTAL_PCT           COUNTY\n",
       "0                               89.0       72.0  Franklin County\n",
       "1                               76.0       44.0  Franklin County\n",
       "2                               79.0       50.0  Franklin County\n",
       "3                               78.0       33.0  Franklin County\n",
       "4                               79.0       43.0  Franklin County"
      ]
     },
     "execution_count": 24,
     "metadata": {},
     "output_type": "execute_result"
    }
   ],
   "source": [
    "#Round\n",
    "att_merge_2_df[\"PROPORTIONAL_ATTENDANCE_TOTAL_PCT\"] = att_merge_2_df[\"PROPORTIONAL_ATTENDANCE_TOTAL_PCT\"].round(0)\n",
    "att_merge_2_df[\"TOTAL_PCT\"]=att_merge_2_df[\"TOTAL_PCT\"].round(0)\n",
    "\n",
    "att_merge_2_df.head()"
   ]
  },
  {
   "cell_type": "code",
   "execution_count": 25,
   "id": "c4a06726",
   "metadata": {},
   "outputs": [
    {
     "data": {
      "image/png": "[encoded data removed]",
      "text/plain": [
       "<Figure size 800x600 with 1 Axes>"
      ]
     },
     "metadata": {},
     "output_type": "display_data"
    }
   ],
   "source": [
    "#colors for counties\n",
    "county_colors = {'South County': \"crimson\", 'West County': \"darkorange\", 'Jefferson County': \"gold\", 'North County': \"forestgreen\",\n",
    "       'St. Charles County': \"dodgerblue\", 'Franklin County': \"darkviolet\", 'St. Louis City': \"mediumvioletred\"}\n",
    "\n",
    "plt.figure(figsize=(8, 6))\n",
    "\n",
    "for county, color in county_colors.items():\n",
    "    subset=att_merge_2_df[att_merge_df[\"COUNTY\"]==county]\n",
    "    plt.scatter(subset[\"PROPORTIONAL_ATTENDANCE_TOTAL_PCT\"], subset[\"TOTAL_PCT\"], c=color, label = county, s=80)\n",
    "plt.xlabel(\"Percent Attendance\")\n",
    "plt.ylabel(\"Percent Proficient or Advanced\")\n",
    "plt.title(\"Attendance Rates vs. MAP Scores by County\")\n",
    "\n",
    "\n",
    "# Add generation labels to the side\n",
    "#for county, color in county_colors.items():\n",
    "   # plt.text(0.95, merged_df[merged_df['COUNTY'] == county]['TOTAL_PCT'].mean(), county, color=color, fontsize=10, ha='right', va='center')\n",
    "    \n",
    "plt.legend()\n",
    "plt.grid()\n",
    "\n",
    "# Save the plot as an image file\n",
    "plt.savefig('CountiesVsATT.png')\n",
    "\n",
    "plt.show()"
   ]
  },
  {
   "cell_type": "code",
   "execution_count": 28,
   "id": "202a2c45-806f-49ec-ae6a-b52770d210ff",
   "metadata": {},
   "outputs": [
    {
     "data": {
      "text/plain": [
       "Index(['District Name', 'PROPORTIONAL_ATTENDANCE_TOTAL_PCT', 'PROFICIENT_PCT',\n",
       "       'ADVANCED_PCT', 'COUNTY', 'TOTAL_PCT'],\n",
       "      dtype='object')"
      ]
     },
     "execution_count": 28,
     "metadata": {},
     "output_type": "execute_result"
    }
   ],
   "source": [
    "att_merge_df.columns"
   ]
  },
  {
   "cell_type": "code",
   "execution_count": 55,
   "id": "698bbaaa-8e2e-4932-9752-d54dcdc7e0db",
   "metadata": {},
   "outputs": [
    {
     "data": {
      "text/html": [
       "<div>\n",
       "<style scoped>\n",
       "    .dataframe tbody tr th:only-of-type {\n",
       "        vertical-align: middle;\n",
       "    }\n",
       "\n",
       "    .dataframe tbody tr th {\n",
       "        vertical-align: top;\n",
       "    }\n",
       "\n",
       "    .dataframe thead th {\n",
       "        text-align: right;\n",
       "    }\n",
       "</style>\n",
       "<table border=\"1\" class=\"dataframe\">\n",
       "  <thead>\n",
       "    <tr style=\"text-align: right;\">\n",
       "      <th></th>\n",
       "      <th>District Name</th>\n",
       "      <th>PROPORTIONAL_ATTENDANCE_TOTAL_PCT</th>\n",
       "      <th>COUNTY</th>\n",
       "      <th>TOTAL_PCT</th>\n",
       "      <th>FR_PCT</th>\n",
       "    </tr>\n",
       "  </thead>\n",
       "  <tbody>\n",
       "    <tr>\n",
       "      <th>0</th>\n",
       "      <td>FRANKLIN CO. R-II</td>\n",
       "      <td>88.9</td>\n",
       "      <td>Franklin County</td>\n",
       "      <td>71.5</td>\n",
       "      <td>24.8</td>\n",
       "    </tr>\n",
       "    <tr>\n",
       "      <th>1</th>\n",
       "      <td>MERAMEC VALLEY R-III</td>\n",
       "      <td>75.7</td>\n",
       "      <td>Franklin County</td>\n",
       "      <td>43.7</td>\n",
       "      <td>41.4</td>\n",
       "    </tr>\n",
       "    <tr>\n",
       "      <th>2</th>\n",
       "      <td>UNION R-XI</td>\n",
       "      <td>79.4</td>\n",
       "      <td>Franklin County</td>\n",
       "      <td>49.5</td>\n",
       "      <td>42.3</td>\n",
       "    </tr>\n",
       "    <tr>\n",
       "      <th>3</th>\n",
       "      <td>ST. CLAIR R-XIII</td>\n",
       "      <td>78.0</td>\n",
       "      <td>Franklin County</td>\n",
       "      <td>32.6</td>\n",
       "      <td>48.1</td>\n",
       "    </tr>\n",
       "    <tr>\n",
       "      <th>4</th>\n",
       "      <td>SULLIVAN</td>\n",
       "      <td>79.1</td>\n",
       "      <td>Franklin County</td>\n",
       "      <td>43.2</td>\n",
       "      <td>46.8</td>\n",
       "    </tr>\n",
       "  </tbody>\n",
       "</table>\n",
       "</div>"
      ],
      "text/plain": [
       "          District Name  PROPORTIONAL_ATTENDANCE_TOTAL_PCT           COUNTY  \\\n",
       "0     FRANKLIN CO. R-II                               88.9  Franklin County   \n",
       "1  MERAMEC VALLEY R-III                               75.7  Franklin County   \n",
       "2            UNION R-XI                               79.4  Franklin County   \n",
       "3      ST. CLAIR R-XIII                               78.0  Franklin County   \n",
       "4              SULLIVAN                               79.1  Franklin County   \n",
       "\n",
       "   TOTAL_PCT  FR_PCT  \n",
       "0       71.5    24.8  \n",
       "1       43.7    41.4  \n",
       "2       49.5    42.3  \n",
       "3       32.6    48.1  \n",
       "4       43.2    46.8  "
      ]
     },
     "execution_count": 55,
     "metadata": {},
     "output_type": "execute_result"
    }
   ],
   "source": [
    "fr_att_merge_df = pd.merge(att_merge_df, fr_dist_df, how=\"inner\", on=[\"District Name\", \"TOTAL_PCT\"])\n",
    "fr_att_merge_filter_df = fr_att_merge_df[[\"District Name\", \"PROPORTIONAL_ATTENDANCE_TOTAL_PCT\", \"COUNTY\", \"TOTAL_PCT\", \"FR_PCT\"]]\n",
    "fr_att_merge_filter_df.head()"
   ]
  },
  {
   "cell_type": "code",
   "execution_count": 37,
   "id": "d4ad754f",
   "metadata": {},
   "outputs": [
    {
     "data": {
      "application/vnd.plotly.v1+json": {
       "config": {
        "plotlyServerURL": "https://plot.ly"
       },
       "data": [
        {
         "customdata": [
          [
           "FRANKLIN CO. R-II"
          ],
          [
           "MERAMEC VALLEY R-III"
          ],
          [
           "UNION R-XI"
          ],
          [
           "ST. CLAIR R-XIII"
          ],
          [
           "SULLIVAN"
          ],
          [
           "NEW HAVEN"
          ],
          [
           "WASHINGTON"
          ]
         ],
         "hovertemplate": "COUNTY=Franklin County<br>PROPORTIONAL_ATTENDANCE_TOTAL_PCT=%{x}<br>TOTAL_PCT=%{y}<br>District Name=%{customdata[0]}<extra></extra>",
         "legendgroup": "Franklin County",
         "marker": {
          "color": "#636efa",
          "symbol": "circle"
         },
         "mode": "markers",
         "name": "Franklin County",
         "orientation": "v",
         "showlegend": true,
         "type": "scatter",
         "x": [
          88.9,
          75.7,
          79.4,
          78,
          79.1,
          93.7,
          81.6
         ],
         "xaxis": "x",
         "y": [
          71.5,
          43.7,
          49.5,
          32.6,
          43.2,
          49.8,
          47.5
         ],
         "yaxis": "y"
        },
        {
         "customdata": [
          [
           "NORTHWEST R-I"
          ],
          [
           "GRANDVIEW R-II"
          ],
          [
           "HILLSBORO R-III"
          ],
          [
           "DUNKLIN R-V"
          ],
          [
           "FESTUS R-VI"
          ],
          [
           "JEFFERSON CO. R-VII"
          ],
          [
           "SUNRISE R-IX"
          ],
          [
           "WINDSOR C-1"
          ],
          [
           "FOX C-6"
          ],
          [
           "CRYSTAL CITY 47"
          ],
          [
           "DESOTO 73"
          ]
         ],
         "hovertemplate": "COUNTY=Jefferson County<br>PROPORTIONAL_ATTENDANCE_TOTAL_PCT=%{x}<br>TOTAL_PCT=%{y}<br>District Name=%{customdata[0]}<extra></extra>",
         "legendgroup": "Jefferson County",
         "marker": {
          "color": "#EF553B",
          "symbol": "circle"
         },
         "mode": "markers",
         "name": "Jefferson County",
         "orientation": "v",
         "showlegend": true,
         "type": "scatter",
         "x": [
          75.4,
          95,
          78.9,
          74,
          83.2,
          84.3,
          89.2,
          81.1,
          78,
          80,
          78
         ],
         "xaxis": "x",
         "y": [
          41.400000000000006,
          18.2,
          42.400000000000006,
          34,
          64.1,
          46.5,
          36.5,
          37.9,
          49.1,
          44.7,
          54.599999999999994
         ],
         "yaxis": "y"
        },
        {
         "customdata": [
          [
           "FT. ZUMWALT R-II"
          ],
          [
           "FRANCIS HOWELL R-III"
          ],
          [
           "WENTZVILLE R-IV"
          ],
          [
           "ST. CHARLES R-VI"
          ],
          [
           "ORCHARD FARM R-V"
          ]
         ],
         "hovertemplate": "COUNTY=St. Charles County<br>PROPORTIONAL_ATTENDANCE_TOTAL_PCT=%{x}<br>TOTAL_PCT=%{y}<br>District Name=%{customdata[0]}<extra></extra>",
         "legendgroup": "St. Charles County",
         "marker": {
          "color": "#00cc96",
          "symbol": "circle"
         },
         "mode": "markers",
         "name": "St. Charles County",
         "orientation": "v",
         "showlegend": true,
         "type": "scatter",
         "x": [
          80.9,
          81.9,
          78.2,
          80.3,
          82.1
         ],
         "xaxis": "x",
         "y": [
          58.400000000000006,
          61.2,
          51.1,
          48.2,
          53
         ],
         "yaxis": "y"
        },
        {
         "customdata": [
          [
           "HAZELWOOD"
          ],
          [
           "FERGUSON-FLORISSANT R-II"
          ],
          [
           "PATTONVILLE R-III"
          ],
          [
           "HANCOCK PLACE"
          ],
          [
           "JENNINGS"
          ],
          [
           "NORMANDY SCHOOLS COLLABORATIVE"
          ],
          [
           "RITENOUR"
          ],
          [
           "RIVERVIEW GARDENS"
          ]
         ],
         "hovertemplate": "COUNTY=North County<br>PROPORTIONAL_ATTENDANCE_TOTAL_PCT=%{x}<br>TOTAL_PCT=%{y}<br>District Name=%{customdata[0]}<extra></extra>",
         "legendgroup": "North County",
         "marker": {
          "color": "#ab63fa",
          "symbol": "circle"
         },
         "mode": "markers",
         "name": "North County",
         "orientation": "v",
         "showlegend": true,
         "type": "scatter",
         "x": [
          57.7,
          56,
          76,
          65.8,
          50.1,
          47.3,
          59.8,
          38.7
         ],
         "xaxis": "x",
         "y": [
          19.200000000000003,
          16.4,
          38.2,
          33.6,
          15.4,
          7,
          22.3,
          2.5
         ],
         "yaxis": "y"
        },
        {
         "customdata": [
          [
           "ROCKWOOD R-VI"
          ],
          [
           "KIRKWOOD R-VII"
          ],
          [
           "LINDBERGH SCHOOLS"
          ],
          [
           "PARKWAY C-2"
          ],
          [
           "BRENTWOOD"
          ],
          [
           "CLAYTON"
          ],
          [
           "LADUE"
          ],
          [
           "MAPLEWOOD-RICHMOND HEIGHTS"
          ],
          [
           "UNIVERSITY CITY"
          ],
          [
           "VALLEY PARK"
          ],
          [
           "WEBSTER GROVES"
          ]
         ],
         "hovertemplate": "COUNTY=West County<br>PROPORTIONAL_ATTENDANCE_TOTAL_PCT=%{x}<br>TOTAL_PCT=%{y}<br>District Name=%{customdata[0]}<extra></extra>",
         "legendgroup": "West County",
         "marker": {
          "color": "#FFA15A",
          "symbol": "circle"
         },
         "mode": "markers",
         "name": "West County",
         "orientation": "v",
         "showlegend": true,
         "type": "scatter",
         "x": [
          81.9,
          87.2,
          85.1,
          82.9,
          82.4,
          86.8,
          83,
          77.1,
          56.8,
          80.6,
          86
         ],
         "xaxis": "x",
         "y": [
          57.8,
          58.1,
          55.7,
          57.400000000000006,
          62.5,
          70.2,
          66.8,
          47.5,
          25.8,
          42.9,
          65.3
         ],
         "yaxis": "y"
        },
        {
         "customdata": [
          [
           "MEHLVILLE R-IX"
          ],
          [
           "AFFTON 101"
          ],
          [
           "BAYLESS"
          ]
         ],
         "hovertemplate": "COUNTY=South County<br>PROPORTIONAL_ATTENDANCE_TOTAL_PCT=%{x}<br>TOTAL_PCT=%{y}<br>District Name=%{customdata[0]}<extra></extra>",
         "legendgroup": "South County",
         "marker": {
          "color": "#19d3f3",
          "symbol": "circle"
         },
         "mode": "markers",
         "name": "South County",
         "orientation": "v",
         "showlegend": true,
         "type": "scatter",
         "x": [
          80.5,
          72,
          81.1
         ],
         "xaxis": "x",
         "y": [
          37.9,
          33.7,
          51.2
         ],
         "yaxis": "y"
        },
        {
         "customdata": [
          [
           "ST. LOUIS CITY"
          ]
         ],
         "hovertemplate": "COUNTY=St. Louis City<br>PROPORTIONAL_ATTENDANCE_TOTAL_PCT=%{x}<br>TOTAL_PCT=%{y}<br>District Name=%{customdata[0]}<extra></extra>",
         "legendgroup": "St. Louis City",
         "marker": {
          "color": "#FF6692",
          "symbol": "circle"
         },
         "mode": "markers",
         "name": "St. Louis City",
         "orientation": "v",
         "showlegend": true,
         "type": "scatter",
         "x": [
          49.4
         ],
         "xaxis": "x",
         "y": [
          16.200000000000003
         ],
         "yaxis": "y"
        }
       ],
       "layout": {
        "autosize": true,
        "legend": {
         "title": {
          "text": "COUNTY"
         },
         "tracegroupgap": 0
        },
        "margin": {
         "t": 60
        },
        "template": {
         "data": {
          "bar": [
           {
            "error_x": {
             "color": "#2a3f5f"
            },
            "error_y": {
             "color": "#2a3f5f"
            },
            "marker": {
             "line": {
              "color": "#E5ECF6",
              "width": 0.5
             },
             "pattern": {
              "fillmode": "overlay",
              "size": 10,
              "solidity": 0.2
             }
            },
            "type": "bar"
           }
          ],
          "barpolar": [
           {
            "marker": {
             "line": {
              "color": "#E5ECF6",
              "width": 0.5
             },
             "pattern": {
              "fillmode": "overlay",
              "size": 10,
              "solidity": 0.2
             }
            },
            "type": "barpolar"
           }
          ],
          "carpet": [
           {
            "aaxis": {
             "endlinecolor": "#2a3f5f",
             "gridcolor": "white",
             "linecolor": "white",
             "minorgridcolor": "white",
             "startlinecolor": "#2a3f5f"
            },
            "baxis": {
             "endlinecolor": "#2a3f5f",
             "gridcolor": "white",
             "linecolor": "white",
             "minorgridcolor": "white",
             "startlinecolor": "#2a3f5f"
            },
            "type": "carpet"
           }
          ],
          "choropleth": [
           {
            "colorbar": {
             "outlinewidth": 0,
             "ticks": ""
            },
            "type": "choropleth"
           }
          ],
          "contour": [
           {
            "colorbar": {
             "outlinewidth": 0,
             "ticks": ""
            },
            "colorscale": [
             [
              0,
              "#0d0887"
             ],
             [
              0.1111111111111111,
              "#46039f"
             ],
             [
              0.2222222222222222,
              "#7201a8"
             ],
             [
              0.3333333333333333,
              "#9c179e"
             ],
             [
              0.4444444444444444,
              "#bd3786"
             ],
             [
              0.5555555555555556,
              "#d8576b"
             ],
             [
              0.6666666666666666,
              "#ed7953"
             ],
             [
              0.7777777777777778,
              "#fb9f3a"
             ],
             [
              0.8888888888888888,
              "#fdca26"
             ],
             [
              1,
              "#f0f921"
             ]
            ],
            "type": "contour"
           }
          ],
          "contourcarpet": [
           {
            "colorbar": {
             "outlinewidth": 0,
             "ticks": ""
            },
            "type": "contourcarpet"
           }
          ],
          "heatmap": [
           {
            "colorbar": {
             "outlinewidth": 0,
             "ticks": ""
            },
            "colorscale": [
             [
              0,
              "#0d0887"
             ],
             [
              0.1111111111111111,
              "#46039f"
             ],
             [
              0.2222222222222222,
              "#7201a8"
             ],
             [
              0.3333333333333333,
              "#9c179e"
             ],
             [
              0.4444444444444444,
              "#bd3786"
             ],
             [
              0.5555555555555556,
              "#d8576b"
             ],
             [
              0.6666666666666666,
              "#ed7953"
             ],
             [
              0.7777777777777778,
              "#fb9f3a"
             ],
             [
              0.8888888888888888,
              "#fdca26"
             ],
             [
              1,
              "#f0f921"
             ]
            ],
            "type": "heatmap"
           }
          ],
          "heatmapgl": [
           {
            "colorbar": {
             "outlinewidth": 0,
             "ticks": ""
            },
            "colorscale": [
             [
              0,
              "#0d0887"
             ],
             [
              0.1111111111111111,
              "#46039f"
             ],
             [
              0.2222222222222222,
              "#7201a8"
             ],
             [
              0.3333333333333333,
              "#9c179e"
             ],
             [
              0.4444444444444444,
              "#bd3786"
             ],
             [
              0.5555555555555556,
              "#d8576b"
             ],
             [
              0.6666666666666666,
              "#ed7953"
             ],
             [
              0.7777777777777778,
              "#fb9f3a"
             ],
             [
              0.8888888888888888,
              "#fdca26"
             ],
             [
              1,
              "#f0f921"
             ]
            ],
            "type": "heatmapgl"
           }
          ],
          "histogram": [
           {
            "marker": {
             "pattern": {
              "fillmode": "overlay",
              "size": 10,
              "solidity": 0.2
             }
            },
            "type": "histogram"
           }
          ],
          "histogram2d": [
           {
            "colorbar": {
             "outlinewidth": 0,
             "ticks": ""
            },
            "colorscale": [
             [
              0,
              "#0d0887"
             ],
             [
              0.1111111111111111,
              "#46039f"
             ],
             [
              0.2222222222222222,
              "#7201a8"
             ],
             [
              0.3333333333333333,
              "#9c179e"
             ],
             [
              0.4444444444444444,
              "#bd3786"
             ],
             [
              0.5555555555555556,
              "#d8576b"
             ],
             [
              0.6666666666666666,
              "#ed7953"
             ],
             [
              0.7777777777777778,
              "#fb9f3a"
             ],
             [
              0.8888888888888888,
              "#fdca26"
             ],
             [
              1,
              "#f0f921"
             ]
            ],
            "type": "histogram2d"
           }
          ],
          "histogram2dcontour": [
           {
            "colorbar": {
             "outlinewidth": 0,
             "ticks": ""
            },
            "colorscale": [
             [
              0,
              "#0d0887"
             ],
             [
              0.1111111111111111,
              "#46039f"
             ],
             [
              0.2222222222222222,
              "#7201a8"
             ],
             [
              0.3333333333333333,
              "#9c179e"
             ],
             [
              0.4444444444444444,
              "#bd3786"
             ],
             [
              0.5555555555555556,
              "#d8576b"
             ],
             [
              0.6666666666666666,
              "#ed7953"
             ],
             [
              0.7777777777777778,
              "#fb9f3a"
             ],
             [
              0.8888888888888888,
              "#fdca26"
             ],
             [
              1,
              "#f0f921"
             ]
            ],
            "type": "histogram2dcontour"
           }
          ],
          "mesh3d": [
           {
            "colorbar": {
             "outlinewidth": 0,
             "ticks": ""
            },
            "type": "mesh3d"
           }
          ],
          "parcoords": [
           {
            "line": {
             "colorbar": {
              "outlinewidth": 0,
              "ticks": ""
             }
            },
            "type": "parcoords"
           }
          ],
          "pie": [
           {
            "automargin": true,
            "type": "pie"
           }
          ],
          "scatter": [
           {
            "fillpattern": {
             "fillmode": "overlay",
             "size": 10,
             "solidity": 0.2
            },
            "type": "scatter"
           }
          ],
          "scatter3d": [
           {
            "line": {
             "colorbar": {
              "outlinewidth": 0,
              "ticks": ""
             }
            },
            "marker": {
             "colorbar": {
              "outlinewidth": 0,
              "ticks": ""
             }
            },
            "type": "scatter3d"
           }
          ],
          "scattercarpet": [
           {
            "marker": {
             "colorbar": {
              "outlinewidth": 0,
              "ticks": ""
             }
            },
            "type": "scattercarpet"
           }
          ],
          "scattergeo": [
           {
            "marker": {
             "colorbar": {
              "outlinewidth": 0,
              "ticks": ""
             }
            },
            "type": "scattergeo"
           }
          ],
          "scattergl": [
           {
            "marker": {
             "colorbar": {
              "outlinewidth": 0,
              "ticks": ""
             }
            },
            "type": "scattergl"
           }
          ],
          "scattermapbox": [
           {
            "marker": {
             "colorbar": {
              "outlinewidth": 0,
              "ticks": ""
             }
            },
            "type": "scattermapbox"
           }
          ],
          "scatterpolar": [
           {
            "marker": {
             "colorbar": {
              "outlinewidth": 0,
              "ticks": ""
             }
            },
            "type": "scatterpolar"
           }
          ],
          "scatterpolargl": [
           {
            "marker": {
             "colorbar": {
              "outlinewidth": 0,
              "ticks": ""
             }
            },
            "type": "scatterpolargl"
           }
          ],
          "scatterternary": [
           {
            "marker": {
             "colorbar": {
              "outlinewidth": 0,
              "ticks": ""
             }
            },
            "type": "scatterternary"
           }
          ],
          "surface": [
           {
            "colorbar": {
             "outlinewidth": 0,
             "ticks": ""
            },
            "colorscale": [
             [
              0,
              "#0d0887"
             ],
             [
              0.1111111111111111,
              "#46039f"
             ],
             [
              0.2222222222222222,
              "#7201a8"
             ],
             [
              0.3333333333333333,
              "#9c179e"
             ],
             [
              0.4444444444444444,
              "#bd3786"
             ],
             [
              0.5555555555555556,
              "#d8576b"
             ],
             [
              0.6666666666666666,
              "#ed7953"
             ],
             [
              0.7777777777777778,
              "#fb9f3a"
             ],
             [
              0.8888888888888888,
              "#fdca26"
             ],
             [
              1,
              "#f0f921"
             ]
            ],
            "type": "surface"
           }
          ],
          "table": [
           {
            "cells": {
             "fill": {
              "color": "#EBF0F8"
             },
             "line": {
              "color": "white"
             }
            },
            "header": {
             "fill": {
              "color": "#C8D4E3"
             },
             "line": {
              "color": "white"
             }
            },
            "type": "table"
           }
          ]
         },
         "layout": {
          "annotationdefaults": {
           "arrowcolor": "#2a3f5f",
           "arrowhead": 0,
           "arrowwidth": 1
          },
          "autotypenumbers": "strict",
          "coloraxis": {
           "colorbar": {
            "outlinewidth": 0,
            "ticks": ""
           }
          },
          "colorscale": {
           "diverging": [
            [
             0,
             "#8e0152"
            ],
            [
             0.1,
             "#c51b7d"
            ],
            [
             0.2,
             "#de77ae"
            ],
            [
             0.3,
             "#f1b6da"
            ],
            [
             0.4,
             "#fde0ef"
            ],
            [
             0.5,
             "#f7f7f7"
            ],
            [
             0.6,
             "#e6f5d0"
            ],
            [
             0.7,
             "#b8e186"
            ],
            [
             0.8,
             "#7fbc41"
            ],
            [
             0.9,
             "#4d9221"
            ],
            [
             1,
             "#276419"
            ]
           ],
           "sequential": [
            [
             0,
             "#0d0887"
            ],
            [
             0.1111111111111111,
             "#46039f"
            ],
            [
             0.2222222222222222,
             "#7201a8"
            ],
            [
             0.3333333333333333,
             "#9c179e"
            ],
            [
             0.4444444444444444,
             "#bd3786"
            ],
            [
             0.5555555555555556,
             "#d8576b"
            ],
            [
             0.6666666666666666,
             "#ed7953"
            ],
            [
             0.7777777777777778,
             "#fb9f3a"
            ],
            [
             0.8888888888888888,
             "#fdca26"
            ],
            [
             1,
             "#f0f921"
            ]
           ],
           "sequentialminus": [
            [
             0,
             "#0d0887"
            ],
            [
             0.1111111111111111,
             "#46039f"
            ],
            [
             0.2222222222222222,
             "#7201a8"
            ],
            [
             0.3333333333333333,
             "#9c179e"
            ],
            [
             0.4444444444444444,
             "#bd3786"
            ],
            [
             0.5555555555555556,
             "#d8576b"
            ],
            [
             0.6666666666666666,
             "#ed7953"
            ],
            [
             0.7777777777777778,
             "#fb9f3a"
            ],
            [
             0.8888888888888888,
             "#fdca26"
            ],
            [
             1,
             "#f0f921"
            ]
           ]
          },
          "colorway": [
           "#636efa",
           "#EF553B",
           "#00cc96",
           "#ab63fa",
           "#FFA15A",
           "#19d3f3",
           "#FF6692",
           "#B6E880",
           "#FF97FF",
           "#FECB52"
          ],
          "font": {
           "color": "#2a3f5f"
          },
          "geo": {
           "bgcolor": "white",
           "lakecolor": "white",
           "landcolor": "#E5ECF6",
           "showlakes": true,
           "showland": true,
           "subunitcolor": "white"
          },
          "hoverlabel": {
           "align": "left"
          },
          "hovermode": "closest",
          "mapbox": {
           "style": "light"
          },
          "paper_bgcolor": "white",
          "plot_bgcolor": "#E5ECF6",
          "polar": {
           "angularaxis": {
            "gridcolor": "white",
            "linecolor": "white",
            "ticks": ""
           },
           "bgcolor": "#E5ECF6",
           "radialaxis": {
            "gridcolor": "white",
            "linecolor": "white",
            "ticks": ""
           }
          },
          "scene": {
           "xaxis": {
            "backgroundcolor": "#E5ECF6",
            "gridcolor": "white",
            "gridwidth": 2,
            "linecolor": "white",
            "showbackground": true,
            "ticks": "",
            "zerolinecolor": "white"
           },
           "yaxis": {
            "backgroundcolor": "#E5ECF6",
            "gridcolor": "white",
            "gridwidth": 2,
            "linecolor": "white",
            "showbackground": true,
            "ticks": "",
            "zerolinecolor": "white"
           },
           "zaxis": {
            "backgroundcolor": "#E5ECF6",
            "gridcolor": "white",
            "gridwidth": 2,
            "linecolor": "white",
            "showbackground": true,
            "ticks": "",
            "zerolinecolor": "white"
           }
          },
          "shapedefaults": {
           "line": {
            "color": "#2a3f5f"
           }
          },
          "ternary": {
           "aaxis": {
            "gridcolor": "white",
            "linecolor": "white",
            "ticks": ""
           },
           "baxis": {
            "gridcolor": "white",
            "linecolor": "white",
            "ticks": ""
           },
           "bgcolor": "#E5ECF6",
           "caxis": {
            "gridcolor": "white",
            "linecolor": "white",
            "ticks": ""
           }
          },
          "title": {
           "x": 0.05
          },
          "xaxis": {
           "automargin": true,
           "gridcolor": "white",
           "linecolor": "white",
           "ticks": "",
           "title": {
            "standoff": 15
           },
           "zerolinecolor": "white",
           "zerolinewidth": 2
          },
          "yaxis": {
           "automargin": true,
           "gridcolor": "white",
           "linecolor": "white",
           "ticks": "",
           "title": {
            "standoff": 15
           },
           "zerolinecolor": "white",
           "zerolinewidth": 2
          }
         }
        },
        "xaxis": {
         "anchor": "y",
         "autorange": true,
         "domain": [
          0,
          1
         ],
         "range": [
          35.020780441937006,
          98.679219558063
         ],
         "title": {
          "text": "PROPORTIONAL_ATTENDANCE_TOTAL_PCT"
         },
         "type": "linear"
        },
        "yaxis": {
         "anchor": "x",
         "autorange": true,
         "domain": [
          0,
          1
         ],
         "range": [
          -2.8425196850393704,
          76.84251968503938
         ],
         "title": {
          "text": "TOTAL_PCT"
         },
         "type": "linear"
        }
       }
      },
      "image/png": "[encoded data removed]",
      "text/html": [
       "<div>                            <div id=\"7fb93226-b59e-408b-923a-c7030c742445\" class=\"plotly-graph-div\" style=\"height:525px; width:100%;\"></div>            <script type=\"text/javascript\">                require([\"plotly\"], function(Plotly) {                    window.PLOTLYENV=window.PLOTLYENV || {};                                    if (document.getElementById(\"7fb93226-b59e-408b-923a-c7030c742445\")) {                    Plotly.newPlot(                        \"7fb93226-b59e-408b-923a-c7030c742445\",                        [{\"customdata\":[[\"FRANKLIN CO. R-II\"],[\"MERAMEC VALLEY R-III\"],[\"UNION R-XI\"],[\"ST. CLAIR R-XIII\"],[\"SULLIVAN\"],[\"NEW HAVEN\"],[\"WASHINGTON\"]],\"hovertemplate\":\"COUNTY=Franklin County\\u003cbr\\u003ePROPORTIONAL_ATTENDANCE_TOTAL_PCT=%{x}\\u003cbr\\u003eTOTAL_PCT=%{y}\\u003cbr\\u003eDistrict Name=%{customdata[0]}\\u003cextra\\u003e\\u003c\\u002fextra\\u003e\",\"legendgroup\":\"Franklin County\",\"marker\":{\"color\":\"#636efa\",\"symbol\":\"circle\"},\"mode\":\"markers\",\"name\":\"Franklin County\",\"orientation\":\"v\",\"showlegend\":true,\"x\":[88.9,75.7,79.4,78.0,79.1,93.7,81.6],\"xaxis\":\"x\",\"y\":[71.5,43.7,49.5,32.6,43.2,49.8,47.5],\"yaxis\":\"y\",\"type\":\"scatter\"},{\"customdata\":[[\"NORTHWEST R-I\"],[\"GRANDVIEW R-II\"],[\"HILLSBORO R-III\"],[\"DUNKLIN R-V\"],[\"FESTUS R-VI\"],[\"JEFFERSON CO. R-VII\"],[\"SUNRISE R-IX\"],[\"WINDSOR C-1\"],[\"FOX C-6\"],[\"CRYSTAL CITY 47\"],[\"DESOTO 73\"]],\"hovertemplate\":\"COUNTY=Jefferson County\\u003cbr\\u003ePROPORTIONAL_ATTENDANCE_TOTAL_PCT=%{x}\\u003cbr\\u003eTOTAL_PCT=%{y}\\u003cbr\\u003eDistrict Name=%{customdata[0]}\\u003cextra\\u003e\\u003c\\u002fextra\\u003e\",\"legendgroup\":\"Jefferson County\",\"marker\":{\"color\":\"#EF553B\",\"symbol\":\"circle\"},\"mode\":\"markers\",\"name\":\"Jefferson County\",\"orientation\":\"v\",\"showlegend\":true,\"x\":[75.4,95.0,78.9,74.0,83.2,84.3,89.2,81.1,78.0,80.0,78.0],\"xaxis\":\"x\",\"y\":[41.400000000000006,18.2,42.400000000000006,34.0,64.1,46.5,36.5,37.9,49.1,44.7,54.599999999999994],\"yaxis\":\"y\",\"type\":\"scatter\"},{\"customdata\":[[\"FT. ZUMWALT R-II\"],[\"FRANCIS HOWELL R-III\"],[\"WENTZVILLE R-IV\"],[\"ST. CHARLES R-VI\"],[\"ORCHARD FARM R-V\"]],\"hovertemplate\":\"COUNTY=St. Charles County\\u003cbr\\u003ePROPORTIONAL_ATTENDANCE_TOTAL_PCT=%{x}\\u003cbr\\u003eTOTAL_PCT=%{y}\\u003cbr\\u003eDistrict Name=%{customdata[0]}\\u003cextra\\u003e\\u003c\\u002fextra\\u003e\",\"legendgroup\":\"St. Charles County\",\"marker\":{\"color\":\"#00cc96\",\"symbol\":\"circle\"},\"mode\":\"markers\",\"name\":\"St. Charles County\",\"orientation\":\"v\",\"showlegend\":true,\"x\":[80.9,81.9,78.2,80.3,82.1],\"xaxis\":\"x\",\"y\":[58.400000000000006,61.2,51.1,48.2,53.0],\"yaxis\":\"y\",\"type\":\"scatter\"},{\"customdata\":[[\"HAZELWOOD\"],[\"FERGUSON-FLORISSANT R-II\"],[\"PATTONVILLE R-III\"],[\"HANCOCK PLACE\"],[\"JENNINGS\"],[\"NORMANDY SCHOOLS COLLABORATIVE\"],[\"RITENOUR\"],[\"RIVERVIEW GARDENS\"]],\"hovertemplate\":\"COUNTY=North County\\u003cbr\\u003ePROPORTIONAL_ATTENDANCE_TOTAL_PCT=%{x}\\u003cbr\\u003eTOTAL_PCT=%{y}\\u003cbr\\u003eDistrict Name=%{customdata[0]}\\u003cextra\\u003e\\u003c\\u002fextra\\u003e\",\"legendgroup\":\"North County\",\"marker\":{\"color\":\"#ab63fa\",\"symbol\":\"circle\"},\"mode\":\"markers\",\"name\":\"North County\",\"orientation\":\"v\",\"showlegend\":true,\"x\":[57.7,56.0,76.0,65.8,50.1,47.3,59.8,38.7],\"xaxis\":\"x\",\"y\":[19.200000000000003,16.4,38.2,33.6,15.4,7.0,22.3,2.5],\"yaxis\":\"y\",\"type\":\"scatter\"},{\"customdata\":[[\"ROCKWOOD R-VI\"],[\"KIRKWOOD R-VII\"],[\"LINDBERGH SCHOOLS\"],[\"PARKWAY C-2\"],[\"BRENTWOOD\"],[\"CLAYTON\"],[\"LADUE\"],[\"MAPLEWOOD-RICHMOND HEIGHTS\"],[\"UNIVERSITY CITY\"],[\"VALLEY PARK\"],[\"WEBSTER GROVES\"]],\"hovertemplate\":\"COUNTY=West County\\u003cbr\\u003ePROPORTIONAL_ATTENDANCE_TOTAL_PCT=%{x}\\u003cbr\\u003eTOTAL_PCT=%{y}\\u003cbr\\u003eDistrict Name=%{customdata[0]}\\u003cextra\\u003e\\u003c\\u002fextra\\u003e\",\"legendgroup\":\"West County\",\"marker\":{\"color\":\"#FFA15A\",\"symbol\":\"circle\"},\"mode\":\"markers\",\"name\":\"West County\",\"orientation\":\"v\",\"showlegend\":true,\"x\":[81.9,87.2,85.1,82.9,82.4,86.8,83.0,77.1,56.8,80.6,86.0],\"xaxis\":\"x\",\"y\":[57.8,58.1,55.7,57.400000000000006,62.5,70.2,66.8,47.5,25.8,42.9,65.3],\"yaxis\":\"y\",\"type\":\"scatter\"},{\"customdata\":[[\"MEHLVILLE R-IX\"],[\"AFFTON 101\"],[\"BAYLESS\"]],\"hovertemplate\":\"COUNTY=South County\\u003cbr\\u003ePROPORTIONAL_ATTENDANCE_TOTAL_PCT=%{x}\\u003cbr\\u003eTOTAL_PCT=%{y}\\u003cbr\\u003eDistrict Name=%{customdata[0]}\\u003cextra\\u003e\\u003c\\u002fextra\\u003e\",\"legendgroup\":\"South County\",\"marker\":{\"color\":\"#19d3f3\",\"symbol\":\"circle\"},\"mode\":\"markers\",\"name\":\"South County\",\"orientation\":\"v\",\"showlegend\":true,\"x\":[80.5,72.0,81.1],\"xaxis\":\"x\",\"y\":[37.9,33.7,51.2],\"yaxis\":\"y\",\"type\":\"scatter\"},{\"customdata\":[[\"ST. LOUIS CITY\"]],\"hovertemplate\":\"COUNTY=St. Louis City\\u003cbr\\u003ePROPORTIONAL_ATTENDANCE_TOTAL_PCT=%{x}\\u003cbr\\u003eTOTAL_PCT=%{y}\\u003cbr\\u003eDistrict Name=%{customdata[0]}\\u003cextra\\u003e\\u003c\\u002fextra\\u003e\",\"legendgroup\":\"St. Louis City\",\"marker\":{\"color\":\"#FF6692\",\"symbol\":\"circle\"},\"mode\":\"markers\",\"name\":\"St. Louis City\",\"orientation\":\"v\",\"showlegend\":true,\"x\":[49.4],\"xaxis\":\"x\",\"y\":[16.200000000000003],\"yaxis\":\"y\",\"type\":\"scatter\"}],                        {\"template\":{\"data\":{\"histogram2dcontour\":[{\"type\":\"histogram2dcontour\",\"colorbar\":{\"outlinewidth\":0,\"ticks\":\"\"},\"colorscale\":[[0.0,\"#0d0887\"],[0.1111111111111111,\"#46039f\"],[0.2222222222222222,\"#7201a8\"],[0.3333333333333333,\"#9c179e\"],[0.4444444444444444,\"#bd3786\"],[0.5555555555555556,\"#d8576b\"],[0.6666666666666666,\"#ed7953\"],[0.7777777777777778,\"#fb9f3a\"],[0.8888888888888888,\"#fdca26\"],[1.0,\"#f0f921\"]]}],\"choropleth\":[{\"type\":\"choropleth\",\"colorbar\":{\"outlinewidth\":0,\"ticks\":\"\"}}],\"histogram2d\":[{\"type\":\"histogram2d\",\"colorbar\":{\"outlinewidth\":0,\"ticks\":\"\"},\"colorscale\":[[0.0,\"#0d0887\"],[0.1111111111111111,\"#46039f\"],[0.2222222222222222,\"#7201a8\"],[0.3333333333333333,\"#9c179e\"],[0.4444444444444444,\"#bd3786\"],[0.5555555555555556,\"#d8576b\"],[0.6666666666666666,\"#ed7953\"],[0.7777777777777778,\"#fb9f3a\"],[0.8888888888888888,\"#fdca26\"],[1.0,\"#f0f921\"]]}],\"heatmap\":[{\"type\":\"heatmap\",\"colorbar\":{\"outlinewidth\":0,\"ticks\":\"\"},\"colorscale\":[[0.0,\"#0d0887\"],[0.1111111111111111,\"#46039f\"],[0.2222222222222222,\"#7201a8\"],[0.3333333333333333,\"#9c179e\"],[0.4444444444444444,\"#bd3786\"],[0.5555555555555556,\"#d8576b\"],[0.6666666666666666,\"#ed7953\"],[0.7777777777777778,\"#fb9f3a\"],[0.8888888888888888,\"#fdca26\"],[1.0,\"#f0f921\"]]}],\"heatmapgl\":[{\"type\":\"heatmapgl\",\"colorbar\":{\"outlinewidth\":0,\"ticks\":\"\"},\"colorscale\":[[0.0,\"#0d0887\"],[0.1111111111111111,\"#46039f\"],[0.2222222222222222,\"#7201a8\"],[0.3333333333333333,\"#9c179e\"],[0.4444444444444444,\"#bd3786\"],[0.5555555555555556,\"#d8576b\"],[0.6666666666666666,\"#ed7953\"],[0.7777777777777778,\"#fb9f3a\"],[0.8888888888888888,\"#fdca26\"],[1.0,\"#f0f921\"]]}],\"contourcarpet\":[{\"type\":\"contourcarpet\",\"colorbar\":{\"outlinewidth\":0,\"ticks\":\"\"}}],\"contour\":[{\"type\":\"contour\",\"colorbar\":{\"outlinewidth\":0,\"ticks\":\"\"},\"colorscale\":[[0.0,\"#0d0887\"],[0.1111111111111111,\"#46039f\"],[0.2222222222222222,\"#7201a8\"],[0.3333333333333333,\"#9c179e\"],[0.4444444444444444,\"#bd3786\"],[0.5555555555555556,\"#d8576b\"],[0.6666666666666666,\"#ed7953\"],[0.7777777777777778,\"#fb9f3a\"],[0.8888888888888888,\"#fdca26\"],[1.0,\"#f0f921\"]]}],\"surface\":[{\"type\":\"surface\",\"colorbar\":{\"outlinewidth\":0,\"ticks\":\"\"},\"colorscale\":[[0.0,\"#0d0887\"],[0.1111111111111111,\"#46039f\"],[0.2222222222222222,\"#7201a8\"],[0.3333333333333333,\"#9c179e\"],[0.4444444444444444,\"#bd3786\"],[0.5555555555555556,\"#d8576b\"],[0.6666666666666666,\"#ed7953\"],[0.7777777777777778,\"#fb9f3a\"],[0.8888888888888888,\"#fdca26\"],[1.0,\"#f0f921\"]]}],\"mesh3d\":[{\"type\":\"mesh3d\",\"colorbar\":{\"outlinewidth\":0,\"ticks\":\"\"}}],\"scatter\":[{\"fillpattern\":{\"fillmode\":\"overlay\",\"size\":10,\"solidity\":0.2},\"type\":\"scatter\"}],\"parcoords\":[{\"type\":\"parcoords\",\"line\":{\"colorbar\":{\"outlinewidth\":0,\"ticks\":\"\"}}}],\"scatterpolargl\":[{\"type\":\"scatterpolargl\",\"marker\":{\"colorbar\":{\"outlinewidth\":0,\"ticks\":\"\"}}}],\"bar\":[{\"error_x\":{\"color\":\"#2a3f5f\"},\"error_y\":{\"color\":\"#2a3f5f\"},\"marker\":{\"line\":{\"color\":\"#E5ECF6\",\"width\":0.5},\"pattern\":{\"fillmode\":\"overlay\",\"size\":10,\"solidity\":0.2}},\"type\":\"bar\"}],\"scattergeo\":[{\"type\":\"scattergeo\",\"marker\":{\"colorbar\":{\"outlinewidth\":0,\"ticks\":\"\"}}}],\"scatterpolar\":[{\"type\":\"scatterpolar\",\"marker\":{\"colorbar\":{\"outlinewidth\":0,\"ticks\":\"\"}}}],\"histogram\":[{\"marker\":{\"pattern\":{\"fillmode\":\"overlay\",\"size\":10,\"solidity\":0.2}},\"type\":\"histogram\"}],\"scattergl\":[{\"type\":\"scattergl\",\"marker\":{\"colorbar\":{\"outlinewidth\":0,\"ticks\":\"\"}}}],\"scatter3d\":[{\"type\":\"scatter3d\",\"line\":{\"colorbar\":{\"outlinewidth\":0,\"ticks\":\"\"}},\"marker\":{\"colorbar\":{\"outlinewidth\":0,\"ticks\":\"\"}}}],\"scattermapbox\":[{\"type\":\"scattermapbox\",\"marker\":{\"colorbar\":{\"outlinewidth\":0,\"ticks\":\"\"}}}],\"scatterternary\":[{\"type\":\"scatterternary\",\"marker\":{\"colorbar\":{\"outlinewidth\":0,\"ticks\":\"\"}}}],\"scattercarpet\":[{\"type\":\"scattercarpet\",\"marker\":{\"colorbar\":{\"outlinewidth\":0,\"ticks\":\"\"}}}],\"carpet\":[{\"aaxis\":{\"endlinecolor\":\"#2a3f5f\",\"gridcolor\":\"white\",\"linecolor\":\"white\",\"minorgridcolor\":\"white\",\"startlinecolor\":\"#2a3f5f\"},\"baxis\":{\"endlinecolor\":\"#2a3f5f\",\"gridcolor\":\"white\",\"linecolor\":\"white\",\"minorgridcolor\":\"white\",\"startlinecolor\":\"#2a3f5f\"},\"type\":\"carpet\"}],\"table\":[{\"cells\":{\"fill\":{\"color\":\"#EBF0F8\"},\"line\":{\"color\":\"white\"}},\"header\":{\"fill\":{\"color\":\"#C8D4E3\"},\"line\":{\"color\":\"white\"}},\"type\":\"table\"}],\"barpolar\":[{\"marker\":{\"line\":{\"color\":\"#E5ECF6\",\"width\":0.5},\"pattern\":{\"fillmode\":\"overlay\",\"size\":10,\"solidity\":0.2}},\"type\":\"barpolar\"}],\"pie\":[{\"automargin\":true,\"type\":\"pie\"}]},\"layout\":{\"autotypenumbers\":\"strict\",\"colorway\":[\"#636efa\",\"#EF553B\",\"#00cc96\",\"#ab63fa\",\"#FFA15A\",\"#19d3f3\",\"#FF6692\",\"#B6E880\",\"#FF97FF\",\"#FECB52\"],\"font\":{\"color\":\"#2a3f5f\"},\"hovermode\":\"closest\",\"hoverlabel\":{\"align\":\"left\"},\"paper_bgcolor\":\"white\",\"plot_bgcolor\":\"#E5ECF6\",\"polar\":{\"bgcolor\":\"#E5ECF6\",\"angularaxis\":{\"gridcolor\":\"white\",\"linecolor\":\"white\",\"ticks\":\"\"},\"radialaxis\":{\"gridcolor\":\"white\",\"linecolor\":\"white\",\"ticks\":\"\"}},\"ternary\":{\"bgcolor\":\"#E5ECF6\",\"aaxis\":{\"gridcolor\":\"white\",\"linecolor\":\"white\",\"ticks\":\"\"},\"baxis\":{\"gridcolor\":\"white\",\"linecolor\":\"white\",\"ticks\":\"\"},\"caxis\":{\"gridcolor\":\"white\",\"linecolor\":\"white\",\"ticks\":\"\"}},\"coloraxis\":{\"colorbar\":{\"outlinewidth\":0,\"ticks\":\"\"}},\"colorscale\":{\"sequential\":[[0.0,\"#0d0887\"],[0.1111111111111111,\"#46039f\"],[0.2222222222222222,\"#7201a8\"],[0.3333333333333333,\"#9c179e\"],[0.4444444444444444,\"#bd3786\"],[0.5555555555555556,\"#d8576b\"],[0.6666666666666666,\"#ed7953\"],[0.7777777777777778,\"#fb9f3a\"],[0.8888888888888888,\"#fdca26\"],[1.0,\"#f0f921\"]],\"sequentialminus\":[[0.0,\"#0d0887\"],[0.1111111111111111,\"#46039f\"],[0.2222222222222222,\"#7201a8\"],[0.3333333333333333,\"#9c179e\"],[0.4444444444444444,\"#bd3786\"],[0.5555555555555556,\"#d8576b\"],[0.6666666666666666,\"#ed7953\"],[0.7777777777777778,\"#fb9f3a\"],[0.8888888888888888,\"#fdca26\"],[1.0,\"#f0f921\"]],\"diverging\":[[0,\"#8e0152\"],[0.1,\"#c51b7d\"],[0.2,\"#de77ae\"],[0.3,\"#f1b6da\"],[0.4,\"#fde0ef\"],[0.5,\"#f7f7f7\"],[0.6,\"#e6f5d0\"],[0.7,\"#b8e186\"],[0.8,\"#7fbc41\"],[0.9,\"#4d9221\"],[1,\"#276419\"]]},\"xaxis\":{\"gridcolor\":\"white\",\"linecolor\":\"white\",\"ticks\":\"\",\"title\":{\"standoff\":15},\"zerolinecolor\":\"white\",\"automargin\":true,\"zerolinewidth\":2},\"yaxis\":{\"gridcolor\":\"white\",\"linecolor\":\"white\",\"ticks\":\"\",\"title\":{\"standoff\":15},\"zerolinecolor\":\"white\",\"automargin\":true,\"zerolinewidth\":2},\"scene\":{\"xaxis\":{\"backgroundcolor\":\"#E5ECF6\",\"gridcolor\":\"white\",\"linecolor\":\"white\",\"showbackground\":true,\"ticks\":\"\",\"zerolinecolor\":\"white\",\"gridwidth\":2},\"yaxis\":{\"backgroundcolor\":\"#E5ECF6\",\"gridcolor\":\"white\",\"linecolor\":\"white\",\"showbackground\":true,\"ticks\":\"\",\"zerolinecolor\":\"white\",\"gridwidth\":2},\"zaxis\":{\"backgroundcolor\":\"#E5ECF6\",\"gridcolor\":\"white\",\"linecolor\":\"white\",\"showbackground\":true,\"ticks\":\"\",\"zerolinecolor\":\"white\",\"gridwidth\":2}},\"shapedefaults\":{\"line\":{\"color\":\"#2a3f5f\"}},\"annotationdefaults\":{\"arrowcolor\":\"#2a3f5f\",\"arrowhead\":0,\"arrowwidth\":1},\"geo\":{\"bgcolor\":\"white\",\"landcolor\":\"#E5ECF6\",\"subunitcolor\":\"white\",\"showland\":true,\"showlakes\":true,\"lakecolor\":\"white\"},\"title\":{\"x\":0.05},\"mapbox\":{\"style\":\"light\"}}},\"xaxis\":{\"anchor\":\"y\",\"domain\":[0.0,1.0],\"title\":{\"text\":\"PROPORTIONAL_ATTENDANCE_TOTAL_PCT\"}},\"yaxis\":{\"anchor\":\"x\",\"domain\":[0.0,1.0],\"title\":{\"text\":\"TOTAL_PCT\"}},\"legend\":{\"title\":{\"text\":\"COUNTY\"},\"tracegroupgap\":0},\"margin\":{\"t\":60}},                        {\"responsive\": true}                    ).then(function(){\n",
       "                            \n",
       "var gd = document.getElementById('7fb93226-b59e-408b-923a-c7030c742445');\n",
       "var x = new MutationObserver(function (mutations, observer) {{\n",
       "        var display = window.getComputedStyle(gd).display;\n",
       "        if (!display || display === 'none') {{\n",
       "            console.log([gd, 'removed!']);\n",
       "            Plotly.purge(gd);\n",
       "            observer.disconnect();\n",
       "        }}\n",
       "}});\n",
       "\n",
       "// Listen for the removal of the full notebook cells\n",
       "var notebookContainer = gd.closest('#notebook-container');\n",
       "if (notebookContainer) {{\n",
       "    x.observe(notebookContainer, {childList: true});\n",
       "}}\n",
       "\n",
       "// Listen for the clearing of the current output cell\n",
       "var outputEl = gd.closest('.output');\n",
       "if (outputEl) {{\n",
       "    x.observe(outputEl, {childList: true});\n",
       "}}\n",
       "\n",
       "                        })                };                });            </script>        </div>"
      ]
     },
     "metadata": {},
     "output_type": "display_data"
    }
   ],
   "source": [
    "#Plotly\n",
    "fig = px.scatter(att_merge_df, x=\"PROPORTIONAL_ATTENDANCE_TOTAL_PCT\", y = 'TOTAL_PCT',\n",
    "                color = 'COUNTY', hover_data=[\"District Name\"])\n",
    "\n",
    "fig.show()"
   ]
  },
  {
   "cell_type": "code",
   "execution_count": 136,
   "id": "06988d00-a7ea-40ae-914c-4a93d6b2cda3",
   "metadata": {},
   "outputs": [
    {
     "data": {
      "application/vnd.plotly.v1+json": {
       "config": {
        "plotlyServerURL": "https://plot.ly"
       },
       "data": [
        {
         "customdata": [
          [
           "FRANKLIN CO. R-II"
          ],
          [
           "MERAMEC VALLEY R-III"
          ],
          [
           "UNION R-XI"
          ],
          [
           "ST. CLAIR R-XIII"
          ],
          [
           "SULLIVAN"
          ],
          [
           "NEW HAVEN"
          ],
          [
           "WASHINGTON"
          ]
         ],
         "hovertemplate": "COUNTY=Franklin County<br>PROPORTIONAL_ATTENDANCE_TOTAL_PCT=%{x}<br>TOTAL_PCT=%{y}<br>FR_PCT=%{marker.size}<br>District Name=%{customdata[0]}<extra></extra>",
         "legendgroup": "Franklin County",
         "marker": {
          "color": "#636efa",
          "size": [
           24.8,
           41.4,
           42.3,
           48.1,
           46.8,
           36.4,
           25.4
          ],
          "sizemode": "area",
          "sizeref": 0.25,
          "symbol": "circle"
         },
         "mode": "markers",
         "name": "Franklin County",
         "orientation": "v",
         "showlegend": true,
         "type": "scatter",
         "x": [
          88.9,
          75.7,
          79.4,
          78,
          79.1,
          93.7,
          81.6
         ],
         "xaxis": "x",
         "y": [
          71.5,
          43.7,
          49.5,
          32.6,
          43.2,
          49.8,
          47.5
         ],
         "yaxis": "y"
        },
        {
         "customdata": [
          [
           "NORTHWEST R-I"
          ],
          [
           "GRANDVIEW R-II"
          ],
          [
           "HILLSBORO R-III"
          ],
          [
           "DUNKLIN R-V"
          ],
          [
           "FESTUS R-VI"
          ],
          [
           "JEFFERSON CO. R-VII"
          ],
          [
           "SUNRISE R-IX"
          ],
          [
           "WINDSOR C-1"
          ],
          [
           "FOX C-6"
          ],
          [
           "CRYSTAL CITY 47"
          ],
          [
           "DESOTO 73"
          ]
         ],
         "hovertemplate": "COUNTY=Jefferson County<br>PROPORTIONAL_ATTENDANCE_TOTAL_PCT=%{x}<br>TOTAL_PCT=%{y}<br>FR_PCT=%{marker.size}<br>District Name=%{customdata[0]}<extra></extra>",
         "legendgroup": "Jefferson County",
         "marker": {
          "color": "#EF553B",
          "size": [
           39.5,
           18.5,
           30.6,
           44,
           33.8,
           24.2,
           45.8,
           29.7,
           27.5,
           44.6,
           41.5
          ],
          "sizemode": "area",
          "sizeref": 0.25,
          "symbol": "circle"
         },
         "mode": "markers",
         "name": "Jefferson County",
         "orientation": "v",
         "showlegend": true,
         "type": "scatter",
         "x": [
          75.4,
          95,
          78.9,
          74,
          83.2,
          84.3,
          89.2,
          81.1,
          78,
          80,
          78
         ],
         "xaxis": "x",
         "y": [
          41.400000000000006,
          18.2,
          42.400000000000006,
          34,
          64.1,
          46.5,
          36.5,
          37.9,
          49.1,
          44.7,
          54.599999999999994
         ],
         "yaxis": "y"
        },
        {
         "customdata": [
          [
           "FT. ZUMWALT R-II"
          ],
          [
           "FRANCIS HOWELL R-III"
          ],
          [
           "WENTZVILLE R-IV"
          ],
          [
           "ST. CHARLES R-VI"
          ],
          [
           "ORCHARD FARM R-V"
          ]
         ],
         "hovertemplate": "COUNTY=St. Charles County<br>PROPORTIONAL_ATTENDANCE_TOTAL_PCT=%{x}<br>TOTAL_PCT=%{y}<br>FR_PCT=%{marker.size}<br>District Name=%{customdata[0]}<extra></extra>",
         "legendgroup": "St. Charles County",
         "marker": {
          "color": "#00cc96",
          "size": [
           18.9,
           14.2,
           14.8,
           35,
           24.3
          ],
          "sizemode": "area",
          "sizeref": 0.25,
          "symbol": "circle"
         },
         "mode": "markers",
         "name": "St. Charles County",
         "orientation": "v",
         "showlegend": true,
         "type": "scatter",
         "x": [
          80.9,
          81.9,
          78.2,
          80.3,
          82.1
         ],
         "xaxis": "x",
         "y": [
          58.400000000000006,
          61.2,
          51.1,
          48.2,
          53
         ],
         "yaxis": "y"
        },
        {
         "customdata": [
          [
           "HAZELWOOD"
          ],
          [
           "FERGUSON-FLORISSANT R-II"
          ],
          [
           "PATTONVILLE R-III"
          ],
          [
           "HANCOCK PLACE"
          ],
          [
           "JENNINGS"
          ],
          [
           "NORMANDY SCHOOLS COLLABORATIVE"
          ],
          [
           "RITENOUR"
          ],
          [
           "RIVERVIEW GARDENS"
          ]
         ],
         "hovertemplate": "COUNTY=North County<br>PROPORTIONAL_ATTENDANCE_TOTAL_PCT=%{x}<br>TOTAL_PCT=%{y}<br>FR_PCT=%{marker.size}<br>District Name=%{customdata[0]}<extra></extra>",
         "legendgroup": "North County",
         "marker": {
          "color": "#ab63fa",
          "size": [
           69.4,
           99.9,
           45.9,
           100,
           100,
           99.7,
           99.9,
           100
          ],
          "sizemode": "area",
          "sizeref": 0.25,
          "symbol": "circle"
         },
         "mode": "markers",
         "name": "North County",
         "orientation": "v",
         "showlegend": true,
         "type": "scatter",
         "x": [
          57.7,
          56,
          76,
          65.8,
          50.1,
          47.3,
          59.8,
          38.7
         ],
         "xaxis": "x",
         "y": [
          19.200000000000003,
          16.4,
          38.2,
          33.6,
          15.4,
          7,
          22.3,
          2.5
         ],
         "yaxis": "y"
        },
        {
         "customdata": [
          [
           "ROCKWOOD R-VI"
          ],
          [
           "KIRKWOOD R-VII"
          ],
          [
           "LINDBERGH SCHOOLS"
          ],
          [
           "PARKWAY C-2"
          ],
          [
           "BRENTWOOD"
          ],
          [
           "CLAYTON"
          ],
          [
           "LADUE"
          ],
          [
           "MAPLEWOOD-RICHMOND HEIGHTS"
          ],
          [
           "UNIVERSITY CITY"
          ],
          [
           "VALLEY PARK"
          ],
          [
           "WEBSTER GROVES"
          ]
         ],
         "hovertemplate": "COUNTY=West County<br>PROPORTIONAL_ATTENDANCE_TOTAL_PCT=%{x}<br>TOTAL_PCT=%{y}<br>FR_PCT=%{marker.size}<br>District Name=%{customdata[0]}<extra></extra>",
         "legendgroup": "West County",
         "marker": {
          "color": "#FFA15A",
          "size": [
           11.9,
           9,
           13.5,
           19,
           18.1,
           9.1,
           8,
           30.9,
           99.8,
           36.3,
           10.2
          ],
          "sizemode": "area",
          "sizeref": 0.25,
          "symbol": "circle"
         },
         "mode": "markers",
         "name": "West County",
         "orientation": "v",
         "showlegend": true,
         "type": "scatter",
         "x": [
          81.9,
          87.2,
          85.1,
          82.9,
          82.4,
          86.8,
          83,
          77.1,
          56.8,
          80.6,
          86
         ],
         "xaxis": "x",
         "y": [
          57.8,
          58.1,
          55.7,
          57.400000000000006,
          62.5,
          70.2,
          66.8,
          47.5,
          25.8,
          42.9,
          65.3
         ],
         "yaxis": "y"
        },
        {
         "customdata": [
          [
           "MEHLVILLE R-IX"
          ],
          [
           "AFFTON 101"
          ],
          [
           "BAYLESS"
          ]
         ],
         "hovertemplate": "COUNTY=South County<br>PROPORTIONAL_ATTENDANCE_TOTAL_PCT=%{x}<br>TOTAL_PCT=%{y}<br>FR_PCT=%{marker.size}<br>District Name=%{customdata[0]}<extra></extra>",
         "legendgroup": "South County",
         "marker": {
          "color": "#19d3f3",
          "size": [
           26,
           35.7,
           52.7
          ],
          "sizemode": "area",
          "sizeref": 0.25,
          "symbol": "circle"
         },
         "mode": "markers",
         "name": "South County",
         "orientation": "v",
         "showlegend": true,
         "type": "scatter",
         "x": [
          80.5,
          72,
          81.1
         ],
         "xaxis": "x",
         "y": [
          37.9,
          33.7,
          51.2
         ],
         "yaxis": "y"
        },
        {
         "customdata": [
          [
           "ST. LOUIS CITY"
          ]
         ],
         "hovertemplate": "COUNTY=St. Louis City<br>PROPORTIONAL_ATTENDANCE_TOTAL_PCT=%{x}<br>TOTAL_PCT=%{y}<br>FR_PCT=%{marker.size}<br>District Name=%{customdata[0]}<extra></extra>",
         "legendgroup": "St. Louis City",
         "marker": {
          "color": "#FF6692",
          "size": [
           99.2
          ],
          "sizemode": "area",
          "sizeref": 0.25,
          "symbol": "circle"
         },
         "mode": "markers",
         "name": "St. Louis City",
         "orientation": "v",
         "showlegend": true,
         "type": "scatter",
         "x": [
          49.4
         ],
         "xaxis": "x",
         "y": [
          16.200000000000003
         ],
         "yaxis": "y"
        }
       ],
       "layout": {
        "height": 600,
        "legend": {
         "itemsizing": "constant",
         "title": {
          "text": "COUNTY"
         },
         "tracegroupgap": 0
        },
        "margin": {
         "t": 60
        },
        "template": {
         "data": {
          "bar": [
           {
            "error_x": {
             "color": "#2a3f5f"
            },
            "error_y": {
             "color": "#2a3f5f"
            },
            "marker": {
             "line": {
              "color": "#E5ECF6",
              "width": 0.5
             },
             "pattern": {
              "fillmode": "overlay",
              "size": 10,
              "solidity": 0.2
             }
            },
            "type": "bar"
           }
          ],
          "barpolar": [
           {
            "marker": {
             "line": {
              "color": "#E5ECF6",
              "width": 0.5
             },
             "pattern": {
              "fillmode": "overlay",
              "size": 10,
              "solidity": 0.2
             }
            },
            "type": "barpolar"
           }
          ],
          "carpet": [
           {
            "aaxis": {
             "endlinecolor": "#2a3f5f",
             "gridcolor": "white",
             "linecolor": "white",
             "minorgridcolor": "white",
             "startlinecolor": "#2a3f5f"
            },
            "baxis": {
             "endlinecolor": "#2a3f5f",
             "gridcolor": "white",
             "linecolor": "white",
             "minorgridcolor": "white",
             "startlinecolor": "#2a3f5f"
            },
            "type": "carpet"
           }
          ],
          "choropleth": [
           {
            "colorbar": {
             "outlinewidth": 0,
             "ticks": ""
            },
            "type": "choropleth"
           }
          ],
          "contour": [
           {
            "colorbar": {
             "outlinewidth": 0,
             "ticks": ""
            },
            "colorscale": [
             [
              0,
              "#0d0887"
             ],
             [
              0.1111111111111111,
              "#46039f"
             ],
             [
              0.2222222222222222,
              "#7201a8"
             ],
             [
              0.3333333333333333,
              "#9c179e"
             ],
             [
              0.4444444444444444,
              "#bd3786"
             ],
             [
              0.5555555555555556,
              "#d8576b"
             ],
             [
              0.6666666666666666,
              "#ed7953"
             ],
             [
              0.7777777777777778,
              "#fb9f3a"
             ],
             [
              0.8888888888888888,
              "#fdca26"
             ],
             [
              1,
              "#f0f921"
             ]
            ],
            "type": "contour"
           }
          ],
          "contourcarpet": [
           {
            "colorbar": {
             "outlinewidth": 0,
             "ticks": ""
            },
            "type": "contourcarpet"
           }
          ],
          "heatmap": [
           {
            "colorbar": {
             "outlinewidth": 0,
             "ticks": ""
            },
            "colorscale": [
             [
              0,
              "#0d0887"
             ],
             [
              0.1111111111111111,
              "#46039f"
             ],
             [
              0.2222222222222222,
              "#7201a8"
             ],
             [
              0.3333333333333333,
              "#9c179e"
             ],
             [
              0.4444444444444444,
              "#bd3786"
             ],
             [
              0.5555555555555556,
              "#d8576b"
             ],
             [
              0.6666666666666666,
              "#ed7953"
             ],
             [
              0.7777777777777778,
              "#fb9f3a"
             ],
             [
              0.8888888888888888,
              "#fdca26"
             ],
             [
              1,
              "#f0f921"
             ]
            ],
            "type": "heatmap"
           }
          ],
          "heatmapgl": [
           {
            "colorbar": {
             "outlinewidth": 0,
             "ticks": ""
            },
            "colorscale": [
             [
              0,
              "#0d0887"
             ],
             [
              0.1111111111111111,
              "#46039f"
             ],
             [
              0.2222222222222222,
              "#7201a8"
             ],
             [
              0.3333333333333333,
              "#9c179e"
             ],
             [
              0.4444444444444444,
              "#bd3786"
             ],
             [
              0.5555555555555556,
              "#d8576b"
             ],
             [
              0.6666666666666666,
              "#ed7953"
             ],
             [
              0.7777777777777778,
              "#fb9f3a"
             ],
             [
              0.8888888888888888,
              "#fdca26"
             ],
             [
              1,
              "#f0f921"
             ]
            ],
            "type": "heatmapgl"
           }
          ],
          "histogram": [
           {
            "marker": {
             "pattern": {
              "fillmode": "overlay",
              "size": 10,
              "solidity": 0.2
             }
            },
            "type": "histogram"
           }
          ],
          "histogram2d": [
           {
            "colorbar": {
             "outlinewidth": 0,
             "ticks": ""
            },
            "colorscale": [
             [
              0,
              "#0d0887"
             ],
             [
              0.1111111111111111,
              "#46039f"
             ],
             [
              0.2222222222222222,
              "#7201a8"
             ],
             [
              0.3333333333333333,
              "#9c179e"
             ],
             [
              0.4444444444444444,
              "#bd3786"
             ],
             [
              0.5555555555555556,
              "#d8576b"
             ],
             [
              0.6666666666666666,
              "#ed7953"
             ],
             [
              0.7777777777777778,
              "#fb9f3a"
             ],
             [
              0.8888888888888888,
              "#fdca26"
             ],
             [
              1,
              "#f0f921"
             ]
            ],
            "type": "histogram2d"
           }
          ],
          "histogram2dcontour": [
           {
            "colorbar": {
             "outlinewidth": 0,
             "ticks": ""
            },
            "colorscale": [
             [
              0,
              "#0d0887"
             ],
             [
              0.1111111111111111,
              "#46039f"
             ],
             [
              0.2222222222222222,
              "#7201a8"
             ],
             [
              0.3333333333333333,
              "#9c179e"
             ],
             [
              0.4444444444444444,
              "#bd3786"
             ],
             [
              0.5555555555555556,
              "#d8576b"
             ],
             [
              0.6666666666666666,
              "#ed7953"
             ],
             [
              0.7777777777777778,
              "#fb9f3a"
             ],
             [
              0.8888888888888888,
              "#fdca26"
             ],
             [
              1,
              "#f0f921"
             ]
            ],
            "type": "histogram2dcontour"
           }
          ],
          "mesh3d": [
           {
            "colorbar": {
             "outlinewidth": 0,
             "ticks": ""
            },
            "type": "mesh3d"
           }
          ],
          "parcoords": [
           {
            "line": {
             "colorbar": {
              "outlinewidth": 0,
              "ticks": ""
             }
            },
            "type": "parcoords"
           }
          ],
          "pie": [
           {
            "automargin": true,
            "type": "pie"
           }
          ],
          "scatter": [
           {
            "fillpattern": {
             "fillmode": "overlay",
             "size": 10,
             "solidity": 0.2
            },
            "type": "scatter"
           }
          ],
          "scatter3d": [
           {
            "line": {
             "colorbar": {
              "outlinewidth": 0,
              "ticks": ""
             }
            },
            "marker": {
             "colorbar": {
              "outlinewidth": 0,
              "ticks": ""
             }
            },
            "type": "scatter3d"
           }
          ],
          "scattercarpet": [
           {
            "marker": {
             "colorbar": {
              "outlinewidth": 0,
              "ticks": ""
             }
            },
            "type": "scattercarpet"
           }
          ],
          "scattergeo": [
           {
            "marker": {
             "colorbar": {
              "outlinewidth": 0,
              "ticks": ""
             }
            },
            "type": "scattergeo"
           }
          ],
          "scattergl": [
           {
            "marker": {
             "colorbar": {
              "outlinewidth": 0,
              "ticks": ""
             }
            },
            "type": "scattergl"
           }
          ],
          "scattermapbox": [
           {
            "marker": {
             "colorbar": {
              "outlinewidth": 0,
              "ticks": ""
             }
            },
            "type": "scattermapbox"
           }
          ],
          "scatterpolar": [
           {
            "marker": {
             "colorbar": {
              "outlinewidth": 0,
              "ticks": ""
             }
            },
            "type": "scatterpolar"
           }
          ],
          "scatterpolargl": [
           {
            "marker": {
             "colorbar": {
              "outlinewidth": 0,
              "ticks": ""
             }
            },
            "type": "scatterpolargl"
           }
          ],
          "scatterternary": [
           {
            "marker": {
             "colorbar": {
              "outlinewidth": 0,
              "ticks": ""
             }
            },
            "type": "scatterternary"
           }
          ],
          "surface": [
           {
            "colorbar": {
             "outlinewidth": 0,
             "ticks": ""
            },
            "colorscale": [
             [
              0,
              "#0d0887"
             ],
             [
              0.1111111111111111,
              "#46039f"
             ],
             [
              0.2222222222222222,
              "#7201a8"
             ],
             [
              0.3333333333333333,
              "#9c179e"
             ],
             [
              0.4444444444444444,
              "#bd3786"
             ],
             [
              0.5555555555555556,
              "#d8576b"
             ],
             [
              0.6666666666666666,
              "#ed7953"
             ],
             [
              0.7777777777777778,
              "#fb9f3a"
             ],
             [
              0.8888888888888888,
              "#fdca26"
             ],
             [
              1,
              "#f0f921"
             ]
            ],
            "type": "surface"
           }
          ],
          "table": [
           {
            "cells": {
             "fill": {
              "color": "#EBF0F8"
             },
             "line": {
              "color": "white"
             }
            },
            "header": {
             "fill": {
              "color": "#C8D4E3"
             },
             "line": {
              "color": "white"
             }
            },
            "type": "table"
           }
          ]
         },
         "layout": {
          "annotationdefaults": {
           "arrowcolor": "#2a3f5f",
           "arrowhead": 0,
           "arrowwidth": 1
          },
          "autotypenumbers": "strict",
          "coloraxis": {
           "colorbar": {
            "outlinewidth": 0,
            "ticks": ""
           }
          },
          "colorscale": {
           "diverging": [
            [
             0,
             "#8e0152"
            ],
            [
             0.1,
             "#c51b7d"
            ],
            [
             0.2,
             "#de77ae"
            ],
            [
             0.3,
             "#f1b6da"
            ],
            [
             0.4,
             "#fde0ef"
            ],
            [
             0.5,
             "#f7f7f7"
            ],
            [
             0.6,
             "#e6f5d0"
            ],
            [
             0.7,
             "#b8e186"
            ],
            [
             0.8,
             "#7fbc41"
            ],
            [
             0.9,
             "#4d9221"
            ],
            [
             1,
             "#276419"
            ]
           ],
           "sequential": [
            [
             0,
             "#0d0887"
            ],
            [
             0.1111111111111111,
             "#46039f"
            ],
            [
             0.2222222222222222,
             "#7201a8"
            ],
            [
             0.3333333333333333,
             "#9c179e"
            ],
            [
             0.4444444444444444,
             "#bd3786"
            ],
            [
             0.5555555555555556,
             "#d8576b"
            ],
            [
             0.6666666666666666,
             "#ed7953"
            ],
            [
             0.7777777777777778,
             "#fb9f3a"
            ],
            [
             0.8888888888888888,
             "#fdca26"
            ],
            [
             1,
             "#f0f921"
            ]
           ],
           "sequentialminus": [
            [
             0,
             "#0d0887"
            ],
            [
             0.1111111111111111,
             "#46039f"
            ],
            [
             0.2222222222222222,
             "#7201a8"
            ],
            [
             0.3333333333333333,
             "#9c179e"
            ],
            [
             0.4444444444444444,
             "#bd3786"
            ],
            [
             0.5555555555555556,
             "#d8576b"
            ],
            [
             0.6666666666666666,
             "#ed7953"
            ],
            [
             0.7777777777777778,
             "#fb9f3a"
            ],
            [
             0.8888888888888888,
             "#fdca26"
            ],
            [
             1,
             "#f0f921"
            ]
           ]
          },
          "colorway": [
           "#636efa",
           "#EF553B",
           "#00cc96",
           "#ab63fa",
           "#FFA15A",
           "#19d3f3",
           "#FF6692",
           "#B6E880",
           "#FF97FF",
           "#FECB52"
          ],
          "font": {
           "color": "#2a3f5f"
          },
          "geo": {
           "bgcolor": "white",
           "lakecolor": "white",
           "landcolor": "#E5ECF6",
           "showlakes": true,
           "showland": true,
           "subunitcolor": "white"
          },
          "hoverlabel": {
           "align": "left"
          },
          "hovermode": "closest",
          "mapbox": {
           "style": "light"
          },
          "paper_bgcolor": "white",
          "plot_bgcolor": "#E5ECF6",
          "polar": {
           "angularaxis": {
            "gridcolor": "white",
            "linecolor": "white",
            "ticks": ""
           },
           "bgcolor": "#E5ECF6",
           "radialaxis": {
            "gridcolor": "white",
            "linecolor": "white",
            "ticks": ""
           }
          },
          "scene": {
           "xaxis": {
            "backgroundcolor": "#E5ECF6",
            "gridcolor": "white",
            "gridwidth": 2,
            "linecolor": "white",
            "showbackground": true,
            "ticks": "",
            "zerolinecolor": "white"
           },
           "yaxis": {
            "backgroundcolor": "#E5ECF6",
            "gridcolor": "white",
            "gridwidth": 2,
            "linecolor": "white",
            "showbackground": true,
            "ticks": "",
            "zerolinecolor": "white"
           },
           "zaxis": {
            "backgroundcolor": "#E5ECF6",
            "gridcolor": "white",
            "gridwidth": 2,
            "linecolor": "white",
            "showbackground": true,
            "ticks": "",
            "zerolinecolor": "white"
           }
          },
          "shapedefaults": {
           "line": {
            "color": "#2a3f5f"
           }
          },
          "ternary": {
           "aaxis": {
            "gridcolor": "white",
            "linecolor": "white",
            "ticks": ""
           },
           "baxis": {
            "gridcolor": "white",
            "linecolor": "white",
            "ticks": ""
           },
           "bgcolor": "#E5ECF6",
           "caxis": {
            "gridcolor": "white",
            "linecolor": "white",
            "ticks": ""
           }
          },
          "title": {
           "x": 0.05
          },
          "xaxis": {
           "automargin": true,
           "gridcolor": "white",
           "linecolor": "white",
           "ticks": "",
           "title": {
            "standoff": 15
           },
           "zerolinecolor": "white",
           "zerolinewidth": 2
          },
          "yaxis": {
           "automargin": true,
           "gridcolor": "white",
           "linecolor": "white",
           "ticks": "",
           "title": {
            "standoff": 15
           },
           "zerolinecolor": "white",
           "zerolinewidth": 2
          }
         }
        },
        "width": 900,
        "xaxis": {
         "anchor": "y",
         "autorange": true,
         "domain": [
          0,
          1
         ],
         "range": [
          33.824444761003065,
          98.95283615359811
         ],
         "title": {
          "text": "PROPORTIONAL_ATTENDANCE_TOTAL_PCT"
         },
         "type": "linear"
        },
        "yaxis": {
         "anchor": "x",
         "autorange": true,
         "domain": [
          0,
          1
         ],
         "range": [
          -4.361095553467374,
          76.9579216929868
         ],
         "title": {
          "text": "TOTAL_PCT"
         },
         "type": "linear"
        }
       }
      },
      "image/png": "[encoded data removed]",
      "text/html": [
       "<div>                            <div id=\"451075ff-72fe-4bda-a5a9-a596e88fb994\" class=\"plotly-graph-div\" style=\"height:600px; width:900px;\"></div>            <script type=\"text/javascript\">                require([\"plotly\"], function(Plotly) {                    window.PLOTLYENV=window.PLOTLYENV || {};                                    if (document.getElementById(\"451075ff-72fe-4bda-a5a9-a596e88fb994\")) {                    Plotly.newPlot(                        \"451075ff-72fe-4bda-a5a9-a596e88fb994\",                        [{\"customdata\":[[\"FRANKLIN CO. R-II\"],[\"MERAMEC VALLEY R-III\"],[\"UNION R-XI\"],[\"ST. CLAIR R-XIII\"],[\"SULLIVAN\"],[\"NEW HAVEN\"],[\"WASHINGTON\"]],\"hovertemplate\":\"COUNTY=Franklin County\\u003cbr\\u003ePROPORTIONAL_ATTENDANCE_TOTAL_PCT=%{x}\\u003cbr\\u003eTOTAL_PCT=%{y}\\u003cbr\\u003eFR_PCT=%{marker.size}\\u003cbr\\u003eDistrict Name=%{customdata[0]}\\u003cextra\\u003e\\u003c\\u002fextra\\u003e\",\"legendgroup\":\"Franklin County\",\"marker\":{\"color\":\"#636efa\",\"size\":[24.8,41.4,42.3,48.1,46.8,36.4,25.4],\"sizemode\":\"area\",\"sizeref\":0.25,\"symbol\":\"circle\"},\"mode\":\"markers\",\"name\":\"Franklin County\",\"orientation\":\"v\",\"showlegend\":true,\"x\":[88.9,75.7,79.4,78.0,79.1,93.7,81.6],\"xaxis\":\"x\",\"y\":[71.5,43.7,49.5,32.6,43.2,49.8,47.5],\"yaxis\":\"y\",\"type\":\"scatter\"},{\"customdata\":[[\"NORTHWEST R-I\"],[\"GRANDVIEW R-II\"],[\"HILLSBORO R-III\"],[\"DUNKLIN R-V\"],[\"FESTUS R-VI\"],[\"JEFFERSON CO. R-VII\"],[\"SUNRISE R-IX\"],[\"WINDSOR C-1\"],[\"FOX C-6\"],[\"CRYSTAL CITY 47\"],[\"DESOTO 73\"]],\"hovertemplate\":\"COUNTY=Jefferson County\\u003cbr\\u003ePROPORTIONAL_ATTENDANCE_TOTAL_PCT=%{x}\\u003cbr\\u003eTOTAL_PCT=%{y}\\u003cbr\\u003eFR_PCT=%{marker.size}\\u003cbr\\u003eDistrict Name=%{customdata[0]}\\u003cextra\\u003e\\u003c\\u002fextra\\u003e\",\"legendgroup\":\"Jefferson County\",\"marker\":{\"color\":\"#EF553B\",\"size\":[39.5,18.5,30.6,44.0,33.8,24.2,45.8,29.7,27.5,44.6,41.5],\"sizemode\":\"area\",\"sizeref\":0.25,\"symbol\":\"circle\"},\"mode\":\"markers\",\"name\":\"Jefferson County\",\"orientation\":\"v\",\"showlegend\":true,\"x\":[75.4,95.0,78.9,74.0,83.2,84.3,89.2,81.1,78.0,80.0,78.0],\"xaxis\":\"x\",\"y\":[41.400000000000006,18.2,42.400000000000006,34.0,64.1,46.5,36.5,37.9,49.1,44.7,54.599999999999994],\"yaxis\":\"y\",\"type\":\"scatter\"},{\"customdata\":[[\"FT. ZUMWALT R-II\"],[\"FRANCIS HOWELL R-III\"],[\"WENTZVILLE R-IV\"],[\"ST. CHARLES R-VI\"],[\"ORCHARD FARM R-V\"]],\"hovertemplate\":\"COUNTY=St. Charles County\\u003cbr\\u003ePROPORTIONAL_ATTENDANCE_TOTAL_PCT=%{x}\\u003cbr\\u003eTOTAL_PCT=%{y}\\u003cbr\\u003eFR_PCT=%{marker.size}\\u003cbr\\u003eDistrict Name=%{customdata[0]}\\u003cextra\\u003e\\u003c\\u002fextra\\u003e\",\"legendgroup\":\"St. Charles County\",\"marker\":{\"color\":\"#00cc96\",\"size\":[18.9,14.2,14.8,35.0,24.3],\"sizemode\":\"area\",\"sizeref\":0.25,\"symbol\":\"circle\"},\"mode\":\"markers\",\"name\":\"St. Charles County\",\"orientation\":\"v\",\"showlegend\":true,\"x\":[80.9,81.9,78.2,80.3,82.1],\"xaxis\":\"x\",\"y\":[58.400000000000006,61.2,51.1,48.2,53.0],\"yaxis\":\"y\",\"type\":\"scatter\"},{\"customdata\":[[\"HAZELWOOD\"],[\"FERGUSON-FLORISSANT R-II\"],[\"PATTONVILLE R-III\"],[\"HANCOCK PLACE\"],[\"JENNINGS\"],[\"NORMANDY SCHOOLS COLLABORATIVE\"],[\"RITENOUR\"],[\"RIVERVIEW GARDENS\"]],\"hovertemplate\":\"COUNTY=North County\\u003cbr\\u003ePROPORTIONAL_ATTENDANCE_TOTAL_PCT=%{x}\\u003cbr\\u003eTOTAL_PCT=%{y}\\u003cbr\\u003eFR_PCT=%{marker.size}\\u003cbr\\u003eDistrict Name=%{customdata[0]}\\u003cextra\\u003e\\u003c\\u002fextra\\u003e\",\"legendgroup\":\"North County\",\"marker\":{\"color\":\"#ab63fa\",\"size\":[69.4,99.9,45.9,100.0,100.0,99.7,99.9,100.0],\"sizemode\":\"area\",\"sizeref\":0.25,\"symbol\":\"circle\"},\"mode\":\"markers\",\"name\":\"North County\",\"orientation\":\"v\",\"showlegend\":true,\"x\":[57.7,56.0,76.0,65.8,50.1,47.3,59.8,38.7],\"xaxis\":\"x\",\"y\":[19.200000000000003,16.4,38.2,33.6,15.4,7.0,22.3,2.5],\"yaxis\":\"y\",\"type\":\"scatter\"},{\"customdata\":[[\"ROCKWOOD R-VI\"],[\"KIRKWOOD R-VII\"],[\"LINDBERGH SCHOOLS\"],[\"PARKWAY C-2\"],[\"BRENTWOOD\"],[\"CLAYTON\"],[\"LADUE\"],[\"MAPLEWOOD-RICHMOND HEIGHTS\"],[\"UNIVERSITY CITY\"],[\"VALLEY PARK\"],[\"WEBSTER GROVES\"]],\"hovertemplate\":\"COUNTY=West County\\u003cbr\\u003ePROPORTIONAL_ATTENDANCE_TOTAL_PCT=%{x}\\u003cbr\\u003eTOTAL_PCT=%{y}\\u003cbr\\u003eFR_PCT=%{marker.size}\\u003cbr\\u003eDistrict Name=%{customdata[0]}\\u003cextra\\u003e\\u003c\\u002fextra\\u003e\",\"legendgroup\":\"West County\",\"marker\":{\"color\":\"#FFA15A\",\"size\":[11.9,9.0,13.5,19.0,18.1,9.1,8.0,30.9,99.8,36.3,10.2],\"sizemode\":\"area\",\"sizeref\":0.25,\"symbol\":\"circle\"},\"mode\":\"markers\",\"name\":\"West County\",\"orientation\":\"v\",\"showlegend\":true,\"x\":[81.9,87.2,85.1,82.9,82.4,86.8,83.0,77.1,56.8,80.6,86.0],\"xaxis\":\"x\",\"y\":[57.8,58.1,55.7,57.400000000000006,62.5,70.2,66.8,47.5,25.8,42.9,65.3],\"yaxis\":\"y\",\"type\":\"scatter\"},{\"customdata\":[[\"MEHLVILLE R-IX\"],[\"AFFTON 101\"],[\"BAYLESS\"]],\"hovertemplate\":\"COUNTY=South County\\u003cbr\\u003ePROPORTIONAL_ATTENDANCE_TOTAL_PCT=%{x}\\u003cbr\\u003eTOTAL_PCT=%{y}\\u003cbr\\u003eFR_PCT=%{marker.size}\\u003cbr\\u003eDistrict Name=%{customdata[0]}\\u003cextra\\u003e\\u003c\\u002fextra\\u003e\",\"legendgroup\":\"South County\",\"marker\":{\"color\":\"#19d3f3\",\"size\":[26.0,35.7,52.7],\"sizemode\":\"area\",\"sizeref\":0.25,\"symbol\":\"circle\"},\"mode\":\"markers\",\"name\":\"South County\",\"orientation\":\"v\",\"showlegend\":true,\"x\":[80.5,72.0,81.1],\"xaxis\":\"x\",\"y\":[37.9,33.7,51.2],\"yaxis\":\"y\",\"type\":\"scatter\"},{\"customdata\":[[\"ST. LOUIS CITY\"]],\"hovertemplate\":\"COUNTY=St. Louis City\\u003cbr\\u003ePROPORTIONAL_ATTENDANCE_TOTAL_PCT=%{x}\\u003cbr\\u003eTOTAL_PCT=%{y}\\u003cbr\\u003eFR_PCT=%{marker.size}\\u003cbr\\u003eDistrict Name=%{customdata[0]}\\u003cextra\\u003e\\u003c\\u002fextra\\u003e\",\"legendgroup\":\"St. Louis City\",\"marker\":{\"color\":\"#FF6692\",\"size\":[99.2],\"sizemode\":\"area\",\"sizeref\":0.25,\"symbol\":\"circle\"},\"mode\":\"markers\",\"name\":\"St. Louis City\",\"orientation\":\"v\",\"showlegend\":true,\"x\":[49.4],\"xaxis\":\"x\",\"y\":[16.200000000000003],\"yaxis\":\"y\",\"type\":\"scatter\"}],                        {\"template\":{\"data\":{\"histogram2dcontour\":[{\"type\":\"histogram2dcontour\",\"colorbar\":{\"outlinewidth\":0,\"ticks\":\"\"},\"colorscale\":[[0.0,\"#0d0887\"],[0.1111111111111111,\"#46039f\"],[0.2222222222222222,\"#7201a8\"],[0.3333333333333333,\"#9c179e\"],[0.4444444444444444,\"#bd3786\"],[0.5555555555555556,\"#d8576b\"],[0.6666666666666666,\"#ed7953\"],[0.7777777777777778,\"#fb9f3a\"],[0.8888888888888888,\"#fdca26\"],[1.0,\"#f0f921\"]]}],\"choropleth\":[{\"type\":\"choropleth\",\"colorbar\":{\"outlinewidth\":0,\"ticks\":\"\"}}],\"histogram2d\":[{\"type\":\"histogram2d\",\"colorbar\":{\"outlinewidth\":0,\"ticks\":\"\"},\"colorscale\":[[0.0,\"#0d0887\"],[0.1111111111111111,\"#46039f\"],[0.2222222222222222,\"#7201a8\"],[0.3333333333333333,\"#9c179e\"],[0.4444444444444444,\"#bd3786\"],[0.5555555555555556,\"#d8576b\"],[0.6666666666666666,\"#ed7953\"],[0.7777777777777778,\"#fb9f3a\"],[0.8888888888888888,\"#fdca26\"],[1.0,\"#f0f921\"]]}],\"heatmap\":[{\"type\":\"heatmap\",\"colorbar\":{\"outlinewidth\":0,\"ticks\":\"\"},\"colorscale\":[[0.0,\"#0d0887\"],[0.1111111111111111,\"#46039f\"],[0.2222222222222222,\"#7201a8\"],[0.3333333333333333,\"#9c179e\"],[0.4444444444444444,\"#bd3786\"],[0.5555555555555556,\"#d8576b\"],[0.6666666666666666,\"#ed7953\"],[0.7777777777777778,\"#fb9f3a\"],[0.8888888888888888,\"#fdca26\"],[1.0,\"#f0f921\"]]}],\"heatmapgl\":[{\"type\":\"heatmapgl\",\"colorbar\":{\"outlinewidth\":0,\"ticks\":\"\"},\"colorscale\":[[0.0,\"#0d0887\"],[0.1111111111111111,\"#46039f\"],[0.2222222222222222,\"#7201a8\"],[0.3333333333333333,\"#9c179e\"],[0.4444444444444444,\"#bd3786\"],[0.5555555555555556,\"#d8576b\"],[0.6666666666666666,\"#ed7953\"],[0.7777777777777778,\"#fb9f3a\"],[0.8888888888888888,\"#fdca26\"],[1.0,\"#f0f921\"]]}],\"contourcarpet\":[{\"type\":\"contourcarpet\",\"colorbar\":{\"outlinewidth\":0,\"ticks\":\"\"}}],\"contour\":[{\"type\":\"contour\",\"colorbar\":{\"outlinewidth\":0,\"ticks\":\"\"},\"colorscale\":[[0.0,\"#0d0887\"],[0.1111111111111111,\"#46039f\"],[0.2222222222222222,\"#7201a8\"],[0.3333333333333333,\"#9c179e\"],[0.4444444444444444,\"#bd3786\"],[0.5555555555555556,\"#d8576b\"],[0.6666666666666666,\"#ed7953\"],[0.7777777777777778,\"#fb9f3a\"],[0.8888888888888888,\"#fdca26\"],[1.0,\"#f0f921\"]]}],\"surface\":[{\"type\":\"surface\",\"colorbar\":{\"outlinewidth\":0,\"ticks\":\"\"},\"colorscale\":[[0.0,\"#0d0887\"],[0.1111111111111111,\"#46039f\"],[0.2222222222222222,\"#7201a8\"],[0.3333333333333333,\"#9c179e\"],[0.4444444444444444,\"#bd3786\"],[0.5555555555555556,\"#d8576b\"],[0.6666666666666666,\"#ed7953\"],[0.7777777777777778,\"#fb9f3a\"],[0.8888888888888888,\"#fdca26\"],[1.0,\"#f0f921\"]]}],\"mesh3d\":[{\"type\":\"mesh3d\",\"colorbar\":{\"outlinewidth\":0,\"ticks\":\"\"}}],\"scatter\":[{\"fillpattern\":{\"fillmode\":\"overlay\",\"size\":10,\"solidity\":0.2},\"type\":\"scatter\"}],\"parcoords\":[{\"type\":\"parcoords\",\"line\":{\"colorbar\":{\"outlinewidth\":0,\"ticks\":\"\"}}}],\"scatterpolargl\":[{\"type\":\"scatterpolargl\",\"marker\":{\"colorbar\":{\"outlinewidth\":0,\"ticks\":\"\"}}}],\"bar\":[{\"error_x\":{\"color\":\"#2a3f5f\"},\"error_y\":{\"color\":\"#2a3f5f\"},\"marker\":{\"line\":{\"color\":\"#E5ECF6\",\"width\":0.5},\"pattern\":{\"fillmode\":\"overlay\",\"size\":10,\"solidity\":0.2}},\"type\":\"bar\"}],\"scattergeo\":[{\"type\":\"scattergeo\",\"marker\":{\"colorbar\":{\"outlinewidth\":0,\"ticks\":\"\"}}}],\"scatterpolar\":[{\"type\":\"scatterpolar\",\"marker\":{\"colorbar\":{\"outlinewidth\":0,\"ticks\":\"\"}}}],\"histogram\":[{\"marker\":{\"pattern\":{\"fillmode\":\"overlay\",\"size\":10,\"solidity\":0.2}},\"type\":\"histogram\"}],\"scattergl\":[{\"type\":\"scattergl\",\"marker\":{\"colorbar\":{\"outlinewidth\":0,\"ticks\":\"\"}}}],\"scatter3d\":[{\"type\":\"scatter3d\",\"line\":{\"colorbar\":{\"outlinewidth\":0,\"ticks\":\"\"}},\"marker\":{\"colorbar\":{\"outlinewidth\":0,\"ticks\":\"\"}}}],\"scattermapbox\":[{\"type\":\"scattermapbox\",\"marker\":{\"colorbar\":{\"outlinewidth\":0,\"ticks\":\"\"}}}],\"scatterternary\":[{\"type\":\"scatterternary\",\"marker\":{\"colorbar\":{\"outlinewidth\":0,\"ticks\":\"\"}}}],\"scattercarpet\":[{\"type\":\"scattercarpet\",\"marker\":{\"colorbar\":{\"outlinewidth\":0,\"ticks\":\"\"}}}],\"carpet\":[{\"aaxis\":{\"endlinecolor\":\"#2a3f5f\",\"gridcolor\":\"white\",\"linecolor\":\"white\",\"minorgridcolor\":\"white\",\"startlinecolor\":\"#2a3f5f\"},\"baxis\":{\"endlinecolor\":\"#2a3f5f\",\"gridcolor\":\"white\",\"linecolor\":\"white\",\"minorgridcolor\":\"white\",\"startlinecolor\":\"#2a3f5f\"},\"type\":\"carpet\"}],\"table\":[{\"cells\":{\"fill\":{\"color\":\"#EBF0F8\"},\"line\":{\"color\":\"white\"}},\"header\":{\"fill\":{\"color\":\"#C8D4E3\"},\"line\":{\"color\":\"white\"}},\"type\":\"table\"}],\"barpolar\":[{\"marker\":{\"line\":{\"color\":\"#E5ECF6\",\"width\":0.5},\"pattern\":{\"fillmode\":\"overlay\",\"size\":10,\"solidity\":0.2}},\"type\":\"barpolar\"}],\"pie\":[{\"automargin\":true,\"type\":\"pie\"}]},\"layout\":{\"autotypenumbers\":\"strict\",\"colorway\":[\"#636efa\",\"#EF553B\",\"#00cc96\",\"#ab63fa\",\"#FFA15A\",\"#19d3f3\",\"#FF6692\",\"#B6E880\",\"#FF97FF\",\"#FECB52\"],\"font\":{\"color\":\"#2a3f5f\"},\"hovermode\":\"closest\",\"hoverlabel\":{\"align\":\"left\"},\"paper_bgcolor\":\"white\",\"plot_bgcolor\":\"#E5ECF6\",\"polar\":{\"bgcolor\":\"#E5ECF6\",\"angularaxis\":{\"gridcolor\":\"white\",\"linecolor\":\"white\",\"ticks\":\"\"},\"radialaxis\":{\"gridcolor\":\"white\",\"linecolor\":\"white\",\"ticks\":\"\"}},\"ternary\":{\"bgcolor\":\"#E5ECF6\",\"aaxis\":{\"gridcolor\":\"white\",\"linecolor\":\"white\",\"ticks\":\"\"},\"baxis\":{\"gridcolor\":\"white\",\"linecolor\":\"white\",\"ticks\":\"\"},\"caxis\":{\"gridcolor\":\"white\",\"linecolor\":\"white\",\"ticks\":\"\"}},\"coloraxis\":{\"colorbar\":{\"outlinewidth\":0,\"ticks\":\"\"}},\"colorscale\":{\"sequential\":[[0.0,\"#0d0887\"],[0.1111111111111111,\"#46039f\"],[0.2222222222222222,\"#7201a8\"],[0.3333333333333333,\"#9c179e\"],[0.4444444444444444,\"#bd3786\"],[0.5555555555555556,\"#d8576b\"],[0.6666666666666666,\"#ed7953\"],[0.7777777777777778,\"#fb9f3a\"],[0.8888888888888888,\"#fdca26\"],[1.0,\"#f0f921\"]],\"sequentialminus\":[[0.0,\"#0d0887\"],[0.1111111111111111,\"#46039f\"],[0.2222222222222222,\"#7201a8\"],[0.3333333333333333,\"#9c179e\"],[0.4444444444444444,\"#bd3786\"],[0.5555555555555556,\"#d8576b\"],[0.6666666666666666,\"#ed7953\"],[0.7777777777777778,\"#fb9f3a\"],[0.8888888888888888,\"#fdca26\"],[1.0,\"#f0f921\"]],\"diverging\":[[0,\"#8e0152\"],[0.1,\"#c51b7d\"],[0.2,\"#de77ae\"],[0.3,\"#f1b6da\"],[0.4,\"#fde0ef\"],[0.5,\"#f7f7f7\"],[0.6,\"#e6f5d0\"],[0.7,\"#b8e186\"],[0.8,\"#7fbc41\"],[0.9,\"#4d9221\"],[1,\"#276419\"]]},\"xaxis\":{\"gridcolor\":\"white\",\"linecolor\":\"white\",\"ticks\":\"\",\"title\":{\"standoff\":15},\"zerolinecolor\":\"white\",\"automargin\":true,\"zerolinewidth\":2},\"yaxis\":{\"gridcolor\":\"white\",\"linecolor\":\"white\",\"ticks\":\"\",\"title\":{\"standoff\":15},\"zerolinecolor\":\"white\",\"automargin\":true,\"zerolinewidth\":2},\"scene\":{\"xaxis\":{\"backgroundcolor\":\"#E5ECF6\",\"gridcolor\":\"white\",\"linecolor\":\"white\",\"showbackground\":true,\"ticks\":\"\",\"zerolinecolor\":\"white\",\"gridwidth\":2},\"yaxis\":{\"backgroundcolor\":\"#E5ECF6\",\"gridcolor\":\"white\",\"linecolor\":\"white\",\"showbackground\":true,\"ticks\":\"\",\"zerolinecolor\":\"white\",\"gridwidth\":2},\"zaxis\":{\"backgroundcolor\":\"#E5ECF6\",\"gridcolor\":\"white\",\"linecolor\":\"white\",\"showbackground\":true,\"ticks\":\"\",\"zerolinecolor\":\"white\",\"gridwidth\":2}},\"shapedefaults\":{\"line\":{\"color\":\"#2a3f5f\"}},\"annotationdefaults\":{\"arrowcolor\":\"#2a3f5f\",\"arrowhead\":0,\"arrowwidth\":1},\"geo\":{\"bgcolor\":\"white\",\"landcolor\":\"#E5ECF6\",\"subunitcolor\":\"white\",\"showland\":true,\"showlakes\":true,\"lakecolor\":\"white\"},\"title\":{\"x\":0.05},\"mapbox\":{\"style\":\"light\"}}},\"xaxis\":{\"anchor\":\"y\",\"domain\":[0.0,1.0],\"title\":{\"text\":\"PROPORTIONAL_ATTENDANCE_TOTAL_PCT\"}},\"yaxis\":{\"anchor\":\"x\",\"domain\":[0.0,1.0],\"title\":{\"text\":\"TOTAL_PCT\"}},\"legend\":{\"title\":{\"text\":\"COUNTY\"},\"tracegroupgap\":0,\"itemsizing\":\"constant\"},\"margin\":{\"t\":60},\"height\":600,\"width\":900},                        {\"responsive\": true}                    ).then(function(){\n",
       "                            \n",
       "var gd = document.getElementById('451075ff-72fe-4bda-a5a9-a596e88fb994');\n",
       "var x = new MutationObserver(function (mutations, observer) {{\n",
       "        var display = window.getComputedStyle(gd).display;\n",
       "        if (!display || display === 'none') {{\n",
       "            console.log([gd, 'removed!']);\n",
       "            Plotly.purge(gd);\n",
       "            observer.disconnect();\n",
       "        }}\n",
       "}});\n",
       "\n",
       "// Listen for the removal of the full notebook cells\n",
       "var notebookContainer = gd.closest('#notebook-container');\n",
       "if (notebookContainer) {{\n",
       "    x.observe(notebookContainer, {childList: true});\n",
       "}}\n",
       "\n",
       "// Listen for the clearing of the current output cell\n",
       "var outputEl = gd.closest('.output');\n",
       "if (outputEl) {{\n",
       "    x.observe(outputEl, {childList: true});\n",
       "}}\n",
       "\n",
       "                        })                };                });            </script>        </div>"
      ]
     },
     "metadata": {},
     "output_type": "display_data"
    }
   ],
   "source": [
    "#Plotly\n",
    "fig = px.scatter(fr_att_merge_filter_df, x=\"PROPORTIONAL_ATTENDANCE_TOTAL_PCT\", y = 'TOTAL_PCT',\n",
    "                color = 'COUNTY', size= \"FR_PCT\", hover_data=[\"District Name\"], width=900, height=600)\n",
    "\n",
    "fig.write_html(\"SavageSTLCounties.html\")\n",
    "fig.show()"
   ]
  },
  {
   "cell_type": "code",
   "execution_count": 135,
   "id": "b0780f5c-5e1a-4307-a3f0-3674c014341a",
   "metadata": {},
   "outputs": [
    {
     "data": {
      "application/vnd.plotly.v1+json": {
       "config": {
        "plotlyServerURL": "https://plot.ly"
       },
       "data": [
        {
         "customdata": [
          [
           "FT. ZUMWALT R-II"
          ],
          [
           "FRANCIS HOWELL R-III"
          ],
          [
           "WENTZVILLE R-IV"
          ],
          [
           "ST. CHARLES R-VI"
          ],
          [
           "ORCHARD FARM R-V"
          ]
         ],
         "hovertemplate": "COUNTY=St. Charles County<br>PROPORTIONAL_ATTENDANCE_TOTAL_PCT=%{x}<br>TOTAL_PCT=%{y}<br>FR_PCT=%{marker.size}<br>District Name=%{customdata[0]}<extra></extra>",
         "legendgroup": "St. Charles County",
         "marker": {
          "color": "#636efa",
          "size": [
           18.9,
           14.2,
           14.8,
           35,
           24.3
          ],
          "sizemode": "area",
          "sizeref": 0.0875,
          "symbol": "circle"
         },
         "mode": "markers",
         "name": "St. Charles County",
         "orientation": "v",
         "showlegend": true,
         "type": "scatter",
         "x": [
          80.9,
          81.9,
          78.2,
          80.3,
          82.1
         ],
         "xaxis": "x",
         "y": [
          58.400000000000006,
          61.2,
          51.1,
          48.2,
          53
         ],
         "yaxis": "y"
        }
       ],
       "layout": {
        "height": 600,
        "legend": {
         "itemsizing": "constant",
         "title": {
          "text": "COUNTY"
         },
         "tracegroupgap": 0
        },
        "margin": {
         "t": 60
        },
        "template": {
         "data": {
          "bar": [
           {
            "error_x": {
             "color": "#2a3f5f"
            },
            "error_y": {
             "color": "#2a3f5f"
            },
            "marker": {
             "line": {
              "color": "#E5ECF6",
              "width": 0.5
             },
             "pattern": {
              "fillmode": "overlay",
              "size": 10,
              "solidity": 0.2
             }
            },
            "type": "bar"
           }
          ],
          "barpolar": [
           {
            "marker": {
             "line": {
              "color": "#E5ECF6",
              "width": 0.5
             },
             "pattern": {
              "fillmode": "overlay",
              "size": 10,
              "solidity": 0.2
             }
            },
            "type": "barpolar"
           }
          ],
          "carpet": [
           {
            "aaxis": {
             "endlinecolor": "#2a3f5f",
             "gridcolor": "white",
             "linecolor": "white",
             "minorgridcolor": "white",
             "startlinecolor": "#2a3f5f"
            },
            "baxis": {
             "endlinecolor": "#2a3f5f",
             "gridcolor": "white",
             "linecolor": "white",
             "minorgridcolor": "white",
             "startlinecolor": "#2a3f5f"
            },
            "type": "carpet"
           }
          ],
          "choropleth": [
           {
            "colorbar": {
             "outlinewidth": 0,
             "ticks": ""
            },
            "type": "choropleth"
           }
          ],
          "contour": [
           {
            "colorbar": {
             "outlinewidth": 0,
             "ticks": ""
            },
            "colorscale": [
             [
              0,
              "#0d0887"
             ],
             [
              0.1111111111111111,
              "#46039f"
             ],
             [
              0.2222222222222222,
              "#7201a8"
             ],
             [
              0.3333333333333333,
              "#9c179e"
             ],
             [
              0.4444444444444444,
              "#bd3786"
             ],
             [
              0.5555555555555556,
              "#d8576b"
             ],
             [
              0.6666666666666666,
              "#ed7953"
             ],
             [
              0.7777777777777778,
              "#fb9f3a"
             ],
             [
              0.8888888888888888,
              "#fdca26"
             ],
             [
              1,
              "#f0f921"
             ]
            ],
            "type": "contour"
           }
          ],
          "contourcarpet": [
           {
            "colorbar": {
             "outlinewidth": 0,
             "ticks": ""
            },
            "type": "contourcarpet"
           }
          ],
          "heatmap": [
           {
            "colorbar": {
             "outlinewidth": 0,
             "ticks": ""
            },
            "colorscale": [
             [
              0,
              "#0d0887"
             ],
             [
              0.1111111111111111,
              "#46039f"
             ],
             [
              0.2222222222222222,
              "#7201a8"
             ],
             [
              0.3333333333333333,
              "#9c179e"
             ],
             [
              0.4444444444444444,
              "#bd3786"
             ],
             [
              0.5555555555555556,
              "#d8576b"
             ],
             [
              0.6666666666666666,
              "#ed7953"
             ],
             [
              0.7777777777777778,
              "#fb9f3a"
             ],
             [
              0.8888888888888888,
              "#fdca26"
             ],
             [
              1,
              "#f0f921"
             ]
            ],
            "type": "heatmap"
           }
          ],
          "heatmapgl": [
           {
            "colorbar": {
             "outlinewidth": 0,
             "ticks": ""
            },
            "colorscale": [
             [
              0,
              "#0d0887"
             ],
             [
              0.1111111111111111,
              "#46039f"
             ],
             [
              0.2222222222222222,
              "#7201a8"
             ],
             [
              0.3333333333333333,
              "#9c179e"
             ],
             [
              0.4444444444444444,
              "#bd3786"
             ],
             [
              0.5555555555555556,
              "#d8576b"
             ],
             [
              0.6666666666666666,
              "#ed7953"
             ],
             [
              0.7777777777777778,
              "#fb9f3a"
             ],
             [
              0.8888888888888888,
              "#fdca26"
             ],
             [
              1,
              "#f0f921"
             ]
            ],
            "type": "heatmapgl"
           }
          ],
          "histogram": [
           {
            "marker": {
             "pattern": {
              "fillmode": "overlay",
              "size": 10,
              "solidity": 0.2
             }
            },
            "type": "histogram"
           }
          ],
          "histogram2d": [
           {
            "colorbar": {
             "outlinewidth": 0,
             "ticks": ""
            },
            "colorscale": [
             [
              0,
              "#0d0887"
             ],
             [
              0.1111111111111111,
              "#46039f"
             ],
             [
              0.2222222222222222,
              "#7201a8"
             ],
             [
              0.3333333333333333,
              "#9c179e"
             ],
             [
              0.4444444444444444,
              "#bd3786"
             ],
             [
              0.5555555555555556,
              "#d8576b"
             ],
             [
              0.6666666666666666,
              "#ed7953"
             ],
             [
              0.7777777777777778,
              "#fb9f3a"
             ],
             [
              0.8888888888888888,
              "#fdca26"
             ],
             [
              1,
              "#f0f921"
             ]
            ],
            "type": "histogram2d"
           }
          ],
          "histogram2dcontour": [
           {
            "colorbar": {
             "outlinewidth": 0,
             "ticks": ""
            },
            "colorscale": [
             [
              0,
              "#0d0887"
             ],
             [
              0.1111111111111111,
              "#46039f"
             ],
             [
              0.2222222222222222,
              "#7201a8"
             ],
             [
              0.3333333333333333,
              "#9c179e"
             ],
             [
              0.4444444444444444,
              "#bd3786"
             ],
             [
              0.5555555555555556,
              "#d8576b"
             ],
             [
              0.6666666666666666,
              "#ed7953"
             ],
             [
              0.7777777777777778,
              "#fb9f3a"
             ],
             [
              0.8888888888888888,
              "#fdca26"
             ],
             [
              1,
              "#f0f921"
             ]
            ],
            "type": "histogram2dcontour"
           }
          ],
          "mesh3d": [
           {
            "colorbar": {
             "outlinewidth": 0,
             "ticks": ""
            },
            "type": "mesh3d"
           }
          ],
          "parcoords": [
           {
            "line": {
             "colorbar": {
              "outlinewidth": 0,
              "ticks": ""
             }
            },
            "type": "parcoords"
           }
          ],
          "pie": [
           {
            "automargin": true,
            "type": "pie"
           }
          ],
          "scatter": [
           {
            "fillpattern": {
             "fillmode": "overlay",
             "size": 10,
             "solidity": 0.2
            },
            "type": "scatter"
           }
          ],
          "scatter3d": [
           {
            "line": {
             "colorbar": {
              "outlinewidth": 0,
              "ticks": ""
             }
            },
            "marker": {
             "colorbar": {
              "outlinewidth": 0,
              "ticks": ""
             }
            },
            "type": "scatter3d"
           }
          ],
          "scattercarpet": [
           {
            "marker": {
             "colorbar": {
              "outlinewidth": 0,
              "ticks": ""
             }
            },
            "type": "scattercarpet"
           }
          ],
          "scattergeo": [
           {
            "marker": {
             "colorbar": {
              "outlinewidth": 0,
              "ticks": ""
             }
            },
            "type": "scattergeo"
           }
          ],
          "scattergl": [
           {
            "marker": {
             "colorbar": {
              "outlinewidth": 0,
              "ticks": ""
             }
            },
            "type": "scattergl"
           }
          ],
          "scattermapbox": [
           {
            "marker": {
             "colorbar": {
              "outlinewidth": 0,
              "ticks": ""
             }
            },
            "type": "scattermapbox"
           }
          ],
          "scatterpolar": [
           {
            "marker": {
             "colorbar": {
              "outlinewidth": 0,
              "ticks": ""
             }
            },
            "type": "scatterpolar"
           }
          ],
          "scatterpolargl": [
           {
            "marker": {
             "colorbar": {
              "outlinewidth": 0,
              "ticks": ""
             }
            },
            "type": "scatterpolargl"
           }
          ],
          "scatterternary": [
           {
            "marker": {
             "colorbar": {
              "outlinewidth": 0,
              "ticks": ""
             }
            },
            "type": "scatterternary"
           }
          ],
          "surface": [
           {
            "colorbar": {
             "outlinewidth": 0,
             "ticks": ""
            },
            "colorscale": [
             [
              0,
              "#0d0887"
             ],
             [
              0.1111111111111111,
              "#46039f"
             ],
             [
              0.2222222222222222,
              "#7201a8"
             ],
             [
              0.3333333333333333,
              "#9c179e"
             ],
             [
              0.4444444444444444,
              "#bd3786"
             ],
             [
              0.5555555555555556,
              "#d8576b"
             ],
             [
              0.6666666666666666,
              "#ed7953"
             ],
             [
              0.7777777777777778,
              "#fb9f3a"
             ],
             [
              0.8888888888888888,
              "#fdca26"
             ],
             [
              1,
              "#f0f921"
             ]
            ],
            "type": "surface"
           }
          ],
          "table": [
           {
            "cells": {
             "fill": {
              "color": "#EBF0F8"
             },
             "line": {
              "color": "white"
             }
            },
            "header": {
             "fill": {
              "color": "#C8D4E3"
             },
             "line": {
              "color": "white"
             }
            },
            "type": "table"
           }
          ]
         },
         "layout": {
          "annotationdefaults": {
           "arrowcolor": "#2a3f5f",
           "arrowhead": 0,
           "arrowwidth": 1
          },
          "autotypenumbers": "strict",
          "coloraxis": {
           "colorbar": {
            "outlinewidth": 0,
            "ticks": ""
           }
          },
          "colorscale": {
           "diverging": [
            [
             0,
             "#8e0152"
            ],
            [
             0.1,
             "#c51b7d"
            ],
            [
             0.2,
             "#de77ae"
            ],
            [
             0.3,
             "#f1b6da"
            ],
            [
             0.4,
             "#fde0ef"
            ],
            [
             0.5,
             "#f7f7f7"
            ],
            [
             0.6,
             "#e6f5d0"
            ],
            [
             0.7,
             "#b8e186"
            ],
            [
             0.8,
             "#7fbc41"
            ],
            [
             0.9,
             "#4d9221"
            ],
            [
             1,
             "#276419"
            ]
           ],
           "sequential": [
            [
             0,
             "#0d0887"
            ],
            [
             0.1111111111111111,
             "#46039f"
            ],
            [
             0.2222222222222222,
             "#7201a8"
            ],
            [
             0.3333333333333333,
             "#9c179e"
            ],
            [
             0.4444444444444444,
             "#bd3786"
            ],
            [
             0.5555555555555556,
             "#d8576b"
            ],
            [
             0.6666666666666666,
             "#ed7953"
            ],
            [
             0.7777777777777778,
             "#fb9f3a"
            ],
            [
             0.8888888888888888,
             "#fdca26"
            ],
            [
             1,
             "#f0f921"
            ]
           ],
           "sequentialminus": [
            [
             0,
             "#0d0887"
            ],
            [
             0.1111111111111111,
             "#46039f"
            ],
            [
             0.2222222222222222,
             "#7201a8"
            ],
            [
             0.3333333333333333,
             "#9c179e"
            ],
            [
             0.4444444444444444,
             "#bd3786"
            ],
            [
             0.5555555555555556,
             "#d8576b"
            ],
            [
             0.6666666666666666,
             "#ed7953"
            ],
            [
             0.7777777777777778,
             "#fb9f3a"
            ],
            [
             0.8888888888888888,
             "#fdca26"
            ],
            [
             1,
             "#f0f921"
            ]
           ]
          },
          "colorway": [
           "#636efa",
           "#EF553B",
           "#00cc96",
           "#ab63fa",
           "#FFA15A",
           "#19d3f3",
           "#FF6692",
           "#B6E880",
           "#FF97FF",
           "#FECB52"
          ],
          "font": {
           "color": "#2a3f5f"
          },
          "geo": {
           "bgcolor": "white",
           "lakecolor": "white",
           "landcolor": "#E5ECF6",
           "showlakes": true,
           "showland": true,
           "subunitcolor": "white"
          },
          "hoverlabel": {
           "align": "left"
          },
          "hovermode": "closest",
          "mapbox": {
           "style": "light"
          },
          "paper_bgcolor": "white",
          "plot_bgcolor": "#E5ECF6",
          "polar": {
           "angularaxis": {
            "gridcolor": "white",
            "linecolor": "white",
            "ticks": ""
           },
           "bgcolor": "#E5ECF6",
           "radialaxis": {
            "gridcolor": "white",
            "linecolor": "white",
            "ticks": ""
           }
          },
          "scene": {
           "xaxis": {
            "backgroundcolor": "#E5ECF6",
            "gridcolor": "white",
            "gridwidth": 2,
            "linecolor": "white",
            "showbackground": true,
            "ticks": "",
            "zerolinecolor": "white"
           },
           "yaxis": {
            "backgroundcolor": "#E5ECF6",
            "gridcolor": "white",
            "gridwidth": 2,
            "linecolor": "white",
            "showbackground": true,
            "ticks": "",
            "zerolinecolor": "white"
           },
           "zaxis": {
            "backgroundcolor": "#E5ECF6",
            "gridcolor": "white",
            "gridwidth": 2,
            "linecolor": "white",
            "showbackground": true,
            "ticks": "",
            "zerolinecolor": "white"
           }
          },
          "shapedefaults": {
           "line": {
            "color": "#2a3f5f"
           }
          },
          "ternary": {
           "aaxis": {
            "gridcolor": "white",
            "linecolor": "white",
            "ticks": ""
           },
           "baxis": {
            "gridcolor": "white",
            "linecolor": "white",
            "ticks": ""
           },
           "bgcolor": "#E5ECF6",
           "caxis": {
            "gridcolor": "white",
            "linecolor": "white",
            "ticks": ""
           }
          },
          "title": {
           "x": 0.05
          },
          "xaxis": {
           "automargin": true,
           "gridcolor": "white",
           "linecolor": "white",
           "ticks": "",
           "title": {
            "standoff": 15
           },
           "zerolinecolor": "white",
           "zerolinewidth": 2
          },
          "yaxis": {
           "automargin": true,
           "gridcolor": "white",
           "linecolor": "white",
           "ticks": "",
           "title": {
            "standoff": 15
           },
           "zerolinecolor": "white",
           "zerolinewidth": 2
          }
         }
        },
        "width": 900,
        "xaxis": {
         "anchor": "y",
         "autorange": true,
         "domain": [
          0,
          1
         ],
         "range": [
          77.90102792815807,
          82.41952487950086
         ],
         "title": {
          "text": "PROPORTIONAL_ATTENDANCE_TOTAL_PCT"
         },
         "type": "linear"
        },
        "yaxis": {
         "anchor": "x",
         "autorange": true,
         "domain": [
          0,
          1
         ],
         "range": [
          46.900011902170476,
          62.307719566897575
         ],
         "title": {
          "text": "TOTAL_PCT"
         },
         "type": "linear"
        }
       }
      },
      "image/png": "[encoded data removed]",
      "text/html": [
       "<div>                            <div id=\"fd1df96a-b7f8-40a4-bf3a-1db0e0a75d5d\" class=\"plotly-graph-div\" style=\"height:600px; width:900px;\"></div>            <script type=\"text/javascript\">                require([\"plotly\"], function(Plotly) {                    window.PLOTLYENV=window.PLOTLYENV || {};                                    if (document.getElementById(\"fd1df96a-b7f8-40a4-bf3a-1db0e0a75d5d\")) {                    Plotly.newPlot(                        \"fd1df96a-b7f8-40a4-bf3a-1db0e0a75d5d\",                        [{\"customdata\":[[\"FT. ZUMWALT R-II\"],[\"FRANCIS HOWELL R-III\"],[\"WENTZVILLE R-IV\"],[\"ST. CHARLES R-VI\"],[\"ORCHARD FARM R-V\"]],\"hovertemplate\":\"COUNTY=St. Charles County\\u003cbr\\u003ePROPORTIONAL_ATTENDANCE_TOTAL_PCT=%{x}\\u003cbr\\u003eTOTAL_PCT=%{y}\\u003cbr\\u003eFR_PCT=%{marker.size}\\u003cbr\\u003eDistrict Name=%{customdata[0]}\\u003cextra\\u003e\\u003c\\u002fextra\\u003e\",\"legendgroup\":\"St. Charles County\",\"marker\":{\"color\":\"#636efa\",\"size\":[18.9,14.2,14.8,35.0,24.3],\"sizemode\":\"area\",\"sizeref\":0.0875,\"symbol\":\"circle\"},\"mode\":\"markers\",\"name\":\"St. Charles County\",\"orientation\":\"v\",\"showlegend\":true,\"x\":[80.9,81.9,78.2,80.3,82.1],\"xaxis\":\"x\",\"y\":[58.400000000000006,61.2,51.1,48.2,53.0],\"yaxis\":\"y\",\"type\":\"scatter\"}],                        {\"template\":{\"data\":{\"histogram2dcontour\":[{\"type\":\"histogram2dcontour\",\"colorbar\":{\"outlinewidth\":0,\"ticks\":\"\"},\"colorscale\":[[0.0,\"#0d0887\"],[0.1111111111111111,\"#46039f\"],[0.2222222222222222,\"#7201a8\"],[0.3333333333333333,\"#9c179e\"],[0.4444444444444444,\"#bd3786\"],[0.5555555555555556,\"#d8576b\"],[0.6666666666666666,\"#ed7953\"],[0.7777777777777778,\"#fb9f3a\"],[0.8888888888888888,\"#fdca26\"],[1.0,\"#f0f921\"]]}],\"choropleth\":[{\"type\":\"choropleth\",\"colorbar\":{\"outlinewidth\":0,\"ticks\":\"\"}}],\"histogram2d\":[{\"type\":\"histogram2d\",\"colorbar\":{\"outlinewidth\":0,\"ticks\":\"\"},\"colorscale\":[[0.0,\"#0d0887\"],[0.1111111111111111,\"#46039f\"],[0.2222222222222222,\"#7201a8\"],[0.3333333333333333,\"#9c179e\"],[0.4444444444444444,\"#bd3786\"],[0.5555555555555556,\"#d8576b\"],[0.6666666666666666,\"#ed7953\"],[0.7777777777777778,\"#fb9f3a\"],[0.8888888888888888,\"#fdca26\"],[1.0,\"#f0f921\"]]}],\"heatmap\":[{\"type\":\"heatmap\",\"colorbar\":{\"outlinewidth\":0,\"ticks\":\"\"},\"colorscale\":[[0.0,\"#0d0887\"],[0.1111111111111111,\"#46039f\"],[0.2222222222222222,\"#7201a8\"],[0.3333333333333333,\"#9c179e\"],[0.4444444444444444,\"#bd3786\"],[0.5555555555555556,\"#d8576b\"],[0.6666666666666666,\"#ed7953\"],[0.7777777777777778,\"#fb9f3a\"],[0.8888888888888888,\"#fdca26\"],[1.0,\"#f0f921\"]]}],\"heatmapgl\":[{\"type\":\"heatmapgl\",\"colorbar\":{\"outlinewidth\":0,\"ticks\":\"\"},\"colorscale\":[[0.0,\"#0d0887\"],[0.1111111111111111,\"#46039f\"],[0.2222222222222222,\"#7201a8\"],[0.3333333333333333,\"#9c179e\"],[0.4444444444444444,\"#bd3786\"],[0.5555555555555556,\"#d8576b\"],[0.6666666666666666,\"#ed7953\"],[0.7777777777777778,\"#fb9f3a\"],[0.8888888888888888,\"#fdca26\"],[1.0,\"#f0f921\"]]}],\"contourcarpet\":[{\"type\":\"contourcarpet\",\"colorbar\":{\"outlinewidth\":0,\"ticks\":\"\"}}],\"contour\":[{\"type\":\"contour\",\"colorbar\":{\"outlinewidth\":0,\"ticks\":\"\"},\"colorscale\":[[0.0,\"#0d0887\"],[0.1111111111111111,\"#46039f\"],[0.2222222222222222,\"#7201a8\"],[0.3333333333333333,\"#9c179e\"],[0.4444444444444444,\"#bd3786\"],[0.5555555555555556,\"#d8576b\"],[0.6666666666666666,\"#ed7953\"],[0.7777777777777778,\"#fb9f3a\"],[0.8888888888888888,\"#fdca26\"],[1.0,\"#f0f921\"]]}],\"surface\":[{\"type\":\"surface\",\"colorbar\":{\"outlinewidth\":0,\"ticks\":\"\"},\"colorscale\":[[0.0,\"#0d0887\"],[0.1111111111111111,\"#46039f\"],[0.2222222222222222,\"#7201a8\"],[0.3333333333333333,\"#9c179e\"],[0.4444444444444444,\"#bd3786\"],[0.5555555555555556,\"#d8576b\"],[0.6666666666666666,\"#ed7953\"],[0.7777777777777778,\"#fb9f3a\"],[0.8888888888888888,\"#fdca26\"],[1.0,\"#f0f921\"]]}],\"mesh3d\":[{\"type\":\"mesh3d\",\"colorbar\":{\"outlinewidth\":0,\"ticks\":\"\"}}],\"scatter\":[{\"fillpattern\":{\"fillmode\":\"overlay\",\"size\":10,\"solidity\":0.2},\"type\":\"scatter\"}],\"parcoords\":[{\"type\":\"parcoords\",\"line\":{\"colorbar\":{\"outlinewidth\":0,\"ticks\":\"\"}}}],\"scatterpolargl\":[{\"type\":\"scatterpolargl\",\"marker\":{\"colorbar\":{\"outlinewidth\":0,\"ticks\":\"\"}}}],\"bar\":[{\"error_x\":{\"color\":\"#2a3f5f\"},\"error_y\":{\"color\":\"#2a3f5f\"},\"marker\":{\"line\":{\"color\":\"#E5ECF6\",\"width\":0.5},\"pattern\":{\"fillmode\":\"overlay\",\"size\":10,\"solidity\":0.2}},\"type\":\"bar\"}],\"scattergeo\":[{\"type\":\"scattergeo\",\"marker\":{\"colorbar\":{\"outlinewidth\":0,\"ticks\":\"\"}}}],\"scatterpolar\":[{\"type\":\"scatterpolar\",\"marker\":{\"colorbar\":{\"outlinewidth\":0,\"ticks\":\"\"}}}],\"histogram\":[{\"marker\":{\"pattern\":{\"fillmode\":\"overlay\",\"size\":10,\"solidity\":0.2}},\"type\":\"histogram\"}],\"scattergl\":[{\"type\":\"scattergl\",\"marker\":{\"colorbar\":{\"outlinewidth\":0,\"ticks\":\"\"}}}],\"scatter3d\":[{\"type\":\"scatter3d\",\"line\":{\"colorbar\":{\"outlinewidth\":0,\"ticks\":\"\"}},\"marker\":{\"colorbar\":{\"outlinewidth\":0,\"ticks\":\"\"}}}],\"scattermapbox\":[{\"type\":\"scattermapbox\",\"marker\":{\"colorbar\":{\"outlinewidth\":0,\"ticks\":\"\"}}}],\"scatterternary\":[{\"type\":\"scatterternary\",\"marker\":{\"colorbar\":{\"outlinewidth\":0,\"ticks\":\"\"}}}],\"scattercarpet\":[{\"type\":\"scattercarpet\",\"marker\":{\"colorbar\":{\"outlinewidth\":0,\"ticks\":\"\"}}}],\"carpet\":[{\"aaxis\":{\"endlinecolor\":\"#2a3f5f\",\"gridcolor\":\"white\",\"linecolor\":\"white\",\"minorgridcolor\":\"white\",\"startlinecolor\":\"#2a3f5f\"},\"baxis\":{\"endlinecolor\":\"#2a3f5f\",\"gridcolor\":\"white\",\"linecolor\":\"white\",\"minorgridcolor\":\"white\",\"startlinecolor\":\"#2a3f5f\"},\"type\":\"carpet\"}],\"table\":[{\"cells\":{\"fill\":{\"color\":\"#EBF0F8\"},\"line\":{\"color\":\"white\"}},\"header\":{\"fill\":{\"color\":\"#C8D4E3\"},\"line\":{\"color\":\"white\"}},\"type\":\"table\"}],\"barpolar\":[{\"marker\":{\"line\":{\"color\":\"#E5ECF6\",\"width\":0.5},\"pattern\":{\"fillmode\":\"overlay\",\"size\":10,\"solidity\":0.2}},\"type\":\"barpolar\"}],\"pie\":[{\"automargin\":true,\"type\":\"pie\"}]},\"layout\":{\"autotypenumbers\":\"strict\",\"colorway\":[\"#636efa\",\"#EF553B\",\"#00cc96\",\"#ab63fa\",\"#FFA15A\",\"#19d3f3\",\"#FF6692\",\"#B6E880\",\"#FF97FF\",\"#FECB52\"],\"font\":{\"color\":\"#2a3f5f\"},\"hovermode\":\"closest\",\"hoverlabel\":{\"align\":\"left\"},\"paper_bgcolor\":\"white\",\"plot_bgcolor\":\"#E5ECF6\",\"polar\":{\"bgcolor\":\"#E5ECF6\",\"angularaxis\":{\"gridcolor\":\"white\",\"linecolor\":\"white\",\"ticks\":\"\"},\"radialaxis\":{\"gridcolor\":\"white\",\"linecolor\":\"white\",\"ticks\":\"\"}},\"ternary\":{\"bgcolor\":\"#E5ECF6\",\"aaxis\":{\"gridcolor\":\"white\",\"linecolor\":\"white\",\"ticks\":\"\"},\"baxis\":{\"gridcolor\":\"white\",\"linecolor\":\"white\",\"ticks\":\"\"},\"caxis\":{\"gridcolor\":\"white\",\"linecolor\":\"white\",\"ticks\":\"\"}},\"coloraxis\":{\"colorbar\":{\"outlinewidth\":0,\"ticks\":\"\"}},\"colorscale\":{\"sequential\":[[0.0,\"#0d0887\"],[0.1111111111111111,\"#46039f\"],[0.2222222222222222,\"#7201a8\"],[0.3333333333333333,\"#9c179e\"],[0.4444444444444444,\"#bd3786\"],[0.5555555555555556,\"#d8576b\"],[0.6666666666666666,\"#ed7953\"],[0.7777777777777778,\"#fb9f3a\"],[0.8888888888888888,\"#fdca26\"],[1.0,\"#f0f921\"]],\"sequentialminus\":[[0.0,\"#0d0887\"],[0.1111111111111111,\"#46039f\"],[0.2222222222222222,\"#7201a8\"],[0.3333333333333333,\"#9c179e\"],[0.4444444444444444,\"#bd3786\"],[0.5555555555555556,\"#d8576b\"],[0.6666666666666666,\"#ed7953\"],[0.7777777777777778,\"#fb9f3a\"],[0.8888888888888888,\"#fdca26\"],[1.0,\"#f0f921\"]],\"diverging\":[[0,\"#8e0152\"],[0.1,\"#c51b7d\"],[0.2,\"#de77ae\"],[0.3,\"#f1b6da\"],[0.4,\"#fde0ef\"],[0.5,\"#f7f7f7\"],[0.6,\"#e6f5d0\"],[0.7,\"#b8e186\"],[0.8,\"#7fbc41\"],[0.9,\"#4d9221\"],[1,\"#276419\"]]},\"xaxis\":{\"gridcolor\":\"white\",\"linecolor\":\"white\",\"ticks\":\"\",\"title\":{\"standoff\":15},\"zerolinecolor\":\"white\",\"automargin\":true,\"zerolinewidth\":2},\"yaxis\":{\"gridcolor\":\"white\",\"linecolor\":\"white\",\"ticks\":\"\",\"title\":{\"standoff\":15},\"zerolinecolor\":\"white\",\"automargin\":true,\"zerolinewidth\":2},\"scene\":{\"xaxis\":{\"backgroundcolor\":\"#E5ECF6\",\"gridcolor\":\"white\",\"linecolor\":\"white\",\"showbackground\":true,\"ticks\":\"\",\"zerolinecolor\":\"white\",\"gridwidth\":2},\"yaxis\":{\"backgroundcolor\":\"#E5ECF6\",\"gridcolor\":\"white\",\"linecolor\":\"white\",\"showbackground\":true,\"ticks\":\"\",\"zerolinecolor\":\"white\",\"gridwidth\":2},\"zaxis\":{\"backgroundcolor\":\"#E5ECF6\",\"gridcolor\":\"white\",\"linecolor\":\"white\",\"showbackground\":true,\"ticks\":\"\",\"zerolinecolor\":\"white\",\"gridwidth\":2}},\"shapedefaults\":{\"line\":{\"color\":\"#2a3f5f\"}},\"annotationdefaults\":{\"arrowcolor\":\"#2a3f5f\",\"arrowhead\":0,\"arrowwidth\":1},\"geo\":{\"bgcolor\":\"white\",\"landcolor\":\"#E5ECF6\",\"subunitcolor\":\"white\",\"showland\":true,\"showlakes\":true,\"lakecolor\":\"white\"},\"title\":{\"x\":0.05},\"mapbox\":{\"style\":\"light\"}}},\"xaxis\":{\"anchor\":\"y\",\"domain\":[0.0,1.0],\"title\":{\"text\":\"PROPORTIONAL_ATTENDANCE_TOTAL_PCT\"}},\"yaxis\":{\"anchor\":\"x\",\"domain\":[0.0,1.0],\"title\":{\"text\":\"TOTAL_PCT\"}},\"legend\":{\"title\":{\"text\":\"COUNTY\"},\"tracegroupgap\":0,\"itemsizing\":\"constant\"},\"margin\":{\"t\":60},\"height\":600,\"width\":900},                        {\"responsive\": true}                    ).then(function(){\n",
       "                            \n",
       "var gd = document.getElementById('fd1df96a-b7f8-40a4-bf3a-1db0e0a75d5d');\n",
       "var x = new MutationObserver(function (mutations, observer) {{\n",
       "        var display = window.getComputedStyle(gd).display;\n",
       "        if (!display || display === 'none') {{\n",
       "            console.log([gd, 'removed!']);\n",
       "            Plotly.purge(gd);\n",
       "            observer.disconnect();\n",
       "        }}\n",
       "}});\n",
       "\n",
       "// Listen for the removal of the full notebook cells\n",
       "var notebookContainer = gd.closest('#notebook-container');\n",
       "if (notebookContainer) {{\n",
       "    x.observe(notebookContainer, {childList: true});\n",
       "}}\n",
       "\n",
       "// Listen for the clearing of the current output cell\n",
       "var outputEl = gd.closest('.output');\n",
       "if (outputEl) {{\n",
       "    x.observe(outputEl, {childList: true});\n",
       "}}\n",
       "\n",
       "                        })                };                });            </script>        </div>"
      ]
     },
     "metadata": {},
     "output_type": "display_data"
    }
   ],
   "source": [
    "sccounty_df = fr_att_merge_filter_df.loc[fr_att_merge_filter_df[\"COUNTY\"]==\"St. Charles County\"]\n",
    "\n",
    "#Plotly\n",
    "fig = px.scatter(sccounty_df, x=\"PROPORTIONAL_ATTENDANCE_TOTAL_PCT\", y = 'TOTAL_PCT',\n",
    "                color = 'COUNTY', size= \"FR_PCT\", hover_data=[\"District Name\"], width=900, height=600)\n",
    "\n",
    "fig.write_html(\"Savagescc.html\")\n",
    "fig.show()"
   ]
  },
  {
   "cell_type": "code",
   "execution_count": 38,
   "id": "c4120697-ec38-4e66-8ba6-b01e96fac338",
   "metadata": {},
   "outputs": [
    {
     "data": {
      "application/vnd.plotly.v1+json": {
       "config": {
        "plotlyServerURL": "https://plot.ly"
       },
       "data": [
        {
         "hovertemplate": "COUNTY=Franklin County<br>PROPORTIONAL_ATTENDANCE_TOTAL_PCT=%{x}<br>TOTAL_PCT=%{y}<extra></extra>",
         "legendgroup": "Franklin County",
         "marker": {
          "color": "#636efa",
          "symbol": "circle"
         },
         "mode": "markers",
         "name": "Franklin County",
         "orientation": "v",
         "showlegend": true,
         "type": "scatter",
         "x": [
          88.9,
          75.7,
          79.4,
          78,
          79.1,
          93.7,
          81.6
         ],
         "xaxis": "x",
         "y": [
          71.5,
          43.7,
          49.5,
          32.6,
          43.2,
          49.8,
          47.5
         ],
         "yaxis": "y"
        },
        {
         "hovertemplate": "COUNTY=Jefferson County<br>PROPORTIONAL_ATTENDANCE_TOTAL_PCT=%{x}<br>TOTAL_PCT=%{y}<extra></extra>",
         "legendgroup": "Jefferson County",
         "marker": {
          "color": "#EF553B",
          "symbol": "circle"
         },
         "mode": "markers",
         "name": "Jefferson County",
         "orientation": "v",
         "showlegend": true,
         "type": "scatter",
         "x": [
          75.4,
          95,
          78.9,
          74,
          83.2,
          84.3,
          89.2,
          81.1,
          78,
          80,
          78
         ],
         "xaxis": "x",
         "y": [
          41.400000000000006,
          18.2,
          42.400000000000006,
          34,
          64.1,
          46.5,
          36.5,
          37.9,
          49.1,
          44.7,
          54.599999999999994
         ],
         "yaxis": "y"
        },
        {
         "hovertemplate": "COUNTY=St. Charles County<br>PROPORTIONAL_ATTENDANCE_TOTAL_PCT=%{x}<br>TOTAL_PCT=%{y}<extra></extra>",
         "legendgroup": "St. Charles County",
         "marker": {
          "color": "#00cc96",
          "symbol": "circle"
         },
         "mode": "markers",
         "name": "St. Charles County",
         "orientation": "v",
         "showlegend": true,
         "type": "scatter",
         "x": [
          80.9,
          81.9,
          78.2,
          80.3,
          82.1
         ],
         "xaxis": "x",
         "y": [
          58.400000000000006,
          61.2,
          51.1,
          48.2,
          53
         ],
         "yaxis": "y"
        },
        {
         "hovertemplate": "COUNTY=North County<br>PROPORTIONAL_ATTENDANCE_TOTAL_PCT=%{x}<br>TOTAL_PCT=%{y}<extra></extra>",
         "legendgroup": "North County",
         "marker": {
          "color": "#ab63fa",
          "symbol": "circle"
         },
         "mode": "markers",
         "name": "North County",
         "orientation": "v",
         "showlegend": true,
         "type": "scatter",
         "x": [
          57.7,
          56,
          76,
          65.8,
          50.1,
          47.3,
          59.8,
          38.7
         ],
         "xaxis": "x",
         "y": [
          19.200000000000003,
          16.4,
          38.2,
          33.6,
          15.4,
          7,
          22.3,
          2.5
         ],
         "yaxis": "y"
        },
        {
         "hovertemplate": "COUNTY=West County<br>PROPORTIONAL_ATTENDANCE_TOTAL_PCT=%{x}<br>TOTAL_PCT=%{y}<extra></extra>",
         "legendgroup": "West County",
         "marker": {
          "color": "#FFA15A",
          "symbol": "circle"
         },
         "mode": "markers",
         "name": "West County",
         "orientation": "v",
         "showlegend": true,
         "type": "scatter",
         "x": [
          81.9,
          87.2,
          85.1,
          82.9,
          82.4,
          86.8,
          83,
          77.1,
          56.8,
          80.6,
          86
         ],
         "xaxis": "x",
         "y": [
          57.8,
          58.1,
          55.7,
          57.400000000000006,
          62.5,
          70.2,
          66.8,
          47.5,
          25.8,
          42.9,
          65.3
         ],
         "yaxis": "y"
        },
        {
         "hovertemplate": "COUNTY=South County<br>PROPORTIONAL_ATTENDANCE_TOTAL_PCT=%{x}<br>TOTAL_PCT=%{y}<extra></extra>",
         "legendgroup": "South County",
         "marker": {
          "color": "#19d3f3",
          "symbol": "circle"
         },
         "mode": "markers",
         "name": "South County",
         "orientation": "v",
         "showlegend": true,
         "type": "scatter",
         "x": [
          80.5,
          72,
          81.1
         ],
         "xaxis": "x",
         "y": [
          37.9,
          33.7,
          51.2
         ],
         "yaxis": "y"
        },
        {
         "hovertemplate": "COUNTY=St. Louis City<br>PROPORTIONAL_ATTENDANCE_TOTAL_PCT=%{x}<br>TOTAL_PCT=%{y}<extra></extra>",
         "legendgroup": "St. Louis City",
         "marker": {
          "color": "#FF6692",
          "symbol": "circle"
         },
         "mode": "markers",
         "name": "St. Louis City",
         "orientation": "v",
         "showlegend": true,
         "type": "scatter",
         "x": [
          49.4
         ],
         "xaxis": "x",
         "y": [
          16.200000000000003
         ],
         "yaxis": "y"
        }
       ],
       "layout": {
        "autosize": true,
        "legend": {
         "title": {
          "text": "COUNTY"
         },
         "tracegroupgap": 0
        },
        "margin": {
         "t": 60
        },
        "template": {
         "data": {
          "bar": [
           {
            "error_x": {
             "color": "#2a3f5f"
            },
            "error_y": {
             "color": "#2a3f5f"
            },
            "marker": {
             "line": {
              "color": "#E5ECF6",
              "width": 0.5
             },
             "pattern": {
              "fillmode": "overlay",
              "size": 10,
              "solidity": 0.2
             }
            },
            "type": "bar"
           }
          ],
          "barpolar": [
           {
            "marker": {
             "line": {
              "color": "#E5ECF6",
              "width": 0.5
             },
             "pattern": {
              "fillmode": "overlay",
              "size": 10,
              "solidity": 0.2
             }
            },
            "type": "barpolar"
           }
          ],
          "carpet": [
           {
            "aaxis": {
             "endlinecolor": "#2a3f5f",
             "gridcolor": "white",
             "linecolor": "white",
             "minorgridcolor": "white",
             "startlinecolor": "#2a3f5f"
            },
            "baxis": {
             "endlinecolor": "#2a3f5f",
             "gridcolor": "white",
             "linecolor": "white",
             "minorgridcolor": "white",
             "startlinecolor": "#2a3f5f"
            },
            "type": "carpet"
           }
          ],
          "choropleth": [
           {
            "colorbar": {
             "outlinewidth": 0,
             "ticks": ""
            },
            "type": "choropleth"
           }
          ],
          "contour": [
           {
            "colorbar": {
             "outlinewidth": 0,
             "ticks": ""
            },
            "colorscale": [
             [
              0,
              "#0d0887"
             ],
             [
              0.1111111111111111,
              "#46039f"
             ],
             [
              0.2222222222222222,
              "#7201a8"
             ],
             [
              0.3333333333333333,
              "#9c179e"
             ],
             [
              0.4444444444444444,
              "#bd3786"
             ],
             [
              0.5555555555555556,
              "#d8576b"
             ],
             [
              0.6666666666666666,
              "#ed7953"
             ],
             [
              0.7777777777777778,
              "#fb9f3a"
             ],
             [
              0.8888888888888888,
              "#fdca26"
             ],
             [
              1,
              "#f0f921"
             ]
            ],
            "type": "contour"
           }
          ],
          "contourcarpet": [
           {
            "colorbar": {
             "outlinewidth": 0,
             "ticks": ""
            },
            "type": "contourcarpet"
           }
          ],
          "heatmap": [
           {
            "colorbar": {
             "outlinewidth": 0,
             "ticks": ""
            },
            "colorscale": [
             [
              0,
              "#0d0887"
             ],
             [
              0.1111111111111111,
              "#46039f"
             ],
             [
              0.2222222222222222,
              "#7201a8"
             ],
             [
              0.3333333333333333,
              "#9c179e"
             ],
             [
              0.4444444444444444,
              "#bd3786"
             ],
             [
              0.5555555555555556,
              "#d8576b"
             ],
             [
              0.6666666666666666,
              "#ed7953"
             ],
             [
              0.7777777777777778,
              "#fb9f3a"
             ],
             [
              0.8888888888888888,
              "#fdca26"
             ],
             [
              1,
              "#f0f921"
             ]
            ],
            "type": "heatmap"
           }
          ],
          "heatmapgl": [
           {
            "colorbar": {
             "outlinewidth": 0,
             "ticks": ""
            },
            "colorscale": [
             [
              0,
              "#0d0887"
             ],
             [
              0.1111111111111111,
              "#46039f"
             ],
             [
              0.2222222222222222,
              "#7201a8"
             ],
             [
              0.3333333333333333,
              "#9c179e"
             ],
             [
              0.4444444444444444,
              "#bd3786"
             ],
             [
              0.5555555555555556,
              "#d8576b"
             ],
             [
              0.6666666666666666,
              "#ed7953"
             ],
             [
              0.7777777777777778,
              "#fb9f3a"
             ],
             [
              0.8888888888888888,
              "#fdca26"
             ],
             [
              1,
              "#f0f921"
             ]
            ],
            "type": "heatmapgl"
           }
          ],
          "histogram": [
           {
            "marker": {
             "pattern": {
              "fillmode": "overlay",
              "size": 10,
              "solidity": 0.2
             }
            },
            "type": "histogram"
           }
          ],
          "histogram2d": [
           {
            "colorbar": {
             "outlinewidth": 0,
             "ticks": ""
            },
            "colorscale": [
             [
              0,
              "#0d0887"
             ],
             [
              0.1111111111111111,
              "#46039f"
             ],
             [
              0.2222222222222222,
              "#7201a8"
             ],
             [
              0.3333333333333333,
              "#9c179e"
             ],
             [
              0.4444444444444444,
              "#bd3786"
             ],
             [
              0.5555555555555556,
              "#d8576b"
             ],
             [
              0.6666666666666666,
              "#ed7953"
             ],
             [
              0.7777777777777778,
              "#fb9f3a"
             ],
             [
              0.8888888888888888,
              "#fdca26"
             ],
             [
              1,
              "#f0f921"
             ]
            ],
            "type": "histogram2d"
           }
          ],
          "histogram2dcontour": [
           {
            "colorbar": {
             "outlinewidth": 0,
             "ticks": ""
            },
            "colorscale": [
             [
              0,
              "#0d0887"
             ],
             [
              0.1111111111111111,
              "#46039f"
             ],
             [
              0.2222222222222222,
              "#7201a8"
             ],
             [
              0.3333333333333333,
              "#9c179e"
             ],
             [
              0.4444444444444444,
              "#bd3786"
             ],
             [
              0.5555555555555556,
              "#d8576b"
             ],
             [
              0.6666666666666666,
              "#ed7953"
             ],
             [
              0.7777777777777778,
              "#fb9f3a"
             ],
             [
              0.8888888888888888,
              "#fdca26"
             ],
             [
              1,
              "#f0f921"
             ]
            ],
            "type": "histogram2dcontour"
           }
          ],
          "mesh3d": [
           {
            "colorbar": {
             "outlinewidth": 0,
             "ticks": ""
            },
            "type": "mesh3d"
           }
          ],
          "parcoords": [
           {
            "line": {
             "colorbar": {
              "outlinewidth": 0,
              "ticks": ""
             }
            },
            "type": "parcoords"
           }
          ],
          "pie": [
           {
            "automargin": true,
            "type": "pie"
           }
          ],
          "scatter": [
           {
            "fillpattern": {
             "fillmode": "overlay",
             "size": 10,
             "solidity": 0.2
            },
            "type": "scatter"
           }
          ],
          "scatter3d": [
           {
            "line": {
             "colorbar": {
              "outlinewidth": 0,
              "ticks": ""
             }
            },
            "marker": {
             "colorbar": {
              "outlinewidth": 0,
              "ticks": ""
             }
            },
            "type": "scatter3d"
           }
          ],
          "scattercarpet": [
           {
            "marker": {
             "colorbar": {
              "outlinewidth": 0,
              "ticks": ""
             }
            },
            "type": "scattercarpet"
           }
          ],
          "scattergeo": [
           {
            "marker": {
             "colorbar": {
              "outlinewidth": 0,
              "ticks": ""
             }
            },
            "type": "scattergeo"
           }
          ],
          "scattergl": [
           {
            "marker": {
             "colorbar": {
              "outlinewidth": 0,
              "ticks": ""
             }
            },
            "type": "scattergl"
           }
          ],
          "scattermapbox": [
           {
            "marker": {
             "colorbar": {
              "outlinewidth": 0,
              "ticks": ""
             }
            },
            "type": "scattermapbox"
           }
          ],
          "scatterpolar": [
           {
            "marker": {
             "colorbar": {
              "outlinewidth": 0,
              "ticks": ""
             }
            },
            "type": "scatterpolar"
           }
          ],
          "scatterpolargl": [
           {
            "marker": {
             "colorbar": {
              "outlinewidth": 0,
              "ticks": ""
             }
            },
            "type": "scatterpolargl"
           }
          ],
          "scatterternary": [
           {
            "marker": {
             "colorbar": {
              "outlinewidth": 0,
              "ticks": ""
             }
            },
            "type": "scatterternary"
           }
          ],
          "surface": [
           {
            "colorbar": {
             "outlinewidth": 0,
             "ticks": ""
            },
            "colorscale": [
             [
              0,
              "#0d0887"
             ],
             [
              0.1111111111111111,
              "#46039f"
             ],
             [
              0.2222222222222222,
              "#7201a8"
             ],
             [
              0.3333333333333333,
              "#9c179e"
             ],
             [
              0.4444444444444444,
              "#bd3786"
             ],
             [
              0.5555555555555556,
              "#d8576b"
             ],
             [
              0.6666666666666666,
              "#ed7953"
             ],
             [
              0.7777777777777778,
              "#fb9f3a"
             ],
             [
              0.8888888888888888,
              "#fdca26"
             ],
             [
              1,
              "#f0f921"
             ]
            ],
            "type": "surface"
           }
          ],
          "table": [
           {
            "cells": {
             "fill": {
              "color": "#EBF0F8"
             },
             "line": {
              "color": "white"
             }
            },
            "header": {
             "fill": {
              "color": "#C8D4E3"
             },
             "line": {
              "color": "white"
             }
            },
            "type": "table"
           }
          ]
         },
         "layout": {
          "annotationdefaults": {
           "arrowcolor": "#2a3f5f",
           "arrowhead": 0,
           "arrowwidth": 1
          },
          "autotypenumbers": "strict",
          "coloraxis": {
           "colorbar": {
            "outlinewidth": 0,
            "ticks": ""
           }
          },
          "colorscale": {
           "diverging": [
            [
             0,
             "#8e0152"
            ],
            [
             0.1,
             "#c51b7d"
            ],
            [
             0.2,
             "#de77ae"
            ],
            [
             0.3,
             "#f1b6da"
            ],
            [
             0.4,
             "#fde0ef"
            ],
            [
             0.5,
             "#f7f7f7"
            ],
            [
             0.6,
             "#e6f5d0"
            ],
            [
             0.7,
             "#b8e186"
            ],
            [
             0.8,
             "#7fbc41"
            ],
            [
             0.9,
             "#4d9221"
            ],
            [
             1,
             "#276419"
            ]
           ],
           "sequential": [
            [
             0,
             "#0d0887"
            ],
            [
             0.1111111111111111,
             "#46039f"
            ],
            [
             0.2222222222222222,
             "#7201a8"
            ],
            [
             0.3333333333333333,
             "#9c179e"
            ],
            [
             0.4444444444444444,
             "#bd3786"
            ],
            [
             0.5555555555555556,
             "#d8576b"
            ],
            [
             0.6666666666666666,
             "#ed7953"
            ],
            [
             0.7777777777777778,
             "#fb9f3a"
            ],
            [
             0.8888888888888888,
             "#fdca26"
            ],
            [
             1,
             "#f0f921"
            ]
           ],
           "sequentialminus": [
            [
             0,
             "#0d0887"
            ],
            [
             0.1111111111111111,
             "#46039f"
            ],
            [
             0.2222222222222222,
             "#7201a8"
            ],
            [
             0.3333333333333333,
             "#9c179e"
            ],
            [
             0.4444444444444444,
             "#bd3786"
            ],
            [
             0.5555555555555556,
             "#d8576b"
            ],
            [
             0.6666666666666666,
             "#ed7953"
            ],
            [
             0.7777777777777778,
             "#fb9f3a"
            ],
            [
             0.8888888888888888,
             "#fdca26"
            ],
            [
             1,
             "#f0f921"
            ]
           ]
          },
          "colorway": [
           "#636efa",
           "#EF553B",
           "#00cc96",
           "#ab63fa",
           "#FFA15A",
           "#19d3f3",
           "#FF6692",
           "#B6E880",
           "#FF97FF",
           "#FECB52"
          ],
          "font": {
           "color": "#2a3f5f"
          },
          "geo": {
           "bgcolor": "white",
           "lakecolor": "white",
           "landcolor": "#E5ECF6",
           "showlakes": true,
           "showland": true,
           "subunitcolor": "white"
          },
          "hoverlabel": {
           "align": "left"
          },
          "hovermode": "closest",
          "mapbox": {
           "style": "light"
          },
          "paper_bgcolor": "white",
          "plot_bgcolor": "#E5ECF6",
          "polar": {
           "angularaxis": {
            "gridcolor": "white",
            "linecolor": "white",
            "ticks": ""
           },
           "bgcolor": "#E5ECF6",
           "radialaxis": {
            "gridcolor": "white",
            "linecolor": "white",
            "ticks": ""
           }
          },
          "scene": {
           "xaxis": {
            "backgroundcolor": "#E5ECF6",
            "gridcolor": "white",
            "gridwidth": 2,
            "linecolor": "white",
            "showbackground": true,
            "ticks": "",
            "zerolinecolor": "white"
           },
           "yaxis": {
            "backgroundcolor": "#E5ECF6",
            "gridcolor": "white",
            "gridwidth": 2,
            "linecolor": "white",
            "showbackground": true,
            "ticks": "",
            "zerolinecolor": "white"
           },
           "zaxis": {
            "backgroundcolor": "#E5ECF6",
            "gridcolor": "white",
            "gridwidth": 2,
            "linecolor": "white",
            "showbackground": true,
            "ticks": "",
            "zerolinecolor": "white"
           }
          },
          "shapedefaults": {
           "line": {
            "color": "#2a3f5f"
           }
          },
          "ternary": {
           "aaxis": {
            "gridcolor": "white",
            "linecolor": "white",
            "ticks": ""
           },
           "baxis": {
            "gridcolor": "white",
            "linecolor": "white",
            "ticks": ""
           },
           "bgcolor": "#E5ECF6",
           "caxis": {
            "gridcolor": "white",
            "linecolor": "white",
            "ticks": ""
           }
          },
          "title": {
           "x": 0.05
          },
          "xaxis": {
           "automargin": true,
           "gridcolor": "white",
           "linecolor": "white",
           "ticks": "",
           "title": {
            "standoff": 15
           },
           "zerolinecolor": "white",
           "zerolinewidth": 2
          },
          "yaxis": {
           "automargin": true,
           "gridcolor": "white",
           "linecolor": "white",
           "ticks": "",
           "title": {
            "standoff": 15
           },
           "zerolinecolor": "white",
           "zerolinewidth": 2
          }
         }
        },
        "xaxis": {
         "anchor": "y",
         "autorange": true,
         "domain": [
          0,
          1
         ],
         "range": [
          35.020780441937006,
          98.679219558063
         ],
         "title": {
          "text": "PROPORTIONAL_ATTENDANCE_TOTAL_PCT"
         },
         "type": "linear"
        },
        "yaxis": {
         "anchor": "x",
         "autorange": true,
         "domain": [
          0,
          1
         ],
         "range": [
          -2.8425196850393704,
          76.84251968503938
         ],
         "title": {
          "text": "TOTAL_PCT"
         },
         "type": "linear"
        }
       }
      },
      "image/png": "[encoded data removed]",
      "text/html": [
       "<div>                            <div id=\"4c1597c5-c1dc-4aa5-9232-c2d7bc815355\" class=\"plotly-graph-div\" style=\"height:525px; width:100%;\"></div>            <script type=\"text/javascript\">                require([\"plotly\"], function(Plotly) {                    window.PLOTLYENV=window.PLOTLYENV || {};                                    if (document.getElementById(\"4c1597c5-c1dc-4aa5-9232-c2d7bc815355\")) {                    Plotly.newPlot(                        \"4c1597c5-c1dc-4aa5-9232-c2d7bc815355\",                        [{\"hovertemplate\":\"COUNTY=Franklin County\\u003cbr\\u003ePROPORTIONAL_ATTENDANCE_TOTAL_PCT=%{x}\\u003cbr\\u003eTOTAL_PCT=%{y}\\u003cextra\\u003e\\u003c\\u002fextra\\u003e\",\"legendgroup\":\"Franklin County\",\"marker\":{\"color\":\"#636efa\",\"symbol\":\"circle\"},\"mode\":\"markers\",\"name\":\"Franklin County\",\"orientation\":\"v\",\"showlegend\":true,\"x\":[88.9,75.7,79.4,78.0,79.1,93.7,81.6],\"xaxis\":\"x\",\"y\":[71.5,43.7,49.5,32.6,43.2,49.8,47.5],\"yaxis\":\"y\",\"type\":\"scatter\"},{\"hovertemplate\":\"COUNTY=Jefferson County\\u003cbr\\u003ePROPORTIONAL_ATTENDANCE_TOTAL_PCT=%{x}\\u003cbr\\u003eTOTAL_PCT=%{y}\\u003cextra\\u003e\\u003c\\u002fextra\\u003e\",\"legendgroup\":\"Jefferson County\",\"marker\":{\"color\":\"#EF553B\",\"symbol\":\"circle\"},\"mode\":\"markers\",\"name\":\"Jefferson County\",\"orientation\":\"v\",\"showlegend\":true,\"x\":[75.4,95.0,78.9,74.0,83.2,84.3,89.2,81.1,78.0,80.0,78.0],\"xaxis\":\"x\",\"y\":[41.400000000000006,18.2,42.400000000000006,34.0,64.1,46.5,36.5,37.9,49.1,44.7,54.599999999999994],\"yaxis\":\"y\",\"type\":\"scatter\"},{\"hovertemplate\":\"COUNTY=St. Charles County\\u003cbr\\u003ePROPORTIONAL_ATTENDANCE_TOTAL_PCT=%{x}\\u003cbr\\u003eTOTAL_PCT=%{y}\\u003cextra\\u003e\\u003c\\u002fextra\\u003e\",\"legendgroup\":\"St. Charles County\",\"marker\":{\"color\":\"#00cc96\",\"symbol\":\"circle\"},\"mode\":\"markers\",\"name\":\"St. Charles County\",\"orientation\":\"v\",\"showlegend\":true,\"x\":[80.9,81.9,78.2,80.3,82.1],\"xaxis\":\"x\",\"y\":[58.400000000000006,61.2,51.1,48.2,53.0],\"yaxis\":\"y\",\"type\":\"scatter\"},{\"hovertemplate\":\"COUNTY=North County\\u003cbr\\u003ePROPORTIONAL_ATTENDANCE_TOTAL_PCT=%{x}\\u003cbr\\u003eTOTAL_PCT=%{y}\\u003cextra\\u003e\\u003c\\u002fextra\\u003e\",\"legendgroup\":\"North County\",\"marker\":{\"color\":\"#ab63fa\",\"symbol\":\"circle\"},\"mode\":\"markers\",\"name\":\"North County\",\"orientation\":\"v\",\"showlegend\":true,\"x\":[57.7,56.0,76.0,65.8,50.1,47.3,59.8,38.7],\"xaxis\":\"x\",\"y\":[19.200000000000003,16.4,38.2,33.6,15.4,7.0,22.3,2.5],\"yaxis\":\"y\",\"type\":\"scatter\"},{\"hovertemplate\":\"COUNTY=West County\\u003cbr\\u003ePROPORTIONAL_ATTENDANCE_TOTAL_PCT=%{x}\\u003cbr\\u003eTOTAL_PCT=%{y}\\u003cextra\\u003e\\u003c\\u002fextra\\u003e\",\"legendgroup\":\"West County\",\"marker\":{\"color\":\"#FFA15A\",\"symbol\":\"circle\"},\"mode\":\"markers\",\"name\":\"West County\",\"orientation\":\"v\",\"showlegend\":true,\"x\":[81.9,87.2,85.1,82.9,82.4,86.8,83.0,77.1,56.8,80.6,86.0],\"xaxis\":\"x\",\"y\":[57.8,58.1,55.7,57.400000000000006,62.5,70.2,66.8,47.5,25.8,42.9,65.3],\"yaxis\":\"y\",\"type\":\"scatter\"},{\"hovertemplate\":\"COUNTY=South County\\u003cbr\\u003ePROPORTIONAL_ATTENDANCE_TOTAL_PCT=%{x}\\u003cbr\\u003eTOTAL_PCT=%{y}\\u003cextra\\u003e\\u003c\\u002fextra\\u003e\",\"legendgroup\":\"South County\",\"marker\":{\"color\":\"#19d3f3\",\"symbol\":\"circle\"},\"mode\":\"markers\",\"name\":\"South County\",\"orientation\":\"v\",\"showlegend\":true,\"x\":[80.5,72.0,81.1],\"xaxis\":\"x\",\"y\":[37.9,33.7,51.2],\"yaxis\":\"y\",\"type\":\"scatter\"},{\"hovertemplate\":\"COUNTY=St. Louis City\\u003cbr\\u003ePROPORTIONAL_ATTENDANCE_TOTAL_PCT=%{x}\\u003cbr\\u003eTOTAL_PCT=%{y}\\u003cextra\\u003e\\u003c\\u002fextra\\u003e\",\"legendgroup\":\"St. Louis City\",\"marker\":{\"color\":\"#FF6692\",\"symbol\":\"circle\"},\"mode\":\"markers\",\"name\":\"St. Louis City\",\"orientation\":\"v\",\"showlegend\":true,\"x\":[49.4],\"xaxis\":\"x\",\"y\":[16.200000000000003],\"yaxis\":\"y\",\"type\":\"scatter\"}],                        {\"template\":{\"data\":{\"histogram2dcontour\":[{\"type\":\"histogram2dcontour\",\"colorbar\":{\"outlinewidth\":0,\"ticks\":\"\"},\"colorscale\":[[0.0,\"#0d0887\"],[0.1111111111111111,\"#46039f\"],[0.2222222222222222,\"#7201a8\"],[0.3333333333333333,\"#9c179e\"],[0.4444444444444444,\"#bd3786\"],[0.5555555555555556,\"#d8576b\"],[0.6666666666666666,\"#ed7953\"],[0.7777777777777778,\"#fb9f3a\"],[0.8888888888888888,\"#fdca26\"],[1.0,\"#f0f921\"]]}],\"choropleth\":[{\"type\":\"choropleth\",\"colorbar\":{\"outlinewidth\":0,\"ticks\":\"\"}}],\"histogram2d\":[{\"type\":\"histogram2d\",\"colorbar\":{\"outlinewidth\":0,\"ticks\":\"\"},\"colorscale\":[[0.0,\"#0d0887\"],[0.1111111111111111,\"#46039f\"],[0.2222222222222222,\"#7201a8\"],[0.3333333333333333,\"#9c179e\"],[0.4444444444444444,\"#bd3786\"],[0.5555555555555556,\"#d8576b\"],[0.6666666666666666,\"#ed7953\"],[0.7777777777777778,\"#fb9f3a\"],[0.8888888888888888,\"#fdca26\"],[1.0,\"#f0f921\"]]}],\"heatmap\":[{\"type\":\"heatmap\",\"colorbar\":{\"outlinewidth\":0,\"ticks\":\"\"},\"colorscale\":[[0.0,\"#0d0887\"],[0.1111111111111111,\"#46039f\"],[0.2222222222222222,\"#7201a8\"],[0.3333333333333333,\"#9c179e\"],[0.4444444444444444,\"#bd3786\"],[0.5555555555555556,\"#d8576b\"],[0.6666666666666666,\"#ed7953\"],[0.7777777777777778,\"#fb9f3a\"],[0.8888888888888888,\"#fdca26\"],[1.0,\"#f0f921\"]]}],\"heatmapgl\":[{\"type\":\"heatmapgl\",\"colorbar\":{\"outlinewidth\":0,\"ticks\":\"\"},\"colorscale\":[[0.0,\"#0d0887\"],[0.1111111111111111,\"#46039f\"],[0.2222222222222222,\"#7201a8\"],[0.3333333333333333,\"#9c179e\"],[0.4444444444444444,\"#bd3786\"],[0.5555555555555556,\"#d8576b\"],[0.6666666666666666,\"#ed7953\"],[0.7777777777777778,\"#fb9f3a\"],[0.8888888888888888,\"#fdca26\"],[1.0,\"#f0f921\"]]}],\"contourcarpet\":[{\"type\":\"contourcarpet\",\"colorbar\":{\"outlinewidth\":0,\"ticks\":\"\"}}],\"contour\":[{\"type\":\"contour\",\"colorbar\":{\"outlinewidth\":0,\"ticks\":\"\"},\"colorscale\":[[0.0,\"#0d0887\"],[0.1111111111111111,\"#46039f\"],[0.2222222222222222,\"#7201a8\"],[0.3333333333333333,\"#9c179e\"],[0.4444444444444444,\"#bd3786\"],[0.5555555555555556,\"#d8576b\"],[0.6666666666666666,\"#ed7953\"],[0.7777777777777778,\"#fb9f3a\"],[0.8888888888888888,\"#fdca26\"],[1.0,\"#f0f921\"]]}],\"surface\":[{\"type\":\"surface\",\"colorbar\":{\"outlinewidth\":0,\"ticks\":\"\"},\"colorscale\":[[0.0,\"#0d0887\"],[0.1111111111111111,\"#46039f\"],[0.2222222222222222,\"#7201a8\"],[0.3333333333333333,\"#9c179e\"],[0.4444444444444444,\"#bd3786\"],[0.5555555555555556,\"#d8576b\"],[0.6666666666666666,\"#ed7953\"],[0.7777777777777778,\"#fb9f3a\"],[0.8888888888888888,\"#fdca26\"],[1.0,\"#f0f921\"]]}],\"mesh3d\":[{\"type\":\"mesh3d\",\"colorbar\":{\"outlinewidth\":0,\"ticks\":\"\"}}],\"scatter\":[{\"fillpattern\":{\"fillmode\":\"overlay\",\"size\":10,\"solidity\":0.2},\"type\":\"scatter\"}],\"parcoords\":[{\"type\":\"parcoords\",\"line\":{\"colorbar\":{\"outlinewidth\":0,\"ticks\":\"\"}}}],\"scatterpolargl\":[{\"type\":\"scatterpolargl\",\"marker\":{\"colorbar\":{\"outlinewidth\":0,\"ticks\":\"\"}}}],\"bar\":[{\"error_x\":{\"color\":\"#2a3f5f\"},\"error_y\":{\"color\":\"#2a3f5f\"},\"marker\":{\"line\":{\"color\":\"#E5ECF6\",\"width\":0.5},\"pattern\":{\"fillmode\":\"overlay\",\"size\":10,\"solidity\":0.2}},\"type\":\"bar\"}],\"scattergeo\":[{\"type\":\"scattergeo\",\"marker\":{\"colorbar\":{\"outlinewidth\":0,\"ticks\":\"\"}}}],\"scatterpolar\":[{\"type\":\"scatterpolar\",\"marker\":{\"colorbar\":{\"outlinewidth\":0,\"ticks\":\"\"}}}],\"histogram\":[{\"marker\":{\"pattern\":{\"fillmode\":\"overlay\",\"size\":10,\"solidity\":0.2}},\"type\":\"histogram\"}],\"scattergl\":[{\"type\":\"scattergl\",\"marker\":{\"colorbar\":{\"outlinewidth\":0,\"ticks\":\"\"}}}],\"scatter3d\":[{\"type\":\"scatter3d\",\"line\":{\"colorbar\":{\"outlinewidth\":0,\"ticks\":\"\"}},\"marker\":{\"colorbar\":{\"outlinewidth\":0,\"ticks\":\"\"}}}],\"scattermapbox\":[{\"type\":\"scattermapbox\",\"marker\":{\"colorbar\":{\"outlinewidth\":0,\"ticks\":\"\"}}}],\"scatterternary\":[{\"type\":\"scatterternary\",\"marker\":{\"colorbar\":{\"outlinewidth\":0,\"ticks\":\"\"}}}],\"scattercarpet\":[{\"type\":\"scattercarpet\",\"marker\":{\"colorbar\":{\"outlinewidth\":0,\"ticks\":\"\"}}}],\"carpet\":[{\"aaxis\":{\"endlinecolor\":\"#2a3f5f\",\"gridcolor\":\"white\",\"linecolor\":\"white\",\"minorgridcolor\":\"white\",\"startlinecolor\":\"#2a3f5f\"},\"baxis\":{\"endlinecolor\":\"#2a3f5f\",\"gridcolor\":\"white\",\"linecolor\":\"white\",\"minorgridcolor\":\"white\",\"startlinecolor\":\"#2a3f5f\"},\"type\":\"carpet\"}],\"table\":[{\"cells\":{\"fill\":{\"color\":\"#EBF0F8\"},\"line\":{\"color\":\"white\"}},\"header\":{\"fill\":{\"color\":\"#C8D4E3\"},\"line\":{\"color\":\"white\"}},\"type\":\"table\"}],\"barpolar\":[{\"marker\":{\"line\":{\"color\":\"#E5ECF6\",\"width\":0.5},\"pattern\":{\"fillmode\":\"overlay\",\"size\":10,\"solidity\":0.2}},\"type\":\"barpolar\"}],\"pie\":[{\"automargin\":true,\"type\":\"pie\"}]},\"layout\":{\"autotypenumbers\":\"strict\",\"colorway\":[\"#636efa\",\"#EF553B\",\"#00cc96\",\"#ab63fa\",\"#FFA15A\",\"#19d3f3\",\"#FF6692\",\"#B6E880\",\"#FF97FF\",\"#FECB52\"],\"font\":{\"color\":\"#2a3f5f\"},\"hovermode\":\"closest\",\"hoverlabel\":{\"align\":\"left\"},\"paper_bgcolor\":\"white\",\"plot_bgcolor\":\"#E5ECF6\",\"polar\":{\"bgcolor\":\"#E5ECF6\",\"angularaxis\":{\"gridcolor\":\"white\",\"linecolor\":\"white\",\"ticks\":\"\"},\"radialaxis\":{\"gridcolor\":\"white\",\"linecolor\":\"white\",\"ticks\":\"\"}},\"ternary\":{\"bgcolor\":\"#E5ECF6\",\"aaxis\":{\"gridcolor\":\"white\",\"linecolor\":\"white\",\"ticks\":\"\"},\"baxis\":{\"gridcolor\":\"white\",\"linecolor\":\"white\",\"ticks\":\"\"},\"caxis\":{\"gridcolor\":\"white\",\"linecolor\":\"white\",\"ticks\":\"\"}},\"coloraxis\":{\"colorbar\":{\"outlinewidth\":0,\"ticks\":\"\"}},\"colorscale\":{\"sequential\":[[0.0,\"#0d0887\"],[0.1111111111111111,\"#46039f\"],[0.2222222222222222,\"#7201a8\"],[0.3333333333333333,\"#9c179e\"],[0.4444444444444444,\"#bd3786\"],[0.5555555555555556,\"#d8576b\"],[0.6666666666666666,\"#ed7953\"],[0.7777777777777778,\"#fb9f3a\"],[0.8888888888888888,\"#fdca26\"],[1.0,\"#f0f921\"]],\"sequentialminus\":[[0.0,\"#0d0887\"],[0.1111111111111111,\"#46039f\"],[0.2222222222222222,\"#7201a8\"],[0.3333333333333333,\"#9c179e\"],[0.4444444444444444,\"#bd3786\"],[0.5555555555555556,\"#d8576b\"],[0.6666666666666666,\"#ed7953\"],[0.7777777777777778,\"#fb9f3a\"],[0.8888888888888888,\"#fdca26\"],[1.0,\"#f0f921\"]],\"diverging\":[[0,\"#8e0152\"],[0.1,\"#c51b7d\"],[0.2,\"#de77ae\"],[0.3,\"#f1b6da\"],[0.4,\"#fde0ef\"],[0.5,\"#f7f7f7\"],[0.6,\"#e6f5d0\"],[0.7,\"#b8e186\"],[0.8,\"#7fbc41\"],[0.9,\"#4d9221\"],[1,\"#276419\"]]},\"xaxis\":{\"gridcolor\":\"white\",\"linecolor\":\"white\",\"ticks\":\"\",\"title\":{\"standoff\":15},\"zerolinecolor\":\"white\",\"automargin\":true,\"zerolinewidth\":2},\"yaxis\":{\"gridcolor\":\"white\",\"linecolor\":\"white\",\"ticks\":\"\",\"title\":{\"standoff\":15},\"zerolinecolor\":\"white\",\"automargin\":true,\"zerolinewidth\":2},\"scene\":{\"xaxis\":{\"backgroundcolor\":\"#E5ECF6\",\"gridcolor\":\"white\",\"linecolor\":\"white\",\"showbackground\":true,\"ticks\":\"\",\"zerolinecolor\":\"white\",\"gridwidth\":2},\"yaxis\":{\"backgroundcolor\":\"#E5ECF6\",\"gridcolor\":\"white\",\"linecolor\":\"white\",\"showbackground\":true,\"ticks\":\"\",\"zerolinecolor\":\"white\",\"gridwidth\":2},\"zaxis\":{\"backgroundcolor\":\"#E5ECF6\",\"gridcolor\":\"white\",\"linecolor\":\"white\",\"showbackground\":true,\"ticks\":\"\",\"zerolinecolor\":\"white\",\"gridwidth\":2}},\"shapedefaults\":{\"line\":{\"color\":\"#2a3f5f\"}},\"annotationdefaults\":{\"arrowcolor\":\"#2a3f5f\",\"arrowhead\":0,\"arrowwidth\":1},\"geo\":{\"bgcolor\":\"white\",\"landcolor\":\"#E5ECF6\",\"subunitcolor\":\"white\",\"showland\":true,\"showlakes\":true,\"lakecolor\":\"white\"},\"title\":{\"x\":0.05},\"mapbox\":{\"style\":\"light\"}}},\"xaxis\":{\"anchor\":\"y\",\"domain\":[0.0,1.0],\"title\":{\"text\":\"PROPORTIONAL_ATTENDANCE_TOTAL_PCT\"}},\"yaxis\":{\"anchor\":\"x\",\"domain\":[0.0,1.0],\"title\":{\"text\":\"TOTAL_PCT\"}},\"legend\":{\"title\":{\"text\":\"COUNTY\"},\"tracegroupgap\":0},\"margin\":{\"t\":60}},                        {\"responsive\": true}                    ).then(function(){\n",
       "                            \n",
       "var gd = document.getElementById('4c1597c5-c1dc-4aa5-9232-c2d7bc815355');\n",
       "var x = new MutationObserver(function (mutations, observer) {{\n",
       "        var display = window.getComputedStyle(gd).display;\n",
       "        if (!display || display === 'none') {{\n",
       "            console.log([gd, 'removed!']);\n",
       "            Plotly.purge(gd);\n",
       "            observer.disconnect();\n",
       "        }}\n",
       "}});\n",
       "\n",
       "// Listen for the removal of the full notebook cells\n",
       "var notebookContainer = gd.closest('#notebook-container');\n",
       "if (notebookContainer) {{\n",
       "    x.observe(notebookContainer, {childList: true});\n",
       "}}\n",
       "\n",
       "// Listen for the clearing of the current output cell\n",
       "var outputEl = gd.closest('.output');\n",
       "if (outputEl) {{\n",
       "    x.observe(outputEl, {childList: true});\n",
       "}}\n",
       "\n",
       "                        })                };                });            </script>        </div>"
      ]
     },
     "metadata": {},
     "output_type": "display_data"
    }
   ],
   "source": [
    "#Plotly\n",
    "fig = px.scatter(att_merge_df, x=\"PROPORTIONAL_ATTENDANCE_TOTAL_PCT\", y = 'TOTAL_PCT',\n",
    "                color = 'COUNTY')\n",
    "\n",
    "fig.show()"
   ]
  },
  {
   "cell_type": "code",
   "execution_count": 58,
   "id": "f4fbd901-6bf0-40f7-b195-d0a6e0114efa",
   "metadata": {},
   "outputs": [
    {
     "data": {
      "text/html": [
       "\n",
       "        <iframe\n",
       "            width=\"100%\"\n",
       "            height=\"650\"\n",
       "            src=\"http://127.0.0.1:8050/\"\n",
       "            frameborder=\"0\"\n",
       "            allowfullscreen\n",
       "            \n",
       "        ></iframe>\n",
       "        "
      ],
      "text/plain": [
       "<IPython.lib.display.IFrame at 0x16b6c0050>"
      ]
     },
     "metadata": {},
     "output_type": "display_data"
    },
    {
     "name": "stdout",
     "output_type": "stream",
     "text": [
      "---------------------------------------------------------------------------\n",
      "TypeError                                 Traceback (most recent call last)\n",
      "Cell In[58], line 21, in update_bar_chart(slider_range=[0.5, 2])\n",
      "     17 @app.callback(\n",
      "     18     Output(\"scatter-plot\", \"figure\"), \n",
      "     19     Input(\"range-slider\", \"value\"))\n",
      "     20 def update_bar_chart(slider_range):\n",
      "---> 21     df = fr_att_merge_filter_df() # replace with your own data source\n",
      "        fr_att_merge_filter_df =                      District Name  PROPORTIONAL_ATTENDANCE_TOTAL_PCT  \\\n",
      "0                FRANKLIN CO. R-II                               88.9   \n",
      "1             MERAMEC VALLEY R-III                               75.7   \n",
      "2                       UNION R-XI                               79.4   \n",
      "3                 ST. CLAIR R-XIII                               78.0   \n",
      "4                         SULLIVAN                               79.1   \n",
      "5                        NEW HAVEN                               93.7   \n",
      "6                       WASHINGTON                               81.6   \n",
      "7                    NORTHWEST R-I                               75.4   \n",
      "8                   GRANDVIEW R-II                               95.0   \n",
      "9                  HILLSBORO R-III                               78.9   \n",
      "10                     DUNKLIN R-V                               74.0   \n",
      "11                     FESTUS R-VI                               83.2   \n",
      "12             JEFFERSON CO. R-VII                               84.3   \n",
      "13                    SUNRISE R-IX                               89.2   \n",
      "14                     WINDSOR C-1                               81.1   \n",
      "15                         FOX C-6                               78.0   \n",
      "16                 CRYSTAL CITY 47                               80.0   \n",
      "17                       DESOTO 73                               78.0   \n",
      "18                FT. ZUMWALT R-II                               80.9   \n",
      "19            FRANCIS HOWELL R-III                               81.9   \n",
      "20                 WENTZVILLE R-IV                               78.2   \n",
      "21                ST. CHARLES R-VI                               80.3   \n",
      "22                ORCHARD FARM R-V                               82.1   \n",
      "23                       HAZELWOOD                               57.7   \n",
      "24        FERGUSON-FLORISSANT R-II                               56.0   \n",
      "25               PATTONVILLE R-III                               76.0   \n",
      "26                   ROCKWOOD R-VI                               81.9   \n",
      "27                  KIRKWOOD R-VII                               87.2   \n",
      "28               LINDBERGH SCHOOLS                               85.1   \n",
      "29                  MEHLVILLE R-IX                               80.5   \n",
      "30                     PARKWAY C-2                               82.9   \n",
      "31                      AFFTON 101                               72.0   \n",
      "32                         BAYLESS                               81.1   \n",
      "33                       BRENTWOOD                               82.4   \n",
      "34                         CLAYTON                               86.8   \n",
      "35                   HANCOCK PLACE                               65.8   \n",
      "36                        JENNINGS                               50.1   \n",
      "37                           LADUE                               83.0   \n",
      "38      MAPLEWOOD-RICHMOND HEIGHTS                               77.1   \n",
      "39  NORMANDY SCHOOLS COLLABORATIVE                               47.3   \n",
      "40                        RITENOUR                               59.8   \n",
      "41               RIVERVIEW GARDENS                               38.7   \n",
      "42                 UNIVERSITY CITY                               56.8   \n",
      "43                     VALLEY PARK                               80.6   \n",
      "44                  WEBSTER GROVES                               86.0   \n",
      "45                  ST. LOUIS CITY                               49.4   \n",
      "\n",
      "                COUNTY  TOTAL_PCT  FR_PCT  \n",
      "0      Franklin County       71.5    24.8  \n",
      "1      Franklin County       43.7    41.4  \n",
      "2      Franklin County       49.5    42.3  \n",
      "3      Franklin County       32.6    48.1  \n",
      "4      Franklin County       43.2    46.8  \n",
      "5      Franklin County       49.8    36.4  \n",
      "6      Franklin County       47.5    25.4  \n",
      "7     Jefferson County       41.4    39.5  \n",
      "8     Jefferson County       18.2    18.5  \n",
      "9     Jefferson County       42.4    30.6  \n",
      "10    Jefferson County       34.0    44.0  \n",
      "11    Jefferson County       64.1    33.8  \n",
      "12    Jefferson County       46.5    24.2  \n",
      "13    Jefferson County       36.5    45.8  \n",
      "14    Jefferson County       37.9    29.7  \n",
      "15    Jefferson County       49.1    27.5  \n",
      "16    Jefferson County       44.7    44.6  \n",
      "17    Jefferson County       54.6    41.5  \n",
      "18  St. Charles County       58.4    18.9  \n",
      "19  St. Charles County       61.2    14.2  \n",
      "20  St. Charles County       51.1    14.8  \n",
      "21  St. Charles County       48.2    35.0  \n",
      "22  St. Charles County       53.0    24.3  \n",
      "23        North County       19.2    69.4  \n",
      "24        North County       16.4    99.9  \n",
      "25        North County       38.2    45.9  \n",
      "26         West County       57.8    11.9  \n",
      "27         West County       58.1     9.0  \n",
      "28         West County       55.7    13.5  \n",
      "29        South County       37.9    26.0  \n",
      "30         West County       57.4    19.0  \n",
      "31        South County       33.7    35.7  \n",
      "32        South County       51.2    52.7  \n",
      "33         West County       62.5    18.1  \n",
      "34         West County       70.2     9.1  \n",
      "35        North County       33.6   100.0  \n",
      "36        North County       15.4   100.0  \n",
      "37         West County       66.8     8.0  \n",
      "38         West County       47.5    30.9  \n",
      "39        North County        7.0    99.7  \n",
      "40        North County       22.3    99.9  \n",
      "41        North County        2.5   100.0  \n",
      "42         West County       25.8    99.8  \n",
      "43         West County       42.9    36.3  \n",
      "44         West County       65.3    10.2  \n",
      "45      St. Louis City       16.2    99.2  \n",
      "     22     low, high = slider_range\n",
      "     23     mask = (df[\"FR_PCT\"] > low) & (df['FR_PCT'] < high)\n",
      "\n",
      "TypeError: 'DataFrame' object is not callable\n",
      "\n"
     ]
    }
   ],
   "source": [
    "app = Dash(__name__)\n",
    "\n",
    "\n",
    "app.layout = html.Div([\n",
    "    html.H4('Interactive scatter plot with Iris dataset'),\n",
    "    dcc.Graph(id=\"scatter-plot\"),\n",
    "    html.P(\"Filter by petal width:\"),\n",
    "    dcc.RangeSlider(\n",
    "        id='range-slider',\n",
    "        min=0, max=2.5, step=0.1,\n",
    "        marks={0: '0', 100: '100'},\n",
    "        value=[0.5, 2]\n",
    "    ),\n",
    "])\n",
    "\n",
    "\n",
    "@app.callback(\n",
    "    Output(\"scatter-plot\", \"figure\"), \n",
    "    Input(\"range-slider\", \"value\"))\n",
    "def update_bar_chart(slider_range):\n",
    "    df = fr_att_merge_filter_df() # replace with your own data source\n",
    "    low, high = slider_range\n",
    "    mask = (df[\"FR_PCT\"] > low) & (df['FR_PCT'] < high)\n",
    "    fig = px.scatter(\n",
    "        df[mask], x=\"PROPORTIONAL_ATTENDANCE_TOTAL_PCT\", y=\"TOTAL_PCT\", \n",
    "        color=\"COUNTY\", size='FR_PCT', \n",
    "        hover_data=['District Name'])\n",
    "    return fig\n",
    "\n",
    "\n",
    "app.run_server(debug=True)\n",
    "#DOWNLOAD\n",
    "\n"
   ]
  },
  {
   "cell_type": "code",
   "execution_count": 64,
   "id": "6f683570-6693-4b18-b844-280eb8553831",
   "metadata": {},
   "outputs": [
    {
     "data": {
      "application/vnd.plotly.v1+json": {
       "config": {
        "plotlyServerURL": "https://plot.ly"
       },
       "data": [
        {
         "customdata": [
          [
           "FRANKLIN CO. R-II"
          ],
          [
           "MERAMEC VALLEY R-III"
          ],
          [
           "UNION R-XI"
          ],
          [
           "ST. CLAIR R-XIII"
          ],
          [
           "SULLIVAN"
          ],
          [
           "NEW HAVEN"
          ],
          [
           "WASHINGTON"
          ]
         ],
         "hovertemplate": "COUNTY=Franklin County<br>PROPORTIONAL_ATTENDANCE_TOTAL_PCT=%{x}<br>TOTAL_PCT=%{y}<br>District Name=%{customdata[0]}<extra></extra>",
         "legendgroup": "Franklin County",
         "marker": {
          "color": "#636efa",
          "size": 10,
          "symbol": "circle"
         },
         "mode": "markers",
         "name": "Franklin County",
         "orientation": "v",
         "showlegend": true,
         "type": "scatter",
         "x": [
          88.9,
          75.7,
          79.4,
          78,
          79.1,
          93.7,
          81.6
         ],
         "xaxis": "x",
         "y": [
          71.5,
          43.7,
          49.5,
          32.6,
          43.2,
          49.8,
          47.5
         ],
         "yaxis": "y"
        },
        {
         "customdata": [
          [
           "NORTHWEST R-I"
          ],
          [
           "GRANDVIEW R-II"
          ],
          [
           "HILLSBORO R-III"
          ],
          [
           "DUNKLIN R-V"
          ],
          [
           "FESTUS R-VI"
          ],
          [
           "JEFFERSON CO. R-VII"
          ],
          [
           "SUNRISE R-IX"
          ],
          [
           "WINDSOR C-1"
          ],
          [
           "FOX C-6"
          ],
          [
           "CRYSTAL CITY 47"
          ],
          [
           "DESOTO 73"
          ]
         ],
         "hovertemplate": "COUNTY=Jefferson County<br>PROPORTIONAL_ATTENDANCE_TOTAL_PCT=%{x}<br>TOTAL_PCT=%{y}<br>District Name=%{customdata[0]}<extra></extra>",
         "legendgroup": "Jefferson County",
         "marker": {
          "color": "#EF553B",
          "size": 10,
          "symbol": "circle"
         },
         "mode": "markers",
         "name": "Jefferson County",
         "orientation": "v",
         "showlegend": true,
         "type": "scatter",
         "x": [
          75.4,
          95,
          78.9,
          74,
          83.2,
          84.3,
          89.2,
          81.1,
          78,
          80,
          78
         ],
         "xaxis": "x",
         "y": [
          41.400000000000006,
          18.2,
          42.400000000000006,
          34,
          64.1,
          46.5,
          36.5,
          37.9,
          49.1,
          44.7,
          54.599999999999994
         ],
         "yaxis": "y"
        },
        {
         "customdata": [
          [
           "FT. ZUMWALT R-II"
          ],
          [
           "FRANCIS HOWELL R-III"
          ],
          [
           "WENTZVILLE R-IV"
          ],
          [
           "ST. CHARLES R-VI"
          ],
          [
           "ORCHARD FARM R-V"
          ]
         ],
         "hovertemplate": "COUNTY=St. Charles County<br>PROPORTIONAL_ATTENDANCE_TOTAL_PCT=%{x}<br>TOTAL_PCT=%{y}<br>District Name=%{customdata[0]}<extra></extra>",
         "legendgroup": "St. Charles County",
         "marker": {
          "color": "#00cc96",
          "size": 10,
          "symbol": "circle"
         },
         "mode": "markers",
         "name": "St. Charles County",
         "orientation": "v",
         "showlegend": true,
         "type": "scatter",
         "x": [
          80.9,
          81.9,
          78.2,
          80.3,
          82.1
         ],
         "xaxis": "x",
         "y": [
          58.400000000000006,
          61.2,
          51.1,
          48.2,
          53
         ],
         "yaxis": "y"
        },
        {
         "customdata": [
          [
           "HAZELWOOD"
          ],
          [
           "FERGUSON-FLORISSANT R-II"
          ],
          [
           "PATTONVILLE R-III"
          ],
          [
           "HANCOCK PLACE"
          ],
          [
           "JENNINGS"
          ],
          [
           "NORMANDY SCHOOLS COLLABORATIVE"
          ],
          [
           "RITENOUR"
          ],
          [
           "RIVERVIEW GARDENS"
          ]
         ],
         "hovertemplate": "COUNTY=North County<br>PROPORTIONAL_ATTENDANCE_TOTAL_PCT=%{x}<br>TOTAL_PCT=%{y}<br>District Name=%{customdata[0]}<extra></extra>",
         "legendgroup": "North County",
         "marker": {
          "color": "#ab63fa",
          "size": 10,
          "symbol": "circle"
         },
         "mode": "markers",
         "name": "North County",
         "orientation": "v",
         "showlegend": true,
         "type": "scatter",
         "x": [
          57.7,
          56,
          76,
          65.8,
          50.1,
          47.3,
          59.8,
          38.7
         ],
         "xaxis": "x",
         "y": [
          19.200000000000003,
          16.4,
          38.2,
          33.6,
          15.4,
          7,
          22.3,
          2.5
         ],
         "yaxis": "y"
        },
        {
         "customdata": [
          [
           "ROCKWOOD R-VI"
          ],
          [
           "KIRKWOOD R-VII"
          ],
          [
           "LINDBERGH SCHOOLS"
          ],
          [
           "PARKWAY C-2"
          ],
          [
           "BRENTWOOD"
          ],
          [
           "CLAYTON"
          ],
          [
           "LADUE"
          ],
          [
           "MAPLEWOOD-RICHMOND HEIGHTS"
          ],
          [
           "UNIVERSITY CITY"
          ],
          [
           "VALLEY PARK"
          ],
          [
           "WEBSTER GROVES"
          ]
         ],
         "hovertemplate": "COUNTY=West County<br>PROPORTIONAL_ATTENDANCE_TOTAL_PCT=%{x}<br>TOTAL_PCT=%{y}<br>District Name=%{customdata[0]}<extra></extra>",
         "legendgroup": "West County",
         "marker": {
          "color": "#FFA15A",
          "size": 10,
          "symbol": "circle"
         },
         "mode": "markers",
         "name": "West County",
         "orientation": "v",
         "showlegend": true,
         "type": "scatter",
         "x": [
          81.9,
          87.2,
          85.1,
          82.9,
          82.4,
          86.8,
          83,
          77.1,
          56.8,
          80.6,
          86
         ],
         "xaxis": "x",
         "y": [
          57.8,
          58.1,
          55.7,
          57.400000000000006,
          62.5,
          70.2,
          66.8,
          47.5,
          25.8,
          42.9,
          65.3
         ],
         "yaxis": "y"
        },
        {
         "customdata": [
          [
           "MEHLVILLE R-IX"
          ],
          [
           "AFFTON 101"
          ],
          [
           "BAYLESS"
          ]
         ],
         "hovertemplate": "COUNTY=South County<br>PROPORTIONAL_ATTENDANCE_TOTAL_PCT=%{x}<br>TOTAL_PCT=%{y}<br>District Name=%{customdata[0]}<extra></extra>",
         "legendgroup": "South County",
         "marker": {
          "color": "#19d3f3",
          "size": 10,
          "symbol": "circle"
         },
         "mode": "markers",
         "name": "South County",
         "orientation": "v",
         "showlegend": true,
         "type": "scatter",
         "x": [
          80.5,
          72,
          81.1
         ],
         "xaxis": "x",
         "y": [
          37.9,
          33.7,
          51.2
         ],
         "yaxis": "y"
        },
        {
         "customdata": [
          [
           "ST. LOUIS CITY"
          ]
         ],
         "hovertemplate": "COUNTY=St. Louis City<br>PROPORTIONAL_ATTENDANCE_TOTAL_PCT=%{x}<br>TOTAL_PCT=%{y}<br>District Name=%{customdata[0]}<extra></extra>",
         "legendgroup": "St. Louis City",
         "marker": {
          "color": "#FF6692",
          "size": 10,
          "symbol": "circle"
         },
         "mode": "markers",
         "name": "St. Louis City",
         "orientation": "v",
         "showlegend": true,
         "type": "scatter",
         "x": [
          49.4
         ],
         "xaxis": "x",
         "y": [
          16.200000000000003
         ],
         "yaxis": "y"
        }
       ],
       "layout": {
        "autosize": true,
        "legend": {
         "title": {
          "text": "COUNTY"
         },
         "tracegroupgap": 0
        },
        "margin": {
         "t": 60
        },
        "scattermode": "group",
        "template": {
         "data": {
          "bar": [
           {
            "error_x": {
             "color": "#2a3f5f"
            },
            "error_y": {
             "color": "#2a3f5f"
            },
            "marker": {
             "line": {
              "color": "#E5ECF6",
              "width": 0.5
             },
             "pattern": {
              "fillmode": "overlay",
              "size": 10,
              "solidity": 0.2
             }
            },
            "type": "bar"
           }
          ],
          "barpolar": [
           {
            "marker": {
             "line": {
              "color": "#E5ECF6",
              "width": 0.5
             },
             "pattern": {
              "fillmode": "overlay",
              "size": 10,
              "solidity": 0.2
             }
            },
            "type": "barpolar"
           }
          ],
          "carpet": [
           {
            "aaxis": {
             "endlinecolor": "#2a3f5f",
             "gridcolor": "white",
             "linecolor": "white",
             "minorgridcolor": "white",
             "startlinecolor": "#2a3f5f"
            },
            "baxis": {
             "endlinecolor": "#2a3f5f",
             "gridcolor": "white",
             "linecolor": "white",
             "minorgridcolor": "white",
             "startlinecolor": "#2a3f5f"
            },
            "type": "carpet"
           }
          ],
          "choropleth": [
           {
            "colorbar": {
             "outlinewidth": 0,
             "ticks": ""
            },
            "type": "choropleth"
           }
          ],
          "contour": [
           {
            "colorbar": {
             "outlinewidth": 0,
             "ticks": ""
            },
            "colorscale": [
             [
              0,
              "#0d0887"
             ],
             [
              0.1111111111111111,
              "#46039f"
             ],
             [
              0.2222222222222222,
              "#7201a8"
             ],
             [
              0.3333333333333333,
              "#9c179e"
             ],
             [
              0.4444444444444444,
              "#bd3786"
             ],
             [
              0.5555555555555556,
              "#d8576b"
             ],
             [
              0.6666666666666666,
              "#ed7953"
             ],
             [
              0.7777777777777778,
              "#fb9f3a"
             ],
             [
              0.8888888888888888,
              "#fdca26"
             ],
             [
              1,
              "#f0f921"
             ]
            ],
            "type": "contour"
           }
          ],
          "contourcarpet": [
           {
            "colorbar": {
             "outlinewidth": 0,
             "ticks": ""
            },
            "type": "contourcarpet"
           }
          ],
          "heatmap": [
           {
            "colorbar": {
             "outlinewidth": 0,
             "ticks": ""
            },
            "colorscale": [
             [
              0,
              "#0d0887"
             ],
             [
              0.1111111111111111,
              "#46039f"
             ],
             [
              0.2222222222222222,
              "#7201a8"
             ],
             [
              0.3333333333333333,
              "#9c179e"
             ],
             [
              0.4444444444444444,
              "#bd3786"
             ],
             [
              0.5555555555555556,
              "#d8576b"
             ],
             [
              0.6666666666666666,
              "#ed7953"
             ],
             [
              0.7777777777777778,
              "#fb9f3a"
             ],
             [
              0.8888888888888888,
              "#fdca26"
             ],
             [
              1,
              "#f0f921"
             ]
            ],
            "type": "heatmap"
           }
          ],
          "heatmapgl": [
           {
            "colorbar": {
             "outlinewidth": 0,
             "ticks": ""
            },
            "colorscale": [
             [
              0,
              "#0d0887"
             ],
             [
              0.1111111111111111,
              "#46039f"
             ],
             [
              0.2222222222222222,
              "#7201a8"
             ],
             [
              0.3333333333333333,
              "#9c179e"
             ],
             [
              0.4444444444444444,
              "#bd3786"
             ],
             [
              0.5555555555555556,
              "#d8576b"
             ],
             [
              0.6666666666666666,
              "#ed7953"
             ],
             [
              0.7777777777777778,
              "#fb9f3a"
             ],
             [
              0.8888888888888888,
              "#fdca26"
             ],
             [
              1,
              "#f0f921"
             ]
            ],
            "type": "heatmapgl"
           }
          ],
          "histogram": [
           {
            "marker": {
             "pattern": {
              "fillmode": "overlay",
              "size": 10,
              "solidity": 0.2
             }
            },
            "type": "histogram"
           }
          ],
          "histogram2d": [
           {
            "colorbar": {
             "outlinewidth": 0,
             "ticks": ""
            },
            "colorscale": [
             [
              0,
              "#0d0887"
             ],
             [
              0.1111111111111111,
              "#46039f"
             ],
             [
              0.2222222222222222,
              "#7201a8"
             ],
             [
              0.3333333333333333,
              "#9c179e"
             ],
             [
              0.4444444444444444,
              "#bd3786"
             ],
             [
              0.5555555555555556,
              "#d8576b"
             ],
             [
              0.6666666666666666,
              "#ed7953"
             ],
             [
              0.7777777777777778,
              "#fb9f3a"
             ],
             [
              0.8888888888888888,
              "#fdca26"
             ],
             [
              1,
              "#f0f921"
             ]
            ],
            "type": "histogram2d"
           }
          ],
          "histogram2dcontour": [
           {
            "colorbar": {
             "outlinewidth": 0,
             "ticks": ""
            },
            "colorscale": [
             [
              0,
              "#0d0887"
             ],
             [
              0.1111111111111111,
              "#46039f"
             ],
             [
              0.2222222222222222,
              "#7201a8"
             ],
             [
              0.3333333333333333,
              "#9c179e"
             ],
             [
              0.4444444444444444,
              "#bd3786"
             ],
             [
              0.5555555555555556,
              "#d8576b"
             ],
             [
              0.6666666666666666,
              "#ed7953"
             ],
             [
              0.7777777777777778,
              "#fb9f3a"
             ],
             [
              0.8888888888888888,
              "#fdca26"
             ],
             [
              1,
              "#f0f921"
             ]
            ],
            "type": "histogram2dcontour"
           }
          ],
          "mesh3d": [
           {
            "colorbar": {
             "outlinewidth": 0,
             "ticks": ""
            },
            "type": "mesh3d"
           }
          ],
          "parcoords": [
           {
            "line": {
             "colorbar": {
              "outlinewidth": 0,
              "ticks": ""
             }
            },
            "type": "parcoords"
           }
          ],
          "pie": [
           {
            "automargin": true,
            "type": "pie"
           }
          ],
          "scatter": [
           {
            "fillpattern": {
             "fillmode": "overlay",
             "size": 10,
             "solidity": 0.2
            },
            "type": "scatter"
           }
          ],
          "scatter3d": [
           {
            "line": {
             "colorbar": {
              "outlinewidth": 0,
              "ticks": ""
             }
            },
            "marker": {
             "colorbar": {
              "outlinewidth": 0,
              "ticks": ""
             }
            },
            "type": "scatter3d"
           }
          ],
          "scattercarpet": [
           {
            "marker": {
             "colorbar": {
              "outlinewidth": 0,
              "ticks": ""
             }
            },
            "type": "scattercarpet"
           }
          ],
          "scattergeo": [
           {
            "marker": {
             "colorbar": {
              "outlinewidth": 0,
              "ticks": ""
             }
            },
            "type": "scattergeo"
           }
          ],
          "scattergl": [
           {
            "marker": {
             "colorbar": {
              "outlinewidth": 0,
              "ticks": ""
             }
            },
            "type": "scattergl"
           }
          ],
          "scattermapbox": [
           {
            "marker": {
             "colorbar": {
              "outlinewidth": 0,
              "ticks": ""
             }
            },
            "type": "scattermapbox"
           }
          ],
          "scatterpolar": [
           {
            "marker": {
             "colorbar": {
              "outlinewidth": 0,
              "ticks": ""
             }
            },
            "type": "scatterpolar"
           }
          ],
          "scatterpolargl": [
           {
            "marker": {
             "colorbar": {
              "outlinewidth": 0,
              "ticks": ""
             }
            },
            "type": "scatterpolargl"
           }
          ],
          "scatterternary": [
           {
            "marker": {
             "colorbar": {
              "outlinewidth": 0,
              "ticks": ""
             }
            },
            "type": "scatterternary"
           }
          ],
          "surface": [
           {
            "colorbar": {
             "outlinewidth": 0,
             "ticks": ""
            },
            "colorscale": [
             [
              0,
              "#0d0887"
             ],
             [
              0.1111111111111111,
              "#46039f"
             ],
             [
              0.2222222222222222,
              "#7201a8"
             ],
             [
              0.3333333333333333,
              "#9c179e"
             ],
             [
              0.4444444444444444,
              "#bd3786"
             ],
             [
              0.5555555555555556,
              "#d8576b"
             ],
             [
              0.6666666666666666,
              "#ed7953"
             ],
             [
              0.7777777777777778,
              "#fb9f3a"
             ],
             [
              0.8888888888888888,
              "#fdca26"
             ],
             [
              1,
              "#f0f921"
             ]
            ],
            "type": "surface"
           }
          ],
          "table": [
           {
            "cells": {
             "fill": {
              "color": "#EBF0F8"
             },
             "line": {
              "color": "white"
             }
            },
            "header": {
             "fill": {
              "color": "#C8D4E3"
             },
             "line": {
              "color": "white"
             }
            },
            "type": "table"
           }
          ]
         },
         "layout": {
          "annotationdefaults": {
           "arrowcolor": "#2a3f5f",
           "arrowhead": 0,
           "arrowwidth": 1
          },
          "autotypenumbers": "strict",
          "coloraxis": {
           "colorbar": {
            "outlinewidth": 0,
            "ticks": ""
           }
          },
          "colorscale": {
           "diverging": [
            [
             0,
             "#8e0152"
            ],
            [
             0.1,
             "#c51b7d"
            ],
            [
             0.2,
             "#de77ae"
            ],
            [
             0.3,
             "#f1b6da"
            ],
            [
             0.4,
             "#fde0ef"
            ],
            [
             0.5,
             "#f7f7f7"
            ],
            [
             0.6,
             "#e6f5d0"
            ],
            [
             0.7,
             "#b8e186"
            ],
            [
             0.8,
             "#7fbc41"
            ],
            [
             0.9,
             "#4d9221"
            ],
            [
             1,
             "#276419"
            ]
           ],
           "sequential": [
            [
             0,
             "#0d0887"
            ],
            [
             0.1111111111111111,
             "#46039f"
            ],
            [
             0.2222222222222222,
             "#7201a8"
            ],
            [
             0.3333333333333333,
             "#9c179e"
            ],
            [
             0.4444444444444444,
             "#bd3786"
            ],
            [
             0.5555555555555556,
             "#d8576b"
            ],
            [
             0.6666666666666666,
             "#ed7953"
            ],
            [
             0.7777777777777778,
             "#fb9f3a"
            ],
            [
             0.8888888888888888,
             "#fdca26"
            ],
            [
             1,
             "#f0f921"
            ]
           ],
           "sequentialminus": [
            [
             0,
             "#0d0887"
            ],
            [
             0.1111111111111111,
             "#46039f"
            ],
            [
             0.2222222222222222,
             "#7201a8"
            ],
            [
             0.3333333333333333,
             "#9c179e"
            ],
            [
             0.4444444444444444,
             "#bd3786"
            ],
            [
             0.5555555555555556,
             "#d8576b"
            ],
            [
             0.6666666666666666,
             "#ed7953"
            ],
            [
             0.7777777777777778,
             "#fb9f3a"
            ],
            [
             0.8888888888888888,
             "#fdca26"
            ],
            [
             1,
             "#f0f921"
            ]
           ]
          },
          "colorway": [
           "#636efa",
           "#EF553B",
           "#00cc96",
           "#ab63fa",
           "#FFA15A",
           "#19d3f3",
           "#FF6692",
           "#B6E880",
           "#FF97FF",
           "#FECB52"
          ],
          "font": {
           "color": "#2a3f5f"
          },
          "geo": {
           "bgcolor": "white",
           "lakecolor": "white",
           "landcolor": "#E5ECF6",
           "showlakes": true,
           "showland": true,
           "subunitcolor": "white"
          },
          "hoverlabel": {
           "align": "left"
          },
          "hovermode": "closest",
          "mapbox": {
           "style": "light"
          },
          "paper_bgcolor": "white",
          "plot_bgcolor": "#E5ECF6",
          "polar": {
           "angularaxis": {
            "gridcolor": "white",
            "linecolor": "white",
            "ticks": ""
           },
           "bgcolor": "#E5ECF6",
           "radialaxis": {
            "gridcolor": "white",
            "linecolor": "white",
            "ticks": ""
           }
          },
          "scene": {
           "xaxis": {
            "backgroundcolor": "#E5ECF6",
            "gridcolor": "white",
            "gridwidth": 2,
            "linecolor": "white",
            "showbackground": true,
            "ticks": "",
            "zerolinecolor": "white"
           },
           "yaxis": {
            "backgroundcolor": "#E5ECF6",
            "gridcolor": "white",
            "gridwidth": 2,
            "linecolor": "white",
            "showbackground": true,
            "ticks": "",
            "zerolinecolor": "white"
           },
           "zaxis": {
            "backgroundcolor": "#E5ECF6",
            "gridcolor": "white",
            "gridwidth": 2,
            "linecolor": "white",
            "showbackground": true,
            "ticks": "",
            "zerolinecolor": "white"
           }
          },
          "shapedefaults": {
           "line": {
            "color": "#2a3f5f"
           }
          },
          "ternary": {
           "aaxis": {
            "gridcolor": "white",
            "linecolor": "white",
            "ticks": ""
           },
           "baxis": {
            "gridcolor": "white",
            "linecolor": "white",
            "ticks": ""
           },
           "bgcolor": "#E5ECF6",
           "caxis": {
            "gridcolor": "white",
            "linecolor": "white",
            "ticks": ""
           }
          },
          "title": {
           "x": 0.05
          },
          "xaxis": {
           "automargin": true,
           "gridcolor": "white",
           "linecolor": "white",
           "ticks": "",
           "title": {
            "standoff": 15
           },
           "zerolinecolor": "white",
           "zerolinewidth": 2
          },
          "yaxis": {
           "automargin": true,
           "gridcolor": "white",
           "linecolor": "white",
           "ticks": "",
           "title": {
            "standoff": 15
           },
           "zerolinecolor": "white",
           "zerolinewidth": 2
          }
         }
        },
        "xaxis": {
         "anchor": "y",
         "autorange": true,
         "domain": [
          0,
          1
         ],
         "range": [
          38.650000000000006,
          95.05
         ],
         "title": {
          "text": "PROPORTIONAL_ATTENDANCE_TOTAL_PCT"
         },
         "type": "linear"
        },
        "yaxis": {
         "anchor": "x",
         "autorange": true,
         "domain": [
          0,
          1
         ],
         "range": [
          0,
          75.26315789473684
         ],
         "title": {
          "text": "TOTAL_PCT"
         },
         "type": "linear"
        }
       }
      },
      "image/png": "[encoded data removed]",
      "text/html": [
       "<div>                            <div id=\"b8b5f9e8-56cb-43d6-bd47-80ecd5f8229f\" class=\"plotly-graph-div\" style=\"height:525px; width:100%;\"></div>            <script type=\"text/javascript\">                require([\"plotly\"], function(Plotly) {                    window.PLOTLYENV=window.PLOTLYENV || {};                                    if (document.getElementById(\"b8b5f9e8-56cb-43d6-bd47-80ecd5f8229f\")) {                    Plotly.newPlot(                        \"b8b5f9e8-56cb-43d6-bd47-80ecd5f8229f\",                        [{\"customdata\":[[\"FRANKLIN CO. R-II\"],[\"MERAMEC VALLEY R-III\"],[\"UNION R-XI\"],[\"ST. CLAIR R-XIII\"],[\"SULLIVAN\"],[\"NEW HAVEN\"],[\"WASHINGTON\"]],\"hovertemplate\":\"COUNTY=Franklin County\\u003cbr\\u003ePROPORTIONAL_ATTENDANCE_TOTAL_PCT=%{x}\\u003cbr\\u003eTOTAL_PCT=%{y}\\u003cbr\\u003eDistrict Name=%{customdata[0]}\\u003cextra\\u003e\\u003c\\u002fextra\\u003e\",\"legendgroup\":\"Franklin County\",\"marker\":{\"color\":\"#636efa\",\"symbol\":\"circle\",\"size\":10},\"mode\":\"markers\",\"name\":\"Franklin County\",\"orientation\":\"v\",\"showlegend\":true,\"x\":[88.9,75.7,79.4,78.0,79.1,93.7,81.6],\"xaxis\":\"x\",\"y\":[71.5,43.7,49.5,32.6,43.2,49.8,47.5],\"yaxis\":\"y\",\"type\":\"scatter\"},{\"customdata\":[[\"NORTHWEST R-I\"],[\"GRANDVIEW R-II\"],[\"HILLSBORO R-III\"],[\"DUNKLIN R-V\"],[\"FESTUS R-VI\"],[\"JEFFERSON CO. R-VII\"],[\"SUNRISE R-IX\"],[\"WINDSOR C-1\"],[\"FOX C-6\"],[\"CRYSTAL CITY 47\"],[\"DESOTO 73\"]],\"hovertemplate\":\"COUNTY=Jefferson County\\u003cbr\\u003ePROPORTIONAL_ATTENDANCE_TOTAL_PCT=%{x}\\u003cbr\\u003eTOTAL_PCT=%{y}\\u003cbr\\u003eDistrict Name=%{customdata[0]}\\u003cextra\\u003e\\u003c\\u002fextra\\u003e\",\"legendgroup\":\"Jefferson County\",\"marker\":{\"color\":\"#EF553B\",\"symbol\":\"circle\",\"size\":10},\"mode\":\"markers\",\"name\":\"Jefferson County\",\"orientation\":\"v\",\"showlegend\":true,\"x\":[75.4,95.0,78.9,74.0,83.2,84.3,89.2,81.1,78.0,80.0,78.0],\"xaxis\":\"x\",\"y\":[41.400000000000006,18.2,42.400000000000006,34.0,64.1,46.5,36.5,37.9,49.1,44.7,54.599999999999994],\"yaxis\":\"y\",\"type\":\"scatter\"},{\"customdata\":[[\"FT. ZUMWALT R-II\"],[\"FRANCIS HOWELL R-III\"],[\"WENTZVILLE R-IV\"],[\"ST. CHARLES R-VI\"],[\"ORCHARD FARM R-V\"]],\"hovertemplate\":\"COUNTY=St. Charles County\\u003cbr\\u003ePROPORTIONAL_ATTENDANCE_TOTAL_PCT=%{x}\\u003cbr\\u003eTOTAL_PCT=%{y}\\u003cbr\\u003eDistrict Name=%{customdata[0]}\\u003cextra\\u003e\\u003c\\u002fextra\\u003e\",\"legendgroup\":\"St. Charles County\",\"marker\":{\"color\":\"#00cc96\",\"symbol\":\"circle\",\"size\":10},\"mode\":\"markers\",\"name\":\"St. Charles County\",\"orientation\":\"v\",\"showlegend\":true,\"x\":[80.9,81.9,78.2,80.3,82.1],\"xaxis\":\"x\",\"y\":[58.400000000000006,61.2,51.1,48.2,53.0],\"yaxis\":\"y\",\"type\":\"scatter\"},{\"customdata\":[[\"HAZELWOOD\"],[\"FERGUSON-FLORISSANT R-II\"],[\"PATTONVILLE R-III\"],[\"HANCOCK PLACE\"],[\"JENNINGS\"],[\"NORMANDY SCHOOLS COLLABORATIVE\"],[\"RITENOUR\"],[\"RIVERVIEW GARDENS\"]],\"hovertemplate\":\"COUNTY=North County\\u003cbr\\u003ePROPORTIONAL_ATTENDANCE_TOTAL_PCT=%{x}\\u003cbr\\u003eTOTAL_PCT=%{y}\\u003cbr\\u003eDistrict Name=%{customdata[0]}\\u003cextra\\u003e\\u003c\\u002fextra\\u003e\",\"legendgroup\":\"North County\",\"marker\":{\"color\":\"#ab63fa\",\"symbol\":\"circle\",\"size\":10},\"mode\":\"markers\",\"name\":\"North County\",\"orientation\":\"v\",\"showlegend\":true,\"x\":[57.7,56.0,76.0,65.8,50.1,47.3,59.8,38.7],\"xaxis\":\"x\",\"y\":[19.200000000000003,16.4,38.2,33.6,15.4,7.0,22.3,2.5],\"yaxis\":\"y\",\"type\":\"scatter\"},{\"customdata\":[[\"ROCKWOOD R-VI\"],[\"KIRKWOOD R-VII\"],[\"LINDBERGH SCHOOLS\"],[\"PARKWAY C-2\"],[\"BRENTWOOD\"],[\"CLAYTON\"],[\"LADUE\"],[\"MAPLEWOOD-RICHMOND HEIGHTS\"],[\"UNIVERSITY CITY\"],[\"VALLEY PARK\"],[\"WEBSTER GROVES\"]],\"hovertemplate\":\"COUNTY=West County\\u003cbr\\u003ePROPORTIONAL_ATTENDANCE_TOTAL_PCT=%{x}\\u003cbr\\u003eTOTAL_PCT=%{y}\\u003cbr\\u003eDistrict Name=%{customdata[0]}\\u003cextra\\u003e\\u003c\\u002fextra\\u003e\",\"legendgroup\":\"West County\",\"marker\":{\"color\":\"#FFA15A\",\"symbol\":\"circle\",\"size\":10},\"mode\":\"markers\",\"name\":\"West County\",\"orientation\":\"v\",\"showlegend\":true,\"x\":[81.9,87.2,85.1,82.9,82.4,86.8,83.0,77.1,56.8,80.6,86.0],\"xaxis\":\"x\",\"y\":[57.8,58.1,55.7,57.400000000000006,62.5,70.2,66.8,47.5,25.8,42.9,65.3],\"yaxis\":\"y\",\"type\":\"scatter\"},{\"customdata\":[[\"MEHLVILLE R-IX\"],[\"AFFTON 101\"],[\"BAYLESS\"]],\"hovertemplate\":\"COUNTY=South County\\u003cbr\\u003ePROPORTIONAL_ATTENDANCE_TOTAL_PCT=%{x}\\u003cbr\\u003eTOTAL_PCT=%{y}\\u003cbr\\u003eDistrict Name=%{customdata[0]}\\u003cextra\\u003e\\u003c\\u002fextra\\u003e\",\"legendgroup\":\"South County\",\"marker\":{\"color\":\"#19d3f3\",\"symbol\":\"circle\",\"size\":10},\"mode\":\"markers\",\"name\":\"South County\",\"orientation\":\"v\",\"showlegend\":true,\"x\":[80.5,72.0,81.1],\"xaxis\":\"x\",\"y\":[37.9,33.7,51.2],\"yaxis\":\"y\",\"type\":\"scatter\"},{\"customdata\":[[\"ST. LOUIS CITY\"]],\"hovertemplate\":\"COUNTY=St. Louis City\\u003cbr\\u003ePROPORTIONAL_ATTENDANCE_TOTAL_PCT=%{x}\\u003cbr\\u003eTOTAL_PCT=%{y}\\u003cbr\\u003eDistrict Name=%{customdata[0]}\\u003cextra\\u003e\\u003c\\u002fextra\\u003e\",\"legendgroup\":\"St. Louis City\",\"marker\":{\"color\":\"#FF6692\",\"symbol\":\"circle\",\"size\":10},\"mode\":\"markers\",\"name\":\"St. Louis City\",\"orientation\":\"v\",\"showlegend\":true,\"x\":[49.4],\"xaxis\":\"x\",\"y\":[16.200000000000003],\"yaxis\":\"y\",\"type\":\"scatter\"}],                        {\"template\":{\"data\":{\"histogram2dcontour\":[{\"type\":\"histogram2dcontour\",\"colorbar\":{\"outlinewidth\":0,\"ticks\":\"\"},\"colorscale\":[[0.0,\"#0d0887\"],[0.1111111111111111,\"#46039f\"],[0.2222222222222222,\"#7201a8\"],[0.3333333333333333,\"#9c179e\"],[0.4444444444444444,\"#bd3786\"],[0.5555555555555556,\"#d8576b\"],[0.6666666666666666,\"#ed7953\"],[0.7777777777777778,\"#fb9f3a\"],[0.8888888888888888,\"#fdca26\"],[1.0,\"#f0f921\"]]}],\"choropleth\":[{\"type\":\"choropleth\",\"colorbar\":{\"outlinewidth\":0,\"ticks\":\"\"}}],\"histogram2d\":[{\"type\":\"histogram2d\",\"colorbar\":{\"outlinewidth\":0,\"ticks\":\"\"},\"colorscale\":[[0.0,\"#0d0887\"],[0.1111111111111111,\"#46039f\"],[0.2222222222222222,\"#7201a8\"],[0.3333333333333333,\"#9c179e\"],[0.4444444444444444,\"#bd3786\"],[0.5555555555555556,\"#d8576b\"],[0.6666666666666666,\"#ed7953\"],[0.7777777777777778,\"#fb9f3a\"],[0.8888888888888888,\"#fdca26\"],[1.0,\"#f0f921\"]]}],\"heatmap\":[{\"type\":\"heatmap\",\"colorbar\":{\"outlinewidth\":0,\"ticks\":\"\"},\"colorscale\":[[0.0,\"#0d0887\"],[0.1111111111111111,\"#46039f\"],[0.2222222222222222,\"#7201a8\"],[0.3333333333333333,\"#9c179e\"],[0.4444444444444444,\"#bd3786\"],[0.5555555555555556,\"#d8576b\"],[0.6666666666666666,\"#ed7953\"],[0.7777777777777778,\"#fb9f3a\"],[0.8888888888888888,\"#fdca26\"],[1.0,\"#f0f921\"]]}],\"heatmapgl\":[{\"type\":\"heatmapgl\",\"colorbar\":{\"outlinewidth\":0,\"ticks\":\"\"},\"colorscale\":[[0.0,\"#0d0887\"],[0.1111111111111111,\"#46039f\"],[0.2222222222222222,\"#7201a8\"],[0.3333333333333333,\"#9c179e\"],[0.4444444444444444,\"#bd3786\"],[0.5555555555555556,\"#d8576b\"],[0.6666666666666666,\"#ed7953\"],[0.7777777777777778,\"#fb9f3a\"],[0.8888888888888888,\"#fdca26\"],[1.0,\"#f0f921\"]]}],\"contourcarpet\":[{\"type\":\"contourcarpet\",\"colorbar\":{\"outlinewidth\":0,\"ticks\":\"\"}}],\"contour\":[{\"type\":\"contour\",\"colorbar\":{\"outlinewidth\":0,\"ticks\":\"\"},\"colorscale\":[[0.0,\"#0d0887\"],[0.1111111111111111,\"#46039f\"],[0.2222222222222222,\"#7201a8\"],[0.3333333333333333,\"#9c179e\"],[0.4444444444444444,\"#bd3786\"],[0.5555555555555556,\"#d8576b\"],[0.6666666666666666,\"#ed7953\"],[0.7777777777777778,\"#fb9f3a\"],[0.8888888888888888,\"#fdca26\"],[1.0,\"#f0f921\"]]}],\"surface\":[{\"type\":\"surface\",\"colorbar\":{\"outlinewidth\":0,\"ticks\":\"\"},\"colorscale\":[[0.0,\"#0d0887\"],[0.1111111111111111,\"#46039f\"],[0.2222222222222222,\"#7201a8\"],[0.3333333333333333,\"#9c179e\"],[0.4444444444444444,\"#bd3786\"],[0.5555555555555556,\"#d8576b\"],[0.6666666666666666,\"#ed7953\"],[0.7777777777777778,\"#fb9f3a\"],[0.8888888888888888,\"#fdca26\"],[1.0,\"#f0f921\"]]}],\"mesh3d\":[{\"type\":\"mesh3d\",\"colorbar\":{\"outlinewidth\":0,\"ticks\":\"\"}}],\"scatter\":[{\"fillpattern\":{\"fillmode\":\"overlay\",\"size\":10,\"solidity\":0.2},\"type\":\"scatter\"}],\"parcoords\":[{\"type\":\"parcoords\",\"line\":{\"colorbar\":{\"outlinewidth\":0,\"ticks\":\"\"}}}],\"scatterpolargl\":[{\"type\":\"scatterpolargl\",\"marker\":{\"colorbar\":{\"outlinewidth\":0,\"ticks\":\"\"}}}],\"bar\":[{\"error_x\":{\"color\":\"#2a3f5f\"},\"error_y\":{\"color\":\"#2a3f5f\"},\"marker\":{\"line\":{\"color\":\"#E5ECF6\",\"width\":0.5},\"pattern\":{\"fillmode\":\"overlay\",\"size\":10,\"solidity\":0.2}},\"type\":\"bar\"}],\"scattergeo\":[{\"type\":\"scattergeo\",\"marker\":{\"colorbar\":{\"outlinewidth\":0,\"ticks\":\"\"}}}],\"scatterpolar\":[{\"type\":\"scatterpolar\",\"marker\":{\"colorbar\":{\"outlinewidth\":0,\"ticks\":\"\"}}}],\"histogram\":[{\"marker\":{\"pattern\":{\"fillmode\":\"overlay\",\"size\":10,\"solidity\":0.2}},\"type\":\"histogram\"}],\"scattergl\":[{\"type\":\"scattergl\",\"marker\":{\"colorbar\":{\"outlinewidth\":0,\"ticks\":\"\"}}}],\"scatter3d\":[{\"type\":\"scatter3d\",\"line\":{\"colorbar\":{\"outlinewidth\":0,\"ticks\":\"\"}},\"marker\":{\"colorbar\":{\"outlinewidth\":0,\"ticks\":\"\"}}}],\"scattermapbox\":[{\"type\":\"scattermapbox\",\"marker\":{\"colorbar\":{\"outlinewidth\":0,\"ticks\":\"\"}}}],\"scatterternary\":[{\"type\":\"scatterternary\",\"marker\":{\"colorbar\":{\"outlinewidth\":0,\"ticks\":\"\"}}}],\"scattercarpet\":[{\"type\":\"scattercarpet\",\"marker\":{\"colorbar\":{\"outlinewidth\":0,\"ticks\":\"\"}}}],\"carpet\":[{\"aaxis\":{\"endlinecolor\":\"#2a3f5f\",\"gridcolor\":\"white\",\"linecolor\":\"white\",\"minorgridcolor\":\"white\",\"startlinecolor\":\"#2a3f5f\"},\"baxis\":{\"endlinecolor\":\"#2a3f5f\",\"gridcolor\":\"white\",\"linecolor\":\"white\",\"minorgridcolor\":\"white\",\"startlinecolor\":\"#2a3f5f\"},\"type\":\"carpet\"}],\"table\":[{\"cells\":{\"fill\":{\"color\":\"#EBF0F8\"},\"line\":{\"color\":\"white\"}},\"header\":{\"fill\":{\"color\":\"#C8D4E3\"},\"line\":{\"color\":\"white\"}},\"type\":\"table\"}],\"barpolar\":[{\"marker\":{\"line\":{\"color\":\"#E5ECF6\",\"width\":0.5},\"pattern\":{\"fillmode\":\"overlay\",\"size\":10,\"solidity\":0.2}},\"type\":\"barpolar\"}],\"pie\":[{\"automargin\":true,\"type\":\"pie\"}]},\"layout\":{\"autotypenumbers\":\"strict\",\"colorway\":[\"#636efa\",\"#EF553B\",\"#00cc96\",\"#ab63fa\",\"#FFA15A\",\"#19d3f3\",\"#FF6692\",\"#B6E880\",\"#FF97FF\",\"#FECB52\"],\"font\":{\"color\":\"#2a3f5f\"},\"hovermode\":\"closest\",\"hoverlabel\":{\"align\":\"left\"},\"paper_bgcolor\":\"white\",\"plot_bgcolor\":\"#E5ECF6\",\"polar\":{\"bgcolor\":\"#E5ECF6\",\"angularaxis\":{\"gridcolor\":\"white\",\"linecolor\":\"white\",\"ticks\":\"\"},\"radialaxis\":{\"gridcolor\":\"white\",\"linecolor\":\"white\",\"ticks\":\"\"}},\"ternary\":{\"bgcolor\":\"#E5ECF6\",\"aaxis\":{\"gridcolor\":\"white\",\"linecolor\":\"white\",\"ticks\":\"\"},\"baxis\":{\"gridcolor\":\"white\",\"linecolor\":\"white\",\"ticks\":\"\"},\"caxis\":{\"gridcolor\":\"white\",\"linecolor\":\"white\",\"ticks\":\"\"}},\"coloraxis\":{\"colorbar\":{\"outlinewidth\":0,\"ticks\":\"\"}},\"colorscale\":{\"sequential\":[[0.0,\"#0d0887\"],[0.1111111111111111,\"#46039f\"],[0.2222222222222222,\"#7201a8\"],[0.3333333333333333,\"#9c179e\"],[0.4444444444444444,\"#bd3786\"],[0.5555555555555556,\"#d8576b\"],[0.6666666666666666,\"#ed7953\"],[0.7777777777777778,\"#fb9f3a\"],[0.8888888888888888,\"#fdca26\"],[1.0,\"#f0f921\"]],\"sequentialminus\":[[0.0,\"#0d0887\"],[0.1111111111111111,\"#46039f\"],[0.2222222222222222,\"#7201a8\"],[0.3333333333333333,\"#9c179e\"],[0.4444444444444444,\"#bd3786\"],[0.5555555555555556,\"#d8576b\"],[0.6666666666666666,\"#ed7953\"],[0.7777777777777778,\"#fb9f3a\"],[0.8888888888888888,\"#fdca26\"],[1.0,\"#f0f921\"]],\"diverging\":[[0,\"#8e0152\"],[0.1,\"#c51b7d\"],[0.2,\"#de77ae\"],[0.3,\"#f1b6da\"],[0.4,\"#fde0ef\"],[0.5,\"#f7f7f7\"],[0.6,\"#e6f5d0\"],[0.7,\"#b8e186\"],[0.8,\"#7fbc41\"],[0.9,\"#4d9221\"],[1,\"#276419\"]]},\"xaxis\":{\"gridcolor\":\"white\",\"linecolor\":\"white\",\"ticks\":\"\",\"title\":{\"standoff\":15},\"zerolinecolor\":\"white\",\"automargin\":true,\"zerolinewidth\":2},\"yaxis\":{\"gridcolor\":\"white\",\"linecolor\":\"white\",\"ticks\":\"\",\"title\":{\"standoff\":15},\"zerolinecolor\":\"white\",\"automargin\":true,\"zerolinewidth\":2},\"scene\":{\"xaxis\":{\"backgroundcolor\":\"#E5ECF6\",\"gridcolor\":\"white\",\"linecolor\":\"white\",\"showbackground\":true,\"ticks\":\"\",\"zerolinecolor\":\"white\",\"gridwidth\":2},\"yaxis\":{\"backgroundcolor\":\"#E5ECF6\",\"gridcolor\":\"white\",\"linecolor\":\"white\",\"showbackground\":true,\"ticks\":\"\",\"zerolinecolor\":\"white\",\"gridwidth\":2},\"zaxis\":{\"backgroundcolor\":\"#E5ECF6\",\"gridcolor\":\"white\",\"linecolor\":\"white\",\"showbackground\":true,\"ticks\":\"\",\"zerolinecolor\":\"white\",\"gridwidth\":2}},\"shapedefaults\":{\"line\":{\"color\":\"#2a3f5f\"}},\"annotationdefaults\":{\"arrowcolor\":\"#2a3f5f\",\"arrowhead\":0,\"arrowwidth\":1},\"geo\":{\"bgcolor\":\"white\",\"landcolor\":\"#E5ECF6\",\"subunitcolor\":\"white\",\"showland\":true,\"showlakes\":true,\"lakecolor\":\"white\"},\"title\":{\"x\":0.05},\"mapbox\":{\"style\":\"light\"}}},\"xaxis\":{\"anchor\":\"y\",\"domain\":[0.0,1.0],\"title\":{\"text\":\"PROPORTIONAL_ATTENDANCE_TOTAL_PCT\"}},\"yaxis\":{\"anchor\":\"x\",\"domain\":[0.0,1.0],\"title\":{\"text\":\"TOTAL_PCT\"}},\"legend\":{\"title\":{\"text\":\"COUNTY\"},\"tracegroupgap\":0},\"margin\":{\"t\":60},\"scattermode\":\"group\"},                        {\"responsive\": true}                    ).then(function(){\n",
       "                            \n",
       "var gd = document.getElementById('b8b5f9e8-56cb-43d6-bd47-80ecd5f8229f');\n",
       "var x = new MutationObserver(function (mutations, observer) {{\n",
       "        var display = window.getComputedStyle(gd).display;\n",
       "        if (!display || display === 'none') {{\n",
       "            console.log([gd, 'removed!']);\n",
       "            Plotly.purge(gd);\n",
       "            observer.disconnect();\n",
       "        }}\n",
       "}});\n",
       "\n",
       "// Listen for the removal of the full notebook cells\n",
       "var notebookContainer = gd.closest('#notebook-container');\n",
       "if (notebookContainer) {{\n",
       "    x.observe(notebookContainer, {childList: true});\n",
       "}}\n",
       "\n",
       "// Listen for the clearing of the current output cell\n",
       "var outputEl = gd.closest('.output');\n",
       "if (outputEl) {{\n",
       "    x.observe(outputEl, {childList: true});\n",
       "}}\n",
       "\n",
       "                        })                };                });            </script>        </div>"
      ]
     },
     "metadata": {},
     "output_type": "display_data"
    }
   ],
   "source": [
    "fig = px.scatter(fr_att_merge_filter_df, y=\"TOTAL_PCT\", x=\"PROPORTIONAL_ATTENDANCE_TOTAL_PCT\", \n",
    "                 color = \"COUNTY\", hover_data=\"District Name\")\n",
    "\n",
    "fig.update_traces(marker_size=10)\n",
    "fig.update_layout(scattermode=\"group\")\n",
    "fig.show()"
   ]
  },
  {
   "cell_type": "code",
   "execution_count": 115,
   "id": "dbd0423a-bac5-472f-92cb-b7aabc5e3fb7",
   "metadata": {},
   "outputs": [
    {
     "data": {
      "application/vnd.plotly.v1+json": {
       "config": {
        "plotlyServerURL": "https://plot.ly"
       },
       "data": [
        {
         "marker": {
          "color": [
           71.5,
           43.7,
           49.5,
           32.6,
           43.2,
           49.8,
           47.5,
           41.400000000000006,
           18.2,
           42.400000000000006,
           34,
           64.1,
           46.5,
           36.5,
           37.9,
           49.1,
           44.7,
           54.599999999999994,
           58.400000000000006,
           61.2,
           51.1,
           48.2,
           53,
           19.200000000000003,
           16.4,
           38.2,
           57.8,
           58.1,
           55.7,
           37.9,
           57.400000000000006,
           33.7,
           51.2,
           62.5,
           70.2,
           33.6,
           15.4,
           66.8,
           47.5,
           7,
           22.3,
           2.5,
           25.8,
           42.9,
           65.3,
           16.200000000000003
          ],
          "size": [
           24.8,
           41.4,
           42.3,
           48.1,
           46.8,
           36.4,
           25.4,
           39.5,
           18.5,
           30.6,
           44,
           33.8,
           24.2,
           45.8,
           29.7,
           27.5,
           44.6,
           41.5,
           18.9,
           14.2,
           14.8,
           35,
           24.3,
           69.4,
           99.9,
           45.9,
           11.9,
           9,
           13.5,
           26,
           19,
           35.7,
           52.7,
           18.1,
           9.1,
           100,
           100,
           8,
           30.9,
           99.7,
           99.9,
           100,
           99.8,
           36.3,
           10.2,
           99.2
          ]
         },
         "mode": "markers",
         "type": "scatter",
         "x": [
          88.9,
          75.7,
          79.4,
          78,
          79.1,
          93.7,
          81.6,
          75.4,
          95,
          78.9,
          74,
          83.2,
          84.3,
          89.2,
          81.1,
          78,
          80,
          78,
          80.9,
          81.9,
          78.2,
          80.3,
          82.1,
          57.7,
          56,
          76,
          81.9,
          87.2,
          85.1,
          80.5,
          82.9,
          72,
          81.1,
          82.4,
          86.8,
          65.8,
          50.1,
          83,
          77.1,
          47.3,
          59.8,
          38.7,
          56.8,
          80.6,
          86,
          49.4
         ],
         "y": [
          71.5,
          43.7,
          49.5,
          32.6,
          43.2,
          49.8,
          47.5,
          41.400000000000006,
          18.2,
          42.400000000000006,
          34,
          64.1,
          46.5,
          36.5,
          37.9,
          49.1,
          44.7,
          54.599999999999994,
          58.400000000000006,
          61.2,
          51.1,
          48.2,
          53,
          19.200000000000003,
          16.4,
          38.2,
          57.8,
          58.1,
          55.7,
          37.9,
          57.400000000000006,
          33.7,
          51.2,
          62.5,
          70.2,
          33.6,
          15.4,
          66.8,
          47.5,
          7,
          22.3,
          2.5,
          25.8,
          42.9,
          65.3,
          16.200000000000003
         ]
        }
       ],
       "layout": {
        "autosize": true,
        "template": {
         "data": {
          "bar": [
           {
            "error_x": {
             "color": "#2a3f5f"
            },
            "error_y": {
             "color": "#2a3f5f"
            },
            "marker": {
             "line": {
              "color": "#E5ECF6",
              "width": 0.5
             },
             "pattern": {
              "fillmode": "overlay",
              "size": 10,
              "solidity": 0.2
             }
            },
            "type": "bar"
           }
          ],
          "barpolar": [
           {
            "marker": {
             "line": {
              "color": "#E5ECF6",
              "width": 0.5
             },
             "pattern": {
              "fillmode": "overlay",
              "size": 10,
              "solidity": 0.2
             }
            },
            "type": "barpolar"
           }
          ],
          "carpet": [
           {
            "aaxis": {
             "endlinecolor": "#2a3f5f",
             "gridcolor": "white",
             "linecolor": "white",
             "minorgridcolor": "white",
             "startlinecolor": "#2a3f5f"
            },
            "baxis": {
             "endlinecolor": "#2a3f5f",
             "gridcolor": "white",
             "linecolor": "white",
             "minorgridcolor": "white",
             "startlinecolor": "#2a3f5f"
            },
            "type": "carpet"
           }
          ],
          "choropleth": [
           {
            "colorbar": {
             "outlinewidth": 0,
             "ticks": ""
            },
            "type": "choropleth"
           }
          ],
          "contour": [
           {
            "colorbar": {
             "outlinewidth": 0,
             "ticks": ""
            },
            "colorscale": [
             [
              0,
              "#0d0887"
             ],
             [
              0.1111111111111111,
              "#46039f"
             ],
             [
              0.2222222222222222,
              "#7201a8"
             ],
             [
              0.3333333333333333,
              "#9c179e"
             ],
             [
              0.4444444444444444,
              "#bd3786"
             ],
             [
              0.5555555555555556,
              "#d8576b"
             ],
             [
              0.6666666666666666,
              "#ed7953"
             ],
             [
              0.7777777777777778,
              "#fb9f3a"
             ],
             [
              0.8888888888888888,
              "#fdca26"
             ],
             [
              1,
              "#f0f921"
             ]
            ],
            "type": "contour"
           }
          ],
          "contourcarpet": [
           {
            "colorbar": {
             "outlinewidth": 0,
             "ticks": ""
            },
            "type": "contourcarpet"
           }
          ],
          "heatmap": [
           {
            "colorbar": {
             "outlinewidth": 0,
             "ticks": ""
            },
            "colorscale": [
             [
              0,
              "#0d0887"
             ],
             [
              0.1111111111111111,
              "#46039f"
             ],
             [
              0.2222222222222222,
              "#7201a8"
             ],
             [
              0.3333333333333333,
              "#9c179e"
             ],
             [
              0.4444444444444444,
              "#bd3786"
             ],
             [
              0.5555555555555556,
              "#d8576b"
             ],
             [
              0.6666666666666666,
              "#ed7953"
             ],
             [
              0.7777777777777778,
              "#fb9f3a"
             ],
             [
              0.8888888888888888,
              "#fdca26"
             ],
             [
              1,
              "#f0f921"
             ]
            ],
            "type": "heatmap"
           }
          ],
          "heatmapgl": [
           {
            "colorbar": {
             "outlinewidth": 0,
             "ticks": ""
            },
            "colorscale": [
             [
              0,
              "#0d0887"
             ],
             [
              0.1111111111111111,
              "#46039f"
             ],
             [
              0.2222222222222222,
              "#7201a8"
             ],
             [
              0.3333333333333333,
              "#9c179e"
             ],
             [
              0.4444444444444444,
              "#bd3786"
             ],
             [
              0.5555555555555556,
              "#d8576b"
             ],
             [
              0.6666666666666666,
              "#ed7953"
             ],
             [
              0.7777777777777778,
              "#fb9f3a"
             ],
             [
              0.8888888888888888,
              "#fdca26"
             ],
             [
              1,
              "#f0f921"
             ]
            ],
            "type": "heatmapgl"
           }
          ],
          "histogram": [
           {
            "marker": {
             "pattern": {
              "fillmode": "overlay",
              "size": 10,
              "solidity": 0.2
             }
            },
            "type": "histogram"
           }
          ],
          "histogram2d": [
           {
            "colorbar": {
             "outlinewidth": 0,
             "ticks": ""
            },
            "colorscale": [
             [
              0,
              "#0d0887"
             ],
             [
              0.1111111111111111,
              "#46039f"
             ],
             [
              0.2222222222222222,
              "#7201a8"
             ],
             [
              0.3333333333333333,
              "#9c179e"
             ],
             [
              0.4444444444444444,
              "#bd3786"
             ],
             [
              0.5555555555555556,
              "#d8576b"
             ],
             [
              0.6666666666666666,
              "#ed7953"
             ],
             [
              0.7777777777777778,
              "#fb9f3a"
             ],
             [
              0.8888888888888888,
              "#fdca26"
             ],
             [
              1,
              "#f0f921"
             ]
            ],
            "type": "histogram2d"
           }
          ],
          "histogram2dcontour": [
           {
            "colorbar": {
             "outlinewidth": 0,
             "ticks": ""
            },
            "colorscale": [
             [
              0,
              "#0d0887"
             ],
             [
              0.1111111111111111,
              "#46039f"
             ],
             [
              0.2222222222222222,
              "#7201a8"
             ],
             [
              0.3333333333333333,
              "#9c179e"
             ],
             [
              0.4444444444444444,
              "#bd3786"
             ],
             [
              0.5555555555555556,
              "#d8576b"
             ],
             [
              0.6666666666666666,
              "#ed7953"
             ],
             [
              0.7777777777777778,
              "#fb9f3a"
             ],
             [
              0.8888888888888888,
              "#fdca26"
             ],
             [
              1,
              "#f0f921"
             ]
            ],
            "type": "histogram2dcontour"
           }
          ],
          "mesh3d": [
           {
            "colorbar": {
             "outlinewidth": 0,
             "ticks": ""
            },
            "type": "mesh3d"
           }
          ],
          "parcoords": [
           {
            "line": {
             "colorbar": {
              "outlinewidth": 0,
              "ticks": ""
             }
            },
            "type": "parcoords"
           }
          ],
          "pie": [
           {
            "automargin": true,
            "type": "pie"
           }
          ],
          "scatter": [
           {
            "fillpattern": {
             "fillmode": "overlay",
             "size": 10,
             "solidity": 0.2
            },
            "type": "scatter"
           }
          ],
          "scatter3d": [
           {
            "line": {
             "colorbar": {
              "outlinewidth": 0,
              "ticks": ""
             }
            },
            "marker": {
             "colorbar": {
              "outlinewidth": 0,
              "ticks": ""
             }
            },
            "type": "scatter3d"
           }
          ],
          "scattercarpet": [
           {
            "marker": {
             "colorbar": {
              "outlinewidth": 0,
              "ticks": ""
             }
            },
            "type": "scattercarpet"
           }
          ],
          "scattergeo": [
           {
            "marker": {
             "colorbar": {
              "outlinewidth": 0,
              "ticks": ""
             }
            },
            "type": "scattergeo"
           }
          ],
          "scattergl": [
           {
            "marker": {
             "colorbar": {
              "outlinewidth": 0,
              "ticks": ""
             }
            },
            "type": "scattergl"
           }
          ],
          "scattermapbox": [
           {
            "marker": {
             "colorbar": {
              "outlinewidth": 0,
              "ticks": ""
             }
            },
            "type": "scattermapbox"
           }
          ],
          "scatterpolar": [
           {
            "marker": {
             "colorbar": {
              "outlinewidth": 0,
              "ticks": ""
             }
            },
            "type": "scatterpolar"
           }
          ],
          "scatterpolargl": [
           {
            "marker": {
             "colorbar": {
              "outlinewidth": 0,
              "ticks": ""
             }
            },
            "type": "scatterpolargl"
           }
          ],
          "scatterternary": [
           {
            "marker": {
             "colorbar": {
              "outlinewidth": 0,
              "ticks": ""
             }
            },
            "type": "scatterternary"
           }
          ],
          "surface": [
           {
            "colorbar": {
             "outlinewidth": 0,
             "ticks": ""
            },
            "colorscale": [
             [
              0,
              "#0d0887"
             ],
             [
              0.1111111111111111,
              "#46039f"
             ],
             [
              0.2222222222222222,
              "#7201a8"
             ],
             [
              0.3333333333333333,
              "#9c179e"
             ],
             [
              0.4444444444444444,
              "#bd3786"
             ],
             [
              0.5555555555555556,
              "#d8576b"
             ],
             [
              0.6666666666666666,
              "#ed7953"
             ],
             [
              0.7777777777777778,
              "#fb9f3a"
             ],
             [
              0.8888888888888888,
              "#fdca26"
             ],
             [
              1,
              "#f0f921"
             ]
            ],
            "type": "surface"
           }
          ],
          "table": [
           {
            "cells": {
             "fill": {
              "color": "#EBF0F8"
             },
             "line": {
              "color": "white"
             }
            },
            "header": {
             "fill": {
              "color": "#C8D4E3"
             },
             "line": {
              "color": "white"
             }
            },
            "type": "table"
           }
          ]
         },
         "layout": {
          "annotationdefaults": {
           "arrowcolor": "#2a3f5f",
           "arrowhead": 0,
           "arrowwidth": 1
          },
          "autotypenumbers": "strict",
          "coloraxis": {
           "colorbar": {
            "outlinewidth": 0,
            "ticks": ""
           }
          },
          "colorscale": {
           "diverging": [
            [
             0,
             "#8e0152"
            ],
            [
             0.1,
             "#c51b7d"
            ],
            [
             0.2,
             "#de77ae"
            ],
            [
             0.3,
             "#f1b6da"
            ],
            [
             0.4,
             "#fde0ef"
            ],
            [
             0.5,
             "#f7f7f7"
            ],
            [
             0.6,
             "#e6f5d0"
            ],
            [
             0.7,
             "#b8e186"
            ],
            [
             0.8,
             "#7fbc41"
            ],
            [
             0.9,
             "#4d9221"
            ],
            [
             1,
             "#276419"
            ]
           ],
           "sequential": [
            [
             0,
             "#0d0887"
            ],
            [
             0.1111111111111111,
             "#46039f"
            ],
            [
             0.2222222222222222,
             "#7201a8"
            ],
            [
             0.3333333333333333,
             "#9c179e"
            ],
            [
             0.4444444444444444,
             "#bd3786"
            ],
            [
             0.5555555555555556,
             "#d8576b"
            ],
            [
             0.6666666666666666,
             "#ed7953"
            ],
            [
             0.7777777777777778,
             "#fb9f3a"
            ],
            [
             0.8888888888888888,
             "#fdca26"
            ],
            [
             1,
             "#f0f921"
            ]
           ],
           "sequentialminus": [
            [
             0,
             "#0d0887"
            ],
            [
             0.1111111111111111,
             "#46039f"
            ],
            [
             0.2222222222222222,
             "#7201a8"
            ],
            [
             0.3333333333333333,
             "#9c179e"
            ],
            [
             0.4444444444444444,
             "#bd3786"
            ],
            [
             0.5555555555555556,
             "#d8576b"
            ],
            [
             0.6666666666666666,
             "#ed7953"
            ],
            [
             0.7777777777777778,
             "#fb9f3a"
            ],
            [
             0.8888888888888888,
             "#fdca26"
            ],
            [
             1,
             "#f0f921"
            ]
           ]
          },
          "colorway": [
           "#636efa",
           "#EF553B",
           "#00cc96",
           "#ab63fa",
           "#FFA15A",
           "#19d3f3",
           "#FF6692",
           "#B6E880",
           "#FF97FF",
           "#FECB52"
          ],
          "font": {
           "color": "#2a3f5f"
          },
          "geo": {
           "bgcolor": "white",
           "lakecolor": "white",
           "landcolor": "#E5ECF6",
           "showlakes": true,
           "showland": true,
           "subunitcolor": "white"
          },
          "hoverlabel": {
           "align": "left"
          },
          "hovermode": "closest",
          "mapbox": {
           "style": "light"
          },
          "paper_bgcolor": "white",
          "plot_bgcolor": "#E5ECF6",
          "polar": {
           "angularaxis": {
            "gridcolor": "white",
            "linecolor": "white",
            "ticks": ""
           },
           "bgcolor": "#E5ECF6",
           "radialaxis": {
            "gridcolor": "white",
            "linecolor": "white",
            "ticks": ""
           }
          },
          "scene": {
           "xaxis": {
            "backgroundcolor": "#E5ECF6",
            "gridcolor": "white",
            "gridwidth": 2,
            "linecolor": "white",
            "showbackground": true,
            "ticks": "",
            "zerolinecolor": "white"
           },
           "yaxis": {
            "backgroundcolor": "#E5ECF6",
            "gridcolor": "white",
            "gridwidth": 2,
            "linecolor": "white",
            "showbackground": true,
            "ticks": "",
            "zerolinecolor": "white"
           },
           "zaxis": {
            "backgroundcolor": "#E5ECF6",
            "gridcolor": "white",
            "gridwidth": 2,
            "linecolor": "white",
            "showbackground": true,
            "ticks": "",
            "zerolinecolor": "white"
           }
          },
          "shapedefaults": {
           "line": {
            "color": "#2a3f5f"
           }
          },
          "ternary": {
           "aaxis": {
            "gridcolor": "white",
            "linecolor": "white",
            "ticks": ""
           },
           "baxis": {
            "gridcolor": "white",
            "linecolor": "white",
            "ticks": ""
           },
           "bgcolor": "#E5ECF6",
           "caxis": {
            "gridcolor": "white",
            "linecolor": "white",
            "ticks": ""
           }
          },
          "title": {
           "x": 0.05
          },
          "xaxis": {
           "automargin": true,
           "gridcolor": "white",
           "linecolor": "white",
           "ticks": "",
           "title": {
            "standoff": 15
           },
           "zerolinecolor": "white",
           "zerolinewidth": 2
          },
          "yaxis": {
           "automargin": true,
           "gridcolor": "white",
           "linecolor": "white",
           "ticks": "",
           "title": {
            "standoff": 15
           },
           "zerolinecolor": "white",
           "zerolinewidth": 2
          }
         }
        },
        "xaxis": {
         "autorange": true,
         "range": [
          27.212142287082433,
          100.2026792840041
         ],
         "type": "linear"
        },
        "yaxis": {
         "autorange": true,
         "range": [
          -57.598648648648656,
          93.69864864864866
         ],
         "type": "linear"
        }
       }
      },
      "image/png": "[encoded data removed]",
      "text/html": [
       "<div>                            <div id=\"c319ad41-8e89-43d7-97a5-8cb80335e3ba\" class=\"plotly-graph-div\" style=\"height:525px; width:100%;\"></div>            <script type=\"text/javascript\">                require([\"plotly\"], function(Plotly) {                    window.PLOTLYENV=window.PLOTLYENV || {};                                    if (document.getElementById(\"c319ad41-8e89-43d7-97a5-8cb80335e3ba\")) {                    Plotly.newPlot(                        \"c319ad41-8e89-43d7-97a5-8cb80335e3ba\",                        [{\"marker\":{\"color\":[71.5,43.7,49.5,32.6,43.2,49.8,47.5,41.400000000000006,18.2,42.400000000000006,34.0,64.1,46.5,36.5,37.9,49.1,44.7,54.599999999999994,58.400000000000006,61.2,51.1,48.2,53.0,19.200000000000003,16.4,38.2,57.8,58.1,55.7,37.9,57.400000000000006,33.7,51.2,62.5,70.2,33.6,15.4,66.8,47.5,7.0,22.3,2.5,25.8,42.9,65.3,16.200000000000003],\"size\":[24.8,41.4,42.3,48.1,46.8,36.4,25.4,39.5,18.5,30.6,44.0,33.8,24.2,45.8,29.7,27.5,44.6,41.5,18.9,14.2,14.8,35.0,24.3,69.4,99.9,45.9,11.9,9.0,13.5,26.0,19.0,35.7,52.7,18.1,9.1,100.0,100.0,8.0,30.9,99.7,99.9,100.0,99.8,36.3,10.2,99.2]},\"mode\":\"markers\",\"x\":[88.9,75.7,79.4,78.0,79.1,93.7,81.6,75.4,95.0,78.9,74.0,83.2,84.3,89.2,81.1,78.0,80.0,78.0,80.9,81.9,78.2,80.3,82.1,57.7,56.0,76.0,81.9,87.2,85.1,80.5,82.9,72.0,81.1,82.4,86.8,65.8,50.1,83.0,77.1,47.3,59.8,38.7,56.8,80.6,86.0,49.4],\"y\":[71.5,43.7,49.5,32.6,43.2,49.8,47.5,41.400000000000006,18.2,42.400000000000006,34.0,64.1,46.5,36.5,37.9,49.1,44.7,54.599999999999994,58.400000000000006,61.2,51.1,48.2,53.0,19.200000000000003,16.4,38.2,57.8,58.1,55.7,37.9,57.400000000000006,33.7,51.2,62.5,70.2,33.6,15.4,66.8,47.5,7.0,22.3,2.5,25.8,42.9,65.3,16.200000000000003],\"type\":\"scatter\"}],                        {\"template\":{\"data\":{\"histogram2dcontour\":[{\"type\":\"histogram2dcontour\",\"colorbar\":{\"outlinewidth\":0,\"ticks\":\"\"},\"colorscale\":[[0.0,\"#0d0887\"],[0.1111111111111111,\"#46039f\"],[0.2222222222222222,\"#7201a8\"],[0.3333333333333333,\"#9c179e\"],[0.4444444444444444,\"#bd3786\"],[0.5555555555555556,\"#d8576b\"],[0.6666666666666666,\"#ed7953\"],[0.7777777777777778,\"#fb9f3a\"],[0.8888888888888888,\"#fdca26\"],[1.0,\"#f0f921\"]]}],\"choropleth\":[{\"type\":\"choropleth\",\"colorbar\":{\"outlinewidth\":0,\"ticks\":\"\"}}],\"histogram2d\":[{\"type\":\"histogram2d\",\"colorbar\":{\"outlinewidth\":0,\"ticks\":\"\"},\"colorscale\":[[0.0,\"#0d0887\"],[0.1111111111111111,\"#46039f\"],[0.2222222222222222,\"#7201a8\"],[0.3333333333333333,\"#9c179e\"],[0.4444444444444444,\"#bd3786\"],[0.5555555555555556,\"#d8576b\"],[0.6666666666666666,\"#ed7953\"],[0.7777777777777778,\"#fb9f3a\"],[0.8888888888888888,\"#fdca26\"],[1.0,\"#f0f921\"]]}],\"heatmap\":[{\"type\":\"heatmap\",\"colorbar\":{\"outlinewidth\":0,\"ticks\":\"\"},\"colorscale\":[[0.0,\"#0d0887\"],[0.1111111111111111,\"#46039f\"],[0.2222222222222222,\"#7201a8\"],[0.3333333333333333,\"#9c179e\"],[0.4444444444444444,\"#bd3786\"],[0.5555555555555556,\"#d8576b\"],[0.6666666666666666,\"#ed7953\"],[0.7777777777777778,\"#fb9f3a\"],[0.8888888888888888,\"#fdca26\"],[1.0,\"#f0f921\"]]}],\"heatmapgl\":[{\"type\":\"heatmapgl\",\"colorbar\":{\"outlinewidth\":0,\"ticks\":\"\"},\"colorscale\":[[0.0,\"#0d0887\"],[0.1111111111111111,\"#46039f\"],[0.2222222222222222,\"#7201a8\"],[0.3333333333333333,\"#9c179e\"],[0.4444444444444444,\"#bd3786\"],[0.5555555555555556,\"#d8576b\"],[0.6666666666666666,\"#ed7953\"],[0.7777777777777778,\"#fb9f3a\"],[0.8888888888888888,\"#fdca26\"],[1.0,\"#f0f921\"]]}],\"contourcarpet\":[{\"type\":\"contourcarpet\",\"colorbar\":{\"outlinewidth\":0,\"ticks\":\"\"}}],\"contour\":[{\"type\":\"contour\",\"colorbar\":{\"outlinewidth\":0,\"ticks\":\"\"},\"colorscale\":[[0.0,\"#0d0887\"],[0.1111111111111111,\"#46039f\"],[0.2222222222222222,\"#7201a8\"],[0.3333333333333333,\"#9c179e\"],[0.4444444444444444,\"#bd3786\"],[0.5555555555555556,\"#d8576b\"],[0.6666666666666666,\"#ed7953\"],[0.7777777777777778,\"#fb9f3a\"],[0.8888888888888888,\"#fdca26\"],[1.0,\"#f0f921\"]]}],\"surface\":[{\"type\":\"surface\",\"colorbar\":{\"outlinewidth\":0,\"ticks\":\"\"},\"colorscale\":[[0.0,\"#0d0887\"],[0.1111111111111111,\"#46039f\"],[0.2222222222222222,\"#7201a8\"],[0.3333333333333333,\"#9c179e\"],[0.4444444444444444,\"#bd3786\"],[0.5555555555555556,\"#d8576b\"],[0.6666666666666666,\"#ed7953\"],[0.7777777777777778,\"#fb9f3a\"],[0.8888888888888888,\"#fdca26\"],[1.0,\"#f0f921\"]]}],\"mesh3d\":[{\"type\":\"mesh3d\",\"colorbar\":{\"outlinewidth\":0,\"ticks\":\"\"}}],\"scatter\":[{\"fillpattern\":{\"fillmode\":\"overlay\",\"size\":10,\"solidity\":0.2},\"type\":\"scatter\"}],\"parcoords\":[{\"type\":\"parcoords\",\"line\":{\"colorbar\":{\"outlinewidth\":0,\"ticks\":\"\"}}}],\"scatterpolargl\":[{\"type\":\"scatterpolargl\",\"marker\":{\"colorbar\":{\"outlinewidth\":0,\"ticks\":\"\"}}}],\"bar\":[{\"error_x\":{\"color\":\"#2a3f5f\"},\"error_y\":{\"color\":\"#2a3f5f\"},\"marker\":{\"line\":{\"color\":\"#E5ECF6\",\"width\":0.5},\"pattern\":{\"fillmode\":\"overlay\",\"size\":10,\"solidity\":0.2}},\"type\":\"bar\"}],\"scattergeo\":[{\"type\":\"scattergeo\",\"marker\":{\"colorbar\":{\"outlinewidth\":0,\"ticks\":\"\"}}}],\"scatterpolar\":[{\"type\":\"scatterpolar\",\"marker\":{\"colorbar\":{\"outlinewidth\":0,\"ticks\":\"\"}}}],\"histogram\":[{\"marker\":{\"pattern\":{\"fillmode\":\"overlay\",\"size\":10,\"solidity\":0.2}},\"type\":\"histogram\"}],\"scattergl\":[{\"type\":\"scattergl\",\"marker\":{\"colorbar\":{\"outlinewidth\":0,\"ticks\":\"\"}}}],\"scatter3d\":[{\"type\":\"scatter3d\",\"line\":{\"colorbar\":{\"outlinewidth\":0,\"ticks\":\"\"}},\"marker\":{\"colorbar\":{\"outlinewidth\":0,\"ticks\":\"\"}}}],\"scattermapbox\":[{\"type\":\"scattermapbox\",\"marker\":{\"colorbar\":{\"outlinewidth\":0,\"ticks\":\"\"}}}],\"scatterternary\":[{\"type\":\"scatterternary\",\"marker\":{\"colorbar\":{\"outlinewidth\":0,\"ticks\":\"\"}}}],\"scattercarpet\":[{\"type\":\"scattercarpet\",\"marker\":{\"colorbar\":{\"outlinewidth\":0,\"ticks\":\"\"}}}],\"carpet\":[{\"aaxis\":{\"endlinecolor\":\"#2a3f5f\",\"gridcolor\":\"white\",\"linecolor\":\"white\",\"minorgridcolor\":\"white\",\"startlinecolor\":\"#2a3f5f\"},\"baxis\":{\"endlinecolor\":\"#2a3f5f\",\"gridcolor\":\"white\",\"linecolor\":\"white\",\"minorgridcolor\":\"white\",\"startlinecolor\":\"#2a3f5f\"},\"type\":\"carpet\"}],\"table\":[{\"cells\":{\"fill\":{\"color\":\"#EBF0F8\"},\"line\":{\"color\":\"white\"}},\"header\":{\"fill\":{\"color\":\"#C8D4E3\"},\"line\":{\"color\":\"white\"}},\"type\":\"table\"}],\"barpolar\":[{\"marker\":{\"line\":{\"color\":\"#E5ECF6\",\"width\":0.5},\"pattern\":{\"fillmode\":\"overlay\",\"size\":10,\"solidity\":0.2}},\"type\":\"barpolar\"}],\"pie\":[{\"automargin\":true,\"type\":\"pie\"}]},\"layout\":{\"autotypenumbers\":\"strict\",\"colorway\":[\"#636efa\",\"#EF553B\",\"#00cc96\",\"#ab63fa\",\"#FFA15A\",\"#19d3f3\",\"#FF6692\",\"#B6E880\",\"#FF97FF\",\"#FECB52\"],\"font\":{\"color\":\"#2a3f5f\"},\"hovermode\":\"closest\",\"hoverlabel\":{\"align\":\"left\"},\"paper_bgcolor\":\"white\",\"plot_bgcolor\":\"#E5ECF6\",\"polar\":{\"bgcolor\":\"#E5ECF6\",\"angularaxis\":{\"gridcolor\":\"white\",\"linecolor\":\"white\",\"ticks\":\"\"},\"radialaxis\":{\"gridcolor\":\"white\",\"linecolor\":\"white\",\"ticks\":\"\"}},\"ternary\":{\"bgcolor\":\"#E5ECF6\",\"aaxis\":{\"gridcolor\":\"white\",\"linecolor\":\"white\",\"ticks\":\"\"},\"baxis\":{\"gridcolor\":\"white\",\"linecolor\":\"white\",\"ticks\":\"\"},\"caxis\":{\"gridcolor\":\"white\",\"linecolor\":\"white\",\"ticks\":\"\"}},\"coloraxis\":{\"colorbar\":{\"outlinewidth\":0,\"ticks\":\"\"}},\"colorscale\":{\"sequential\":[[0.0,\"#0d0887\"],[0.1111111111111111,\"#46039f\"],[0.2222222222222222,\"#7201a8\"],[0.3333333333333333,\"#9c179e\"],[0.4444444444444444,\"#bd3786\"],[0.5555555555555556,\"#d8576b\"],[0.6666666666666666,\"#ed7953\"],[0.7777777777777778,\"#fb9f3a\"],[0.8888888888888888,\"#fdca26\"],[1.0,\"#f0f921\"]],\"sequentialminus\":[[0.0,\"#0d0887\"],[0.1111111111111111,\"#46039f\"],[0.2222222222222222,\"#7201a8\"],[0.3333333333333333,\"#9c179e\"],[0.4444444444444444,\"#bd3786\"],[0.5555555555555556,\"#d8576b\"],[0.6666666666666666,\"#ed7953\"],[0.7777777777777778,\"#fb9f3a\"],[0.8888888888888888,\"#fdca26\"],[1.0,\"#f0f921\"]],\"diverging\":[[0,\"#8e0152\"],[0.1,\"#c51b7d\"],[0.2,\"#de77ae\"],[0.3,\"#f1b6da\"],[0.4,\"#fde0ef\"],[0.5,\"#f7f7f7\"],[0.6,\"#e6f5d0\"],[0.7,\"#b8e186\"],[0.8,\"#7fbc41\"],[0.9,\"#4d9221\"],[1,\"#276419\"]]},\"xaxis\":{\"gridcolor\":\"white\",\"linecolor\":\"white\",\"ticks\":\"\",\"title\":{\"standoff\":15},\"zerolinecolor\":\"white\",\"automargin\":true,\"zerolinewidth\":2},\"yaxis\":{\"gridcolor\":\"white\",\"linecolor\":\"white\",\"ticks\":\"\",\"title\":{\"standoff\":15},\"zerolinecolor\":\"white\",\"automargin\":true,\"zerolinewidth\":2},\"scene\":{\"xaxis\":{\"backgroundcolor\":\"#E5ECF6\",\"gridcolor\":\"white\",\"linecolor\":\"white\",\"showbackground\":true,\"ticks\":\"\",\"zerolinecolor\":\"white\",\"gridwidth\":2},\"yaxis\":{\"backgroundcolor\":\"#E5ECF6\",\"gridcolor\":\"white\",\"linecolor\":\"white\",\"showbackground\":true,\"ticks\":\"\",\"zerolinecolor\":\"white\",\"gridwidth\":2},\"zaxis\":{\"backgroundcolor\":\"#E5ECF6\",\"gridcolor\":\"white\",\"linecolor\":\"white\",\"showbackground\":true,\"ticks\":\"\",\"zerolinecolor\":\"white\",\"gridwidth\":2}},\"shapedefaults\":{\"line\":{\"color\":\"#2a3f5f\"}},\"annotationdefaults\":{\"arrowcolor\":\"#2a3f5f\",\"arrowhead\":0,\"arrowwidth\":1},\"geo\":{\"bgcolor\":\"white\",\"landcolor\":\"#E5ECF6\",\"subunitcolor\":\"white\",\"showland\":true,\"showlakes\":true,\"lakecolor\":\"white\"},\"title\":{\"x\":0.05},\"mapbox\":{\"style\":\"light\"}}}},                        {\"responsive\": true}                    ).then(function(){\n",
       "                            \n",
       "var gd = document.getElementById('c319ad41-8e89-43d7-97a5-8cb80335e3ba');\n",
       "var x = new MutationObserver(function (mutations, observer) {{\n",
       "        var display = window.getComputedStyle(gd).display;\n",
       "        if (!display || display === 'none') {{\n",
       "            console.log([gd, 'removed!']);\n",
       "            Plotly.purge(gd);\n",
       "            observer.disconnect();\n",
       "        }}\n",
       "}});\n",
       "\n",
       "// Listen for the removal of the full notebook cells\n",
       "var notebookContainer = gd.closest('#notebook-container');\n",
       "if (notebookContainer) {{\n",
       "    x.observe(notebookContainer, {childList: true});\n",
       "}}\n",
       "\n",
       "// Listen for the clearing of the current output cell\n",
       "var outputEl = gd.closest('.output');\n",
       "if (outputEl) {{\n",
       "    x.observe(outputEl, {childList: true});\n",
       "}}\n",
       "\n",
       "                        })                };                });            </script>        </div>"
      ]
     },
     "metadata": {},
     "output_type": "display_data"
    }
   ],
   "source": [
    "fig = go.Figure(data=go.Scatter(x=fr_att_merge_filter_df[\"PROPORTIONAL_ATTENDANCE_TOTAL_PCT\"],\n",
    "                                y=fr_att_merge_filter_df[\"TOTAL_PCT\"], \n",
    "                                mode=\"markers\", \n",
    "                                marker_size = fr_att_merge_filter_df[\"FR_PCT\"], \n",
    "                                marker_color = fr_att_merge_filter_df[\"TOTAL_PCT\"]\n",
    "                               #color=fr_att_merge_filter_df[\"COUNTY\"]\n",
    "                               ))\n",
    "\n",
    "fig.show()"
   ]
  },
  {
   "cell_type": "code",
   "execution_count": 89,
   "id": "2bfc684f-559b-492a-a27f-c9c9b30ad0a2",
   "metadata": {},
   "outputs": [
    {
     "data": {
      "application/vnd.plotly.v1+json": {
       "config": {
        "plotlyServerURL": "https://plot.ly"
       },
       "data": [
        {
         "marker": {
          "color": [
           71.5,
           43.7,
           49.5,
           32.6,
           43.2,
           49.8,
           47.5,
           41.400000000000006,
           18.2,
           42.400000000000006,
           34,
           64.1,
           46.5,
           36.5,
           37.9,
           49.1,
           44.7,
           54.599999999999994,
           58.400000000000006,
           61.2,
           51.1,
           48.2,
           53,
           19.200000000000003,
           16.4,
           38.2,
           57.8,
           58.1,
           55.7,
           37.9,
           57.400000000000006,
           33.7,
           51.2,
           62.5,
           70.2,
           33.6,
           15.4,
           66.8,
           47.5,
           7,
           22.3,
           2.5,
           25.8,
           42.9,
           65.3,
           16.200000000000003
          ],
          "colorscale": [
           [
            0,
            "#440154"
           ],
           [
            0.1111111111111111,
            "#482878"
           ],
           [
            0.2222222222222222,
            "#3e4989"
           ],
           [
            0.3333333333333333,
            "#31688e"
           ],
           [
            0.4444444444444444,
            "#26828e"
           ],
           [
            0.5555555555555556,
            "#1f9e89"
           ],
           [
            0.6666666666666666,
            "#35b779"
           ],
           [
            0.7777777777777778,
            "#6ece58"
           ],
           [
            0.8888888888888888,
            "#b5de2b"
           ],
           [
            1,
            "#fde725"
           ]
          ],
          "showscale": true,
          "size": 16
         },
         "mode": "markers",
         "type": "scatter",
         "x": [
          88.9,
          75.7,
          79.4,
          78,
          79.1,
          93.7,
          81.6,
          75.4,
          95,
          78.9,
          74,
          83.2,
          84.3,
          89.2,
          81.1,
          78,
          80,
          78,
          80.9,
          81.9,
          78.2,
          80.3,
          82.1,
          57.7,
          56,
          76,
          81.9,
          87.2,
          85.1,
          80.5,
          82.9,
          72,
          81.1,
          82.4,
          86.8,
          65.8,
          50.1,
          83,
          77.1,
          47.3,
          59.8,
          38.7,
          56.8,
          80.6,
          86,
          49.4
         ],
         "y": [
          71.5,
          43.7,
          49.5,
          32.6,
          43.2,
          49.8,
          47.5,
          41.400000000000006,
          18.2,
          42.400000000000006,
          34,
          64.1,
          46.5,
          36.5,
          37.9,
          49.1,
          44.7,
          54.599999999999994,
          58.400000000000006,
          61.2,
          51.1,
          48.2,
          53,
          19.200000000000003,
          16.4,
          38.2,
          57.8,
          58.1,
          55.7,
          37.9,
          57.400000000000006,
          33.7,
          51.2,
          62.5,
          70.2,
          33.6,
          15.4,
          66.8,
          47.5,
          7,
          22.3,
          2.5,
          25.8,
          42.9,
          65.3,
          16.200000000000003
         ]
        }
       ],
       "layout": {
        "autosize": true,
        "template": {
         "data": {
          "bar": [
           {
            "error_x": {
             "color": "#2a3f5f"
            },
            "error_y": {
             "color": "#2a3f5f"
            },
            "marker": {
             "line": {
              "color": "#E5ECF6",
              "width": 0.5
             },
             "pattern": {
              "fillmode": "overlay",
              "size": 10,
              "solidity": 0.2
             }
            },
            "type": "bar"
           }
          ],
          "barpolar": [
           {
            "marker": {
             "line": {
              "color": "#E5ECF6",
              "width": 0.5
             },
             "pattern": {
              "fillmode": "overlay",
              "size": 10,
              "solidity": 0.2
             }
            },
            "type": "barpolar"
           }
          ],
          "carpet": [
           {
            "aaxis": {
             "endlinecolor": "#2a3f5f",
             "gridcolor": "white",
             "linecolor": "white",
             "minorgridcolor": "white",
             "startlinecolor": "#2a3f5f"
            },
            "baxis": {
             "endlinecolor": "#2a3f5f",
             "gridcolor": "white",
             "linecolor": "white",
             "minorgridcolor": "white",
             "startlinecolor": "#2a3f5f"
            },
            "type": "carpet"
           }
          ],
          "choropleth": [
           {
            "colorbar": {
             "outlinewidth": 0,
             "ticks": ""
            },
            "type": "choropleth"
           }
          ],
          "contour": [
           {
            "colorbar": {
             "outlinewidth": 0,
             "ticks": ""
            },
            "colorscale": [
             [
              0,
              "#0d0887"
             ],
             [
              0.1111111111111111,
              "#46039f"
             ],
             [
              0.2222222222222222,
              "#7201a8"
             ],
             [
              0.3333333333333333,
              "#9c179e"
             ],
             [
              0.4444444444444444,
              "#bd3786"
             ],
             [
              0.5555555555555556,
              "#d8576b"
             ],
             [
              0.6666666666666666,
              "#ed7953"
             ],
             [
              0.7777777777777778,
              "#fb9f3a"
             ],
             [
              0.8888888888888888,
              "#fdca26"
             ],
             [
              1,
              "#f0f921"
             ]
            ],
            "type": "contour"
           }
          ],
          "contourcarpet": [
           {
            "colorbar": {
             "outlinewidth": 0,
             "ticks": ""
            },
            "type": "contourcarpet"
           }
          ],
          "heatmap": [
           {
            "colorbar": {
             "outlinewidth": 0,
             "ticks": ""
            },
            "colorscale": [
             [
              0,
              "#0d0887"
             ],
             [
              0.1111111111111111,
              "#46039f"
             ],
             [
              0.2222222222222222,
              "#7201a8"
             ],
             [
              0.3333333333333333,
              "#9c179e"
             ],
             [
              0.4444444444444444,
              "#bd3786"
             ],
             [
              0.5555555555555556,
              "#d8576b"
             ],
             [
              0.6666666666666666,
              "#ed7953"
             ],
             [
              0.7777777777777778,
              "#fb9f3a"
             ],
             [
              0.8888888888888888,
              "#fdca26"
             ],
             [
              1,
              "#f0f921"
             ]
            ],
            "type": "heatmap"
           }
          ],
          "heatmapgl": [
           {
            "colorbar": {
             "outlinewidth": 0,
             "ticks": ""
            },
            "colorscale": [
             [
              0,
              "#0d0887"
             ],
             [
              0.1111111111111111,
              "#46039f"
             ],
             [
              0.2222222222222222,
              "#7201a8"
             ],
             [
              0.3333333333333333,
              "#9c179e"
             ],
             [
              0.4444444444444444,
              "#bd3786"
             ],
             [
              0.5555555555555556,
              "#d8576b"
             ],
             [
              0.6666666666666666,
              "#ed7953"
             ],
             [
              0.7777777777777778,
              "#fb9f3a"
             ],
             [
              0.8888888888888888,
              "#fdca26"
             ],
             [
              1,
              "#f0f921"
             ]
            ],
            "type": "heatmapgl"
           }
          ],
          "histogram": [
           {
            "marker": {
             "pattern": {
              "fillmode": "overlay",
              "size": 10,
              "solidity": 0.2
             }
            },
            "type": "histogram"
           }
          ],
          "histogram2d": [
           {
            "colorbar": {
             "outlinewidth": 0,
             "ticks": ""
            },
            "colorscale": [
             [
              0,
              "#0d0887"
             ],
             [
              0.1111111111111111,
              "#46039f"
             ],
             [
              0.2222222222222222,
              "#7201a8"
             ],
             [
              0.3333333333333333,
              "#9c179e"
             ],
             [
              0.4444444444444444,
              "#bd3786"
             ],
             [
              0.5555555555555556,
              "#d8576b"
             ],
             [
              0.6666666666666666,
              "#ed7953"
             ],
             [
              0.7777777777777778,
              "#fb9f3a"
             ],
             [
              0.8888888888888888,
              "#fdca26"
             ],
             [
              1,
              "#f0f921"
             ]
            ],
            "type": "histogram2d"
           }
          ],
          "histogram2dcontour": [
           {
            "colorbar": {
             "outlinewidth": 0,
             "ticks": ""
            },
            "colorscale": [
             [
              0,
              "#0d0887"
             ],
             [
              0.1111111111111111,
              "#46039f"
             ],
             [
              0.2222222222222222,
              "#7201a8"
             ],
             [
              0.3333333333333333,
              "#9c179e"
             ],
             [
              0.4444444444444444,
              "#bd3786"
             ],
             [
              0.5555555555555556,
              "#d8576b"
             ],
             [
              0.6666666666666666,
              "#ed7953"
             ],
             [
              0.7777777777777778,
              "#fb9f3a"
             ],
             [
              0.8888888888888888,
              "#fdca26"
             ],
             [
              1,
              "#f0f921"
             ]
            ],
            "type": "histogram2dcontour"
           }
          ],
          "mesh3d": [
           {
            "colorbar": {
             "outlinewidth": 0,
             "ticks": ""
            },
            "type": "mesh3d"
           }
          ],
          "parcoords": [
           {
            "line": {
             "colorbar": {
              "outlinewidth": 0,
              "ticks": ""
             }
            },
            "type": "parcoords"
           }
          ],
          "pie": [
           {
            "automargin": true,
            "type": "pie"
           }
          ],
          "scatter": [
           {
            "fillpattern": {
             "fillmode": "overlay",
             "size": 10,
             "solidity": 0.2
            },
            "type": "scatter"
           }
          ],
          "scatter3d": [
           {
            "line": {
             "colorbar": {
              "outlinewidth": 0,
              "ticks": ""
             }
            },
            "marker": {
             "colorbar": {
              "outlinewidth": 0,
              "ticks": ""
             }
            },
            "type": "scatter3d"
           }
          ],
          "scattercarpet": [
           {
            "marker": {
             "colorbar": {
              "outlinewidth": 0,
              "ticks": ""
             }
            },
            "type": "scattercarpet"
           }
          ],
          "scattergeo": [
           {
            "marker": {
             "colorbar": {
              "outlinewidth": 0,
              "ticks": ""
             }
            },
            "type": "scattergeo"
           }
          ],
          "scattergl": [
           {
            "marker": {
             "colorbar": {
              "outlinewidth": 0,
              "ticks": ""
             }
            },
            "type": "scattergl"
           }
          ],
          "scattermapbox": [
           {
            "marker": {
             "colorbar": {
              "outlinewidth": 0,
              "ticks": ""
             }
            },
            "type": "scattermapbox"
           }
          ],
          "scatterpolar": [
           {
            "marker": {
             "colorbar": {
              "outlinewidth": 0,
              "ticks": ""
             }
            },
            "type": "scatterpolar"
           }
          ],
          "scatterpolargl": [
           {
            "marker": {
             "colorbar": {
              "outlinewidth": 0,
              "ticks": ""
             }
            },
            "type": "scatterpolargl"
           }
          ],
          "scatterternary": [
           {
            "marker": {
             "colorbar": {
              "outlinewidth": 0,
              "ticks": ""
             }
            },
            "type": "scatterternary"
           }
          ],
          "surface": [
           {
            "colorbar": {
             "outlinewidth": 0,
             "ticks": ""
            },
            "colorscale": [
             [
              0,
              "#0d0887"
             ],
             [
              0.1111111111111111,
              "#46039f"
             ],
             [
              0.2222222222222222,
              "#7201a8"
             ],
             [
              0.3333333333333333,
              "#9c179e"
             ],
             [
              0.4444444444444444,
              "#bd3786"
             ],
             [
              0.5555555555555556,
              "#d8576b"
             ],
             [
              0.6666666666666666,
              "#ed7953"
             ],
             [
              0.7777777777777778,
              "#fb9f3a"
             ],
             [
              0.8888888888888888,
              "#fdca26"
             ],
             [
              1,
              "#f0f921"
             ]
            ],
            "type": "surface"
           }
          ],
          "table": [
           {
            "cells": {
             "fill": {
              "color": "#EBF0F8"
             },
             "line": {
              "color": "white"
             }
            },
            "header": {
             "fill": {
              "color": "#C8D4E3"
             },
             "line": {
              "color": "white"
             }
            },
            "type": "table"
           }
          ]
         },
         "layout": {
          "annotationdefaults": {
           "arrowcolor": "#2a3f5f",
           "arrowhead": 0,
           "arrowwidth": 1
          },
          "autotypenumbers": "strict",
          "coloraxis": {
           "colorbar": {
            "outlinewidth": 0,
            "ticks": ""
           }
          },
          "colorscale": {
           "diverging": [
            [
             0,
             "#8e0152"
            ],
            [
             0.1,
             "#c51b7d"
            ],
            [
             0.2,
             "#de77ae"
            ],
            [
             0.3,
             "#f1b6da"
            ],
            [
             0.4,
             "#fde0ef"
            ],
            [
             0.5,
             "#f7f7f7"
            ],
            [
             0.6,
             "#e6f5d0"
            ],
            [
             0.7,
             "#b8e186"
            ],
            [
             0.8,
             "#7fbc41"
            ],
            [
             0.9,
             "#4d9221"
            ],
            [
             1,
             "#276419"
            ]
           ],
           "sequential": [
            [
             0,
             "#0d0887"
            ],
            [
             0.1111111111111111,
             "#46039f"
            ],
            [
             0.2222222222222222,
             "#7201a8"
            ],
            [
             0.3333333333333333,
             "#9c179e"
            ],
            [
             0.4444444444444444,
             "#bd3786"
            ],
            [
             0.5555555555555556,
             "#d8576b"
            ],
            [
             0.6666666666666666,
             "#ed7953"
            ],
            [
             0.7777777777777778,
             "#fb9f3a"
            ],
            [
             0.8888888888888888,
             "#fdca26"
            ],
            [
             1,
             "#f0f921"
            ]
           ],
           "sequentialminus": [
            [
             0,
             "#0d0887"
            ],
            [
             0.1111111111111111,
             "#46039f"
            ],
            [
             0.2222222222222222,
             "#7201a8"
            ],
            [
             0.3333333333333333,
             "#9c179e"
            ],
            [
             0.4444444444444444,
             "#bd3786"
            ],
            [
             0.5555555555555556,
             "#d8576b"
            ],
            [
             0.6666666666666666,
             "#ed7953"
            ],
            [
             0.7777777777777778,
             "#fb9f3a"
            ],
            [
             0.8888888888888888,
             "#fdca26"
            ],
            [
             1,
             "#f0f921"
            ]
           ]
          },
          "colorway": [
           "#636efa",
           "#EF553B",
           "#00cc96",
           "#ab63fa",
           "#FFA15A",
           "#19d3f3",
           "#FF6692",
           "#B6E880",
           "#FF97FF",
           "#FECB52"
          ],
          "font": {
           "color": "#2a3f5f"
          },
          "geo": {
           "bgcolor": "white",
           "lakecolor": "white",
           "landcolor": "#E5ECF6",
           "showlakes": true,
           "showland": true,
           "subunitcolor": "white"
          },
          "hoverlabel": {
           "align": "left"
          },
          "hovermode": "closest",
          "mapbox": {
           "style": "light"
          },
          "paper_bgcolor": "white",
          "plot_bgcolor": "#E5ECF6",
          "polar": {
           "angularaxis": {
            "gridcolor": "white",
            "linecolor": "white",
            "ticks": ""
           },
           "bgcolor": "#E5ECF6",
           "radialaxis": {
            "gridcolor": "white",
            "linecolor": "white",
            "ticks": ""
           }
          },
          "scene": {
           "xaxis": {
            "backgroundcolor": "#E5ECF6",
            "gridcolor": "white",
            "gridwidth": 2,
            "linecolor": "white",
            "showbackground": true,
            "ticks": "",
            "zerolinecolor": "white"
           },
           "yaxis": {
            "backgroundcolor": "#E5ECF6",
            "gridcolor": "white",
            "gridwidth": 2,
            "linecolor": "white",
            "showbackground": true,
            "ticks": "",
            "zerolinecolor": "white"
           },
           "zaxis": {
            "backgroundcolor": "#E5ECF6",
            "gridcolor": "white",
            "gridwidth": 2,
            "linecolor": "white",
            "showbackground": true,
            "ticks": "",
            "zerolinecolor": "white"
           }
          },
          "shapedefaults": {
           "line": {
            "color": "#2a3f5f"
           }
          },
          "ternary": {
           "aaxis": {
            "gridcolor": "white",
            "linecolor": "white",
            "ticks": ""
           },
           "baxis": {
            "gridcolor": "white",
            "linecolor": "white",
            "ticks": ""
           },
           "bgcolor": "#E5ECF6",
           "caxis": {
            "gridcolor": "white",
            "linecolor": "white",
            "ticks": ""
           }
          },
          "title": {
           "x": 0.05
          },
          "xaxis": {
           "automargin": true,
           "gridcolor": "white",
           "linecolor": "white",
           "ticks": "",
           "title": {
            "standoff": 15
           },
           "zerolinecolor": "white",
           "zerolinewidth": 2
          },
          "yaxis": {
           "automargin": true,
           "gridcolor": "white",
           "linecolor": "white",
           "ticks": "",
           "title": {
            "standoff": 15
           },
           "zerolinecolor": "white",
           "zerolinewidth": 2
          }
         }
        },
        "xaxis": {
         "autorange": true,
         "range": [
          34.30796281325789,
          99.39203718674212
         ],
         "type": "linear"
        },
        "yaxis": {
         "autorange": true,
         "range": [
          -6.732394366197184,
          80.73239436619718
         ],
         "type": "linear"
        }
       }
      },
      "image/png": "[encoded data removed]",
      "text/html": [
       "<div>                            <div id=\"244a5539-1803-4a58-bb20-e2f2cd2dff7c\" class=\"plotly-graph-div\" style=\"height:525px; width:100%;\"></div>            <script type=\"text/javascript\">                require([\"plotly\"], function(Plotly) {                    window.PLOTLYENV=window.PLOTLYENV || {};                                    if (document.getElementById(\"244a5539-1803-4a58-bb20-e2f2cd2dff7c\")) {                    Plotly.newPlot(                        \"244a5539-1803-4a58-bb20-e2f2cd2dff7c\",                        [{\"marker\":{\"color\":[71.5,43.7,49.5,32.6,43.2,49.8,47.5,41.400000000000006,18.2,42.400000000000006,34.0,64.1,46.5,36.5,37.9,49.1,44.7,54.599999999999994,58.400000000000006,61.2,51.1,48.2,53.0,19.200000000000003,16.4,38.2,57.8,58.1,55.7,37.9,57.400000000000006,33.7,51.2,62.5,70.2,33.6,15.4,66.8,47.5,7.0,22.3,2.5,25.8,42.9,65.3,16.200000000000003],\"colorscale\":[[0.0,\"#440154\"],[0.1111111111111111,\"#482878\"],[0.2222222222222222,\"#3e4989\"],[0.3333333333333333,\"#31688e\"],[0.4444444444444444,\"#26828e\"],[0.5555555555555556,\"#1f9e89\"],[0.6666666666666666,\"#35b779\"],[0.7777777777777778,\"#6ece58\"],[0.8888888888888888,\"#b5de2b\"],[1.0,\"#fde725\"]],\"showscale\":true,\"size\":16},\"mode\":\"markers\",\"x\":[88.9,75.7,79.4,78.0,79.1,93.7,81.6,75.4,95.0,78.9,74.0,83.2,84.3,89.2,81.1,78.0,80.0,78.0,80.9,81.9,78.2,80.3,82.1,57.7,56.0,76.0,81.9,87.2,85.1,80.5,82.9,72.0,81.1,82.4,86.8,65.8,50.1,83.0,77.1,47.3,59.8,38.7,56.8,80.6,86.0,49.4],\"y\":[71.5,43.7,49.5,32.6,43.2,49.8,47.5,41.400000000000006,18.2,42.400000000000006,34.0,64.1,46.5,36.5,37.9,49.1,44.7,54.599999999999994,58.400000000000006,61.2,51.1,48.2,53.0,19.200000000000003,16.4,38.2,57.8,58.1,55.7,37.9,57.400000000000006,33.7,51.2,62.5,70.2,33.6,15.4,66.8,47.5,7.0,22.3,2.5,25.8,42.9,65.3,16.200000000000003],\"type\":\"scatter\"}],                        {\"template\":{\"data\":{\"histogram2dcontour\":[{\"type\":\"histogram2dcontour\",\"colorbar\":{\"outlinewidth\":0,\"ticks\":\"\"},\"colorscale\":[[0.0,\"#0d0887\"],[0.1111111111111111,\"#46039f\"],[0.2222222222222222,\"#7201a8\"],[0.3333333333333333,\"#9c179e\"],[0.4444444444444444,\"#bd3786\"],[0.5555555555555556,\"#d8576b\"],[0.6666666666666666,\"#ed7953\"],[0.7777777777777778,\"#fb9f3a\"],[0.8888888888888888,\"#fdca26\"],[1.0,\"#f0f921\"]]}],\"choropleth\":[{\"type\":\"choropleth\",\"colorbar\":{\"outlinewidth\":0,\"ticks\":\"\"}}],\"histogram2d\":[{\"type\":\"histogram2d\",\"colorbar\":{\"outlinewidth\":0,\"ticks\":\"\"},\"colorscale\":[[0.0,\"#0d0887\"],[0.1111111111111111,\"#46039f\"],[0.2222222222222222,\"#7201a8\"],[0.3333333333333333,\"#9c179e\"],[0.4444444444444444,\"#bd3786\"],[0.5555555555555556,\"#d8576b\"],[0.6666666666666666,\"#ed7953\"],[0.7777777777777778,\"#fb9f3a\"],[0.8888888888888888,\"#fdca26\"],[1.0,\"#f0f921\"]]}],\"heatmap\":[{\"type\":\"heatmap\",\"colorbar\":{\"outlinewidth\":0,\"ticks\":\"\"},\"colorscale\":[[0.0,\"#0d0887\"],[0.1111111111111111,\"#46039f\"],[0.2222222222222222,\"#7201a8\"],[0.3333333333333333,\"#9c179e\"],[0.4444444444444444,\"#bd3786\"],[0.5555555555555556,\"#d8576b\"],[0.6666666666666666,\"#ed7953\"],[0.7777777777777778,\"#fb9f3a\"],[0.8888888888888888,\"#fdca26\"],[1.0,\"#f0f921\"]]}],\"heatmapgl\":[{\"type\":\"heatmapgl\",\"colorbar\":{\"outlinewidth\":0,\"ticks\":\"\"},\"colorscale\":[[0.0,\"#0d0887\"],[0.1111111111111111,\"#46039f\"],[0.2222222222222222,\"#7201a8\"],[0.3333333333333333,\"#9c179e\"],[0.4444444444444444,\"#bd3786\"],[0.5555555555555556,\"#d8576b\"],[0.6666666666666666,\"#ed7953\"],[0.7777777777777778,\"#fb9f3a\"],[0.8888888888888888,\"#fdca26\"],[1.0,\"#f0f921\"]]}],\"contourcarpet\":[{\"type\":\"contourcarpet\",\"colorbar\":{\"outlinewidth\":0,\"ticks\":\"\"}}],\"contour\":[{\"type\":\"contour\",\"colorbar\":{\"outlinewidth\":0,\"ticks\":\"\"},\"colorscale\":[[0.0,\"#0d0887\"],[0.1111111111111111,\"#46039f\"],[0.2222222222222222,\"#7201a8\"],[0.3333333333333333,\"#9c179e\"],[0.4444444444444444,\"#bd3786\"],[0.5555555555555556,\"#d8576b\"],[0.6666666666666666,\"#ed7953\"],[0.7777777777777778,\"#fb9f3a\"],[0.8888888888888888,\"#fdca26\"],[1.0,\"#f0f921\"]]}],\"surface\":[{\"type\":\"surface\",\"colorbar\":{\"outlinewidth\":0,\"ticks\":\"\"},\"colorscale\":[[0.0,\"#0d0887\"],[0.1111111111111111,\"#46039f\"],[0.2222222222222222,\"#7201a8\"],[0.3333333333333333,\"#9c179e\"],[0.4444444444444444,\"#bd3786\"],[0.5555555555555556,\"#d8576b\"],[0.6666666666666666,\"#ed7953\"],[0.7777777777777778,\"#fb9f3a\"],[0.8888888888888888,\"#fdca26\"],[1.0,\"#f0f921\"]]}],\"mesh3d\":[{\"type\":\"mesh3d\",\"colorbar\":{\"outlinewidth\":0,\"ticks\":\"\"}}],\"scatter\":[{\"fillpattern\":{\"fillmode\":\"overlay\",\"size\":10,\"solidity\":0.2},\"type\":\"scatter\"}],\"parcoords\":[{\"type\":\"parcoords\",\"line\":{\"colorbar\":{\"outlinewidth\":0,\"ticks\":\"\"}}}],\"scatterpolargl\":[{\"type\":\"scatterpolargl\",\"marker\":{\"colorbar\":{\"outlinewidth\":0,\"ticks\":\"\"}}}],\"bar\":[{\"error_x\":{\"color\":\"#2a3f5f\"},\"error_y\":{\"color\":\"#2a3f5f\"},\"marker\":{\"line\":{\"color\":\"#E5ECF6\",\"width\":0.5},\"pattern\":{\"fillmode\":\"overlay\",\"size\":10,\"solidity\":0.2}},\"type\":\"bar\"}],\"scattergeo\":[{\"type\":\"scattergeo\",\"marker\":{\"colorbar\":{\"outlinewidth\":0,\"ticks\":\"\"}}}],\"scatterpolar\":[{\"type\":\"scatterpolar\",\"marker\":{\"colorbar\":{\"outlinewidth\":0,\"ticks\":\"\"}}}],\"histogram\":[{\"marker\":{\"pattern\":{\"fillmode\":\"overlay\",\"size\":10,\"solidity\":0.2}},\"type\":\"histogram\"}],\"scattergl\":[{\"type\":\"scattergl\",\"marker\":{\"colorbar\":{\"outlinewidth\":0,\"ticks\":\"\"}}}],\"scatter3d\":[{\"type\":\"scatter3d\",\"line\":{\"colorbar\":{\"outlinewidth\":0,\"ticks\":\"\"}},\"marker\":{\"colorbar\":{\"outlinewidth\":0,\"ticks\":\"\"}}}],\"scattermapbox\":[{\"type\":\"scattermapbox\",\"marker\":{\"colorbar\":{\"outlinewidth\":0,\"ticks\":\"\"}}}],\"scatterternary\":[{\"type\":\"scatterternary\",\"marker\":{\"colorbar\":{\"outlinewidth\":0,\"ticks\":\"\"}}}],\"scattercarpet\":[{\"type\":\"scattercarpet\",\"marker\":{\"colorbar\":{\"outlinewidth\":0,\"ticks\":\"\"}}}],\"carpet\":[{\"aaxis\":{\"endlinecolor\":\"#2a3f5f\",\"gridcolor\":\"white\",\"linecolor\":\"white\",\"minorgridcolor\":\"white\",\"startlinecolor\":\"#2a3f5f\"},\"baxis\":{\"endlinecolor\":\"#2a3f5f\",\"gridcolor\":\"white\",\"linecolor\":\"white\",\"minorgridcolor\":\"white\",\"startlinecolor\":\"#2a3f5f\"},\"type\":\"carpet\"}],\"table\":[{\"cells\":{\"fill\":{\"color\":\"#EBF0F8\"},\"line\":{\"color\":\"white\"}},\"header\":{\"fill\":{\"color\":\"#C8D4E3\"},\"line\":{\"color\":\"white\"}},\"type\":\"table\"}],\"barpolar\":[{\"marker\":{\"line\":{\"color\":\"#E5ECF6\",\"width\":0.5},\"pattern\":{\"fillmode\":\"overlay\",\"size\":10,\"solidity\":0.2}},\"type\":\"barpolar\"}],\"pie\":[{\"automargin\":true,\"type\":\"pie\"}]},\"layout\":{\"autotypenumbers\":\"strict\",\"colorway\":[\"#636efa\",\"#EF553B\",\"#00cc96\",\"#ab63fa\",\"#FFA15A\",\"#19d3f3\",\"#FF6692\",\"#B6E880\",\"#FF97FF\",\"#FECB52\"],\"font\":{\"color\":\"#2a3f5f\"},\"hovermode\":\"closest\",\"hoverlabel\":{\"align\":\"left\"},\"paper_bgcolor\":\"white\",\"plot_bgcolor\":\"#E5ECF6\",\"polar\":{\"bgcolor\":\"#E5ECF6\",\"angularaxis\":{\"gridcolor\":\"white\",\"linecolor\":\"white\",\"ticks\":\"\"},\"radialaxis\":{\"gridcolor\":\"white\",\"linecolor\":\"white\",\"ticks\":\"\"}},\"ternary\":{\"bgcolor\":\"#E5ECF6\",\"aaxis\":{\"gridcolor\":\"white\",\"linecolor\":\"white\",\"ticks\":\"\"},\"baxis\":{\"gridcolor\":\"white\",\"linecolor\":\"white\",\"ticks\":\"\"},\"caxis\":{\"gridcolor\":\"white\",\"linecolor\":\"white\",\"ticks\":\"\"}},\"coloraxis\":{\"colorbar\":{\"outlinewidth\":0,\"ticks\":\"\"}},\"colorscale\":{\"sequential\":[[0.0,\"#0d0887\"],[0.1111111111111111,\"#46039f\"],[0.2222222222222222,\"#7201a8\"],[0.3333333333333333,\"#9c179e\"],[0.4444444444444444,\"#bd3786\"],[0.5555555555555556,\"#d8576b\"],[0.6666666666666666,\"#ed7953\"],[0.7777777777777778,\"#fb9f3a\"],[0.8888888888888888,\"#fdca26\"],[1.0,\"#f0f921\"]],\"sequentialminus\":[[0.0,\"#0d0887\"],[0.1111111111111111,\"#46039f\"],[0.2222222222222222,\"#7201a8\"],[0.3333333333333333,\"#9c179e\"],[0.4444444444444444,\"#bd3786\"],[0.5555555555555556,\"#d8576b\"],[0.6666666666666666,\"#ed7953\"],[0.7777777777777778,\"#fb9f3a\"],[0.8888888888888888,\"#fdca26\"],[1.0,\"#f0f921\"]],\"diverging\":[[0,\"#8e0152\"],[0.1,\"#c51b7d\"],[0.2,\"#de77ae\"],[0.3,\"#f1b6da\"],[0.4,\"#fde0ef\"],[0.5,\"#f7f7f7\"],[0.6,\"#e6f5d0\"],[0.7,\"#b8e186\"],[0.8,\"#7fbc41\"],[0.9,\"#4d9221\"],[1,\"#276419\"]]},\"xaxis\":{\"gridcolor\":\"white\",\"linecolor\":\"white\",\"ticks\":\"\",\"title\":{\"standoff\":15},\"zerolinecolor\":\"white\",\"automargin\":true,\"zerolinewidth\":2},\"yaxis\":{\"gridcolor\":\"white\",\"linecolor\":\"white\",\"ticks\":\"\",\"title\":{\"standoff\":15},\"zerolinecolor\":\"white\",\"automargin\":true,\"zerolinewidth\":2},\"scene\":{\"xaxis\":{\"backgroundcolor\":\"#E5ECF6\",\"gridcolor\":\"white\",\"linecolor\":\"white\",\"showbackground\":true,\"ticks\":\"\",\"zerolinecolor\":\"white\",\"gridwidth\":2},\"yaxis\":{\"backgroundcolor\":\"#E5ECF6\",\"gridcolor\":\"white\",\"linecolor\":\"white\",\"showbackground\":true,\"ticks\":\"\",\"zerolinecolor\":\"white\",\"gridwidth\":2},\"zaxis\":{\"backgroundcolor\":\"#E5ECF6\",\"gridcolor\":\"white\",\"linecolor\":\"white\",\"showbackground\":true,\"ticks\":\"\",\"zerolinecolor\":\"white\",\"gridwidth\":2}},\"shapedefaults\":{\"line\":{\"color\":\"#2a3f5f\"}},\"annotationdefaults\":{\"arrowcolor\":\"#2a3f5f\",\"arrowhead\":0,\"arrowwidth\":1},\"geo\":{\"bgcolor\":\"white\",\"landcolor\":\"#E5ECF6\",\"subunitcolor\":\"white\",\"showland\":true,\"showlakes\":true,\"lakecolor\":\"white\"},\"title\":{\"x\":0.05},\"mapbox\":{\"style\":\"light\"}}}},                        {\"responsive\": true}                    ).then(function(){\n",
       "                            \n",
       "var gd = document.getElementById('244a5539-1803-4a58-bb20-e2f2cd2dff7c');\n",
       "var x = new MutationObserver(function (mutations, observer) {{\n",
       "        var display = window.getComputedStyle(gd).display;\n",
       "        if (!display || display === 'none') {{\n",
       "            console.log([gd, 'removed!']);\n",
       "            Plotly.purge(gd);\n",
       "            observer.disconnect();\n",
       "        }}\n",
       "}});\n",
       "\n",
       "// Listen for the removal of the full notebook cells\n",
       "var notebookContainer = gd.closest('#notebook-container');\n",
       "if (notebookContainer) {{\n",
       "    x.observe(notebookContainer, {childList: true});\n",
       "}}\n",
       "\n",
       "// Listen for the clearing of the current output cell\n",
       "var outputEl = gd.closest('.output');\n",
       "if (outputEl) {{\n",
       "    x.observe(outputEl, {childList: true});\n",
       "}}\n",
       "\n",
       "                        })                };                });            </script>        </div>"
      ]
     },
     "metadata": {},
     "output_type": "display_data"
    }
   ],
   "source": [
    "fig = go.Figure(data=go.Scatter(x=fr_att_merge_filter_df[\"PROPORTIONAL_ATTENDANCE_TOTAL_PCT\"],\n",
    "                                y=fr_att_merge_filter_df[\"TOTAL_PCT\"], \n",
    "                                mode=\"markers\", marker = dict(size=16, color=fr_att_merge_filter_df[\"TOTAL_PCT\"],\n",
    "                                                              colorscale=\"Viridis\",\n",
    "                                                              showscale=True)\n",
    "                               ))\n",
    "fig.show()"
   ]
  },
  {
   "cell_type": "code",
   "execution_count": 112,
   "id": "ffb3f1d2-40ab-4f9e-aebe-5933560123b1",
   "metadata": {},
   "outputs": [],
   "source": [
    "fr_att_merge_filter_df[\"TOTAL_PCT\"].to_csv(\"fr_totpct_district\", index=False)"
   ]
  },
  {
   "cell_type": "code",
   "execution_count": 110,
   "id": "50c01384-542c-42aa-8588-b2a42d4bce1b",
   "metadata": {},
   "outputs": [
    {
     "data": {
      "text/plain": [
       "array([[71.5],\n",
       "       [43.7],\n",
       "       [49.5],\n",
       "       [32.6],\n",
       "       [43.2],\n",
       "       [49.8],\n",
       "       [47.5],\n",
       "       [41.4],\n",
       "       [18.2],\n",
       "       [42.4],\n",
       "       [34. ],\n",
       "       [64.1],\n",
       "       [46.5],\n",
       "       [36.5],\n",
       "       [37.9],\n",
       "       [49.1],\n",
       "       [44.7],\n",
       "       [54.6],\n",
       "       [58.4],\n",
       "       [61.2],\n",
       "       [51.1],\n",
       "       [48.2],\n",
       "       [53. ],\n",
       "       [19.2],\n",
       "       [16.4],\n",
       "       [38.2],\n",
       "       [57.8],\n",
       "       [58.1],\n",
       "       [55.7],\n",
       "       [37.9],\n",
       "       [57.4],\n",
       "       [33.7],\n",
       "       [51.2],\n",
       "       [62.5],\n",
       "       [70.2],\n",
       "       [33.6],\n",
       "       [15.4],\n",
       "       [66.8],\n",
       "       [47.5],\n",
       "       [ 7. ],\n",
       "       [22.3],\n",
       "       [ 2.5],\n",
       "       [25.8],\n",
       "       [42.9],\n",
       "       [65.3],\n",
       "       [16.2]])"
      ]
     },
     "execution_count": 110,
     "metadata": {},
     "output_type": "execute_result"
    }
   ],
   "source": [
    "z_data = pd.read_csv(\"fr_totpct_district\")\n",
    "z = z_data.values\n",
    "\n",
    "fig = go.Figure(data=[go.Surface(z=z_data.values)])\n",
    "fig.update_layout(title='Mt Bruno Elevation', autosize=False,\n",
    "                  width=500, height=500,\n",
    "                  margin=dict(l=65, r=50, b=65, t=90))\n",
    "\n",
    "z"
   ]
  },
  {
   "cell_type": "code",
   "execution_count": 111,
   "id": "708aaa3e-96b9-48cb-8a64-cb2e0a4e5f47",
   "metadata": {},
   "outputs": [
    {
     "data": {
      "text/plain": [
       "array([[ 0.000000e+00,  2.780985e+01,  4.961936e+01,  8.308067e+01,\n",
       "         1.166632e+02,  1.304140e+02,  1.507206e+02,  2.201871e+02,\n",
       "         1.561536e+02,  1.486416e+02,  2.037845e+02,  2.060386e+02,\n",
       "         1.071618e+02,  6.836975e+01,  4.533590e+01,  4.996142e+01,\n",
       "         2.189279e+01,  1.702552e+01,  1.174317e+01,  1.475226e+01,\n",
       "         1.366710e+01,  5.677561e+00,  3.312340e+00,  1.156517e+00,\n",
       "        -1.476620e-01],\n",
       "       [ 1.000000e+00,  2.771966e+01,  4.855022e+01,  6.521374e+01,\n",
       "         9.527666e+01,  1.169964e+02,  1.339056e+02,  1.523412e+02,\n",
       "         1.519340e+02,  1.601139e+02,  1.795327e+02,  1.476184e+02,\n",
       "         1.703943e+02,  1.218194e+02,  5.258537e+01,  3.308871e+01,\n",
       "         3.840972e+01,  4.424843e+01,  6.957860e+01,  4.019351e+00,\n",
       "         3.050024e+00,  3.039719e+00,  2.996142e+00,  2.967954e+00,\n",
       "         1.999594e+00],\n",
       "       [ 2.000000e+00,  3.042670e+01,  3.347752e+01,  4.480953e+01,\n",
       "         6.247495e+01,  7.743523e+01,  1.042153e+02,  1.027393e+02,\n",
       "         1.370004e+02,  1.860706e+02,  2.193173e+02,  1.817615e+02,\n",
       "         1.209154e+02,  1.431835e+02,  8.240501e+01,  4.847132e+01,\n",
       "         7.471461e+01,  6.009090e+01,  7.073525e+00,  6.089851e+00,\n",
       "         6.537450e+00,  6.666096e+00,  7.306965e+00,  5.736840e+00,\n",
       "         3.625628e+00],\n",
       "       [ 3.000000e+00,  1.666549e+01,  3.010860e+01,  3.996952e+01,\n",
       "         4.412225e+01,  5.957512e+01,  7.756929e+01,  1.068925e+02,\n",
       "         1.665539e+02,  1.752381e+02,  1.852815e+02,  1.545056e+02,\n",
       "         8.304330e+01,  6.261732e+01,  6.233167e+01,  6.055916e+01,\n",
       "         5.592124e+01,  1.517284e+01,  8.248324e+00,  3.668087e+01,\n",
       "         6.193413e+01,  2.026867e+01,  6.858819e+01,  4.649812e+01,\n",
       "         2.360095e-01],\n",
       "       [ 4.000000e+00,  8.815617e+00,  1.835160e+01,  8.658275e+00,\n",
       "         2.758590e+01,  4.862691e+01,  6.018013e+01,  9.132860e+01,\n",
       "         1.457109e+02,  1.160653e+02,  1.062662e+02,  6.869447e+01,\n",
       "         5.310596e+01,  3.792797e+01,  4.795942e+01,  4.742691e+01,\n",
       "         6.920731e+01,  4.495468e+01,  2.917197e+01,  1.791674e+01,\n",
       "         1.625515e+01,  1.465559e+01,  1.726048e+01,  3.122245e+01,\n",
       "         4.671704e+01],\n",
       "       [ 5.000000e+00,  6.628881e+00,  1.041339e+01,  2.481939e+01,\n",
       "         2.608952e+01,  3.016050e+01,  5.230802e+01,  6.471007e+01,\n",
       "         7.630823e+01,  8.463686e+01,  9.943240e+01,  6.252132e+01,\n",
       "         4.681647e+01,  5.576606e+01,  8.240990e+01,  1.402647e+02,\n",
       "         8.126501e+01,  5.645756e+01,  3.042164e+01,  1.728782e+01,\n",
       "         8.302431e+00,  2.981626e+00,  2.698536e+00,  5.886086e+00,\n",
       "         5.268358e+00],\n",
       "       [ 6.000000e+00,  2.183975e+01,  6.639270e+00,  1.897085e+01,\n",
       "         3.289204e+01,  4.315014e+01,  6.286014e+01,  1.046657e+02,\n",
       "         1.302294e+02,  1.148494e+02,  1.069873e+02,  6.189647e+01,\n",
       "         5.555682e+01,  8.680986e+01,  8.927802e+01,  1.224221e+02,\n",
       "         1.239698e+02,  1.090952e+02,  9.841956e+01,  7.761374e+01,\n",
       "         3.249031e+01,  1.467344e+01,  7.370775e+00,  3.711011e-02,\n",
       "         6.423392e-01],\n",
       "       [ 7.000000e+00,  5.334303e+01,  2.679797e+01,  6.639270e+00,\n",
       "         1.088787e+01,  1.720440e+01,  5.618116e+01,  7.970141e+01,\n",
       "         9.084530e+01,  9.827675e+01,  8.087243e+01,  7.479310e+01,\n",
       "         7.554661e+01,  7.343730e+01,  7.411694e+01,  6.817490e+01,\n",
       "         4.624076e+01,  3.993857e+01,  3.121653e+01,  3.688335e+01,\n",
       "         4.002525e+01,  1.174297e+02,  1.270328e+01,  1.729771e+00,\n",
       "         0.000000e+00],\n",
       "       [ 8.000000e+00,  2.566785e+01,  6.305717e+01,  2.214140e+01,\n",
       "         1.707400e+01,  4.174483e+01,  6.027227e+01,  8.142432e+01,\n",
       "         1.144440e+02,  1.023234e+02,  1.017878e+02,  1.110310e+02,\n",
       "         1.192309e+02,  1.140777e+02,  1.105296e+02,  5.919355e+01,\n",
       "         4.247175e+01,  1.463598e+01,  6.944074e+00,  6.944075e+00,\n",
       "         2.774936e+01,  0.000000e+00,  0.000000e+00,  9.449376e-02,\n",
       "         7.732264e-02],\n",
       "       [ 9.000000e+00,  1.282700e+01,  6.920554e+01,  4.676293e+01,\n",
       "         1.396517e+01,  3.388744e+01,  6.182613e+01,  8.474799e+01,\n",
       "         1.211220e+02,  1.452741e+02,  1.531797e+02,  2.047860e+02,\n",
       "         2.279242e+02,  2.363038e+02,  2.283655e+02,  7.934425e+01,\n",
       "         2.593483e+01,  6.944074e+00,  6.944074e+00,  6.944075e+00,\n",
       "         7.553681e+00,  0.000000e+00,  0.000000e+00,  0.000000e+00,\n",
       "         0.000000e+00],\n",
       "       [ 1.000000e+01,  0.000000e+00,  6.866396e+01,  5.904350e+01,\n",
       "         3.335762e+01,  4.745282e+01,  5.783550e+01,  7.891689e+01,\n",
       "         1.078275e+02,  1.680053e+02,  1.309597e+02,  2.125541e+02,\n",
       "         1.658122e+02,  2.102429e+02,  1.811713e+02,  1.897617e+02,\n",
       "         1.373378e+02,  8.465395e+01,  8.677168e+00,  6.956576e+00,\n",
       "         8.468093e+00,  0.000000e+00,  0.000000e+00,  0.000000e+00,\n",
       "         0.000000e+00],\n",
       "       [ 1.100000e+01,  0.000000e+00,  9.517499e+01,  8.003818e+01,\n",
       "         5.989862e+01,  3.958476e+01,  5.028058e+01,  6.381641e+01,\n",
       "         8.061302e+01,  6.637824e+01,  1.987651e+02,  2.443467e+02,\n",
       "         2.942474e+02,  2.643517e+02,  1.764082e+02,  6.021857e+01,\n",
       "         7.741475e+01,  5.316981e+01,  5.616393e+01,  6.949235e+00,\n",
       "         7.531059e+00,  3.780177e+00,  0.000000e+00,  0.000000e+00,\n",
       "         0.000000e+00],\n",
       "       [ 1.200000e+01,  0.000000e+00,  1.349879e+02,  1.303696e+02,\n",
       "         9.686325e+01,  7.570494e+01,  5.886466e+01,  5.720374e+01,\n",
       "         5.518837e+01,  7.812800e+01,  1.085582e+02,  1.543774e+02,\n",
       "         3.191686e+02,  3.728826e+02,  2.754655e+02,  1.302632e+02,\n",
       "         5.493822e+01,  2.549719e+01,  8.047439e+00,  8.084393e+00,\n",
       "         5.115252e+00,  5.678269e+00,  0.000000e+00,  0.000000e+00,\n",
       "         0.000000e+00],\n",
       "       [ 1.300000e+01,  0.000000e+00,  4.808919e+01,  1.425558e+02,\n",
       "         1.403777e+02,  1.547261e+02,  8.793610e+01,  5.811092e+01,\n",
       "         5.283869e+01,  6.714822e+01,  8.366798e+01,  1.189242e+02,\n",
       "         1.500681e+02,  2.729709e+02,  3.411366e+02,  2.386640e+02,\n",
       "         1.902000e+02,  1.168943e+02,  9.148672e+01,  1.401570e+01,\n",
       "         4.229277e+01,  5.115252e+00,  0.000000e+00,  0.000000e+00,\n",
       "         0.000000e+00],\n",
       "       [ 1.400000e+01,  0.000000e+00,  5.419410e+01,  1.463839e+02,\n",
       "         9.948143e+01,  9.619411e+01,  1.029473e+02,  7.614089e+01,\n",
       "         5.778440e+01,  4.704020e+01,  6.436799e+01,  8.423767e+01,\n",
       "         1.627181e+02,  1.213275e+02,  2.131646e+02,  3.284820e+02,\n",
       "         2.854489e+02,  2.838319e+02,  2.128150e+02,  1.645490e+02,\n",
       "         9.229631e+01,  7.244015e+00,  1.167000e+00,  0.000000e+00,\n",
       "         0.000000e+00],\n",
       "       [ 1.500000e+01,  0.000000e+00,  6.919659e+00,  1.951709e+02,\n",
       "         1.325253e+02,  1.352341e+02,  8.985069e+01,  8.945549e+01,\n",
       "         6.029967e+01,  5.033806e+01,  3.917583e+01,  5.906854e+01,\n",
       "         7.452159e+01,  8.493402e+01,  1.871219e+02,  1.239673e+02,\n",
       "         1.037027e+02,  1.289860e+02,  1.651283e+02,  2.497054e+02,\n",
       "         9.539966e+01,  1.000284e+01,  2.392550e+00,  0.000000e+00,\n",
       "         0.000000e+00],\n",
       "       [ 1.600000e+01,  0.000000e+00,  2.173871e+01,  1.231339e+02,\n",
       "         1.767414e+02,  1.582698e+02,  1.372350e+02,  1.053089e+02,\n",
       "         8.663255e+01,  5.311591e+01,  2.903865e+01,  3.040539e+01,\n",
       "         3.904902e+01,  4.923405e+01,  6.327853e+01,  1.114215e+02,\n",
       "         1.011956e+02,  4.000962e+01,  5.984565e+01,  7.451253e+01,\n",
       "         1.706316e+01,  2.435141e+00,  2.287471e+00, -3.636982e-04,\n",
       "         0.000000e+00],\n",
       "       [ 1.700000e+01,  0.000000e+00,  0.000000e+00,  6.204672e+01,\n",
       "         1.363122e+02,  2.017952e+02,  1.681343e+02,  9.520460e+01,\n",
       "         5.890624e+01,  4.694091e+01,  4.927053e+01,  3.710416e+01,\n",
       "         1.797011e+01,  3.093697e+01,  3.339257e+01,  4.403077e+01,\n",
       "         5.564542e+01,  7.822423e+01,  1.442782e+01,  9.954997e+00,\n",
       "         7.768213e+00,  1.302540e+01,  2.173166e+01,  2.156372e+00,\n",
       "         5.317867e-01],\n",
       "       [ 1.800000e+01,  0.000000e+00,  0.000000e+00,  7.962993e+01,\n",
       "         1.396978e+02,  1.731670e+02,  1.928718e+02,  1.963499e+02,\n",
       "         1.446611e+02,  1.065424e+02,  5.716653e+01,  4.116107e+01,\n",
       "         3.212764e+01,  1.385660e+01,  1.091772e+01,  1.207177e+01,\n",
       "         2.238254e+01,  2.472105e+01,  6.803666e+00,  4.200841e+00,\n",
       "         1.646857e+01,  1.570744e+01,  3.396221e+01,  7.575688e+00,\n",
       "        -4.880907e-02],\n",
       "       [ 1.900000e+01,  0.000000e+00,  0.000000e+00,  3.326640e+01,\n",
       "         5.753643e+01,  1.672241e+02,  1.964833e+02,  1.947966e+02,\n",
       "         1.821884e+02,  1.196961e+02,  7.302113e+01,  4.836549e+01,\n",
       "         3.374652e+01,  2.623790e+01,  1.635780e+01,  6.811293e+00,\n",
       "         6.639270e+00,  6.639271e+00,  8.468093e+00,  6.194273e+00,\n",
       "         3.591233e+00,  3.814860e+00,  8.600739e+00,  5.218890e+00,\n",
       "         0.000000e+00],\n",
       "       [ 2.000000e+01,  0.000000e+00,  0.000000e+00,  2.977937e+01,\n",
       "         5.497282e+01,  1.447995e+02,  2.074904e+02,  1.653432e+02,\n",
       "         1.714047e+02,  1.749216e+02,  1.002733e+02,  6.146441e+01,\n",
       "         5.019171e+01,  2.608209e+01,  1.718218e+01,  8.468093e+00,\n",
       "         6.639270e+00,  6.334467e+00,  6.334467e+00,  5.666687e+00,\n",
       "         4.272203e+00,  0.000000e+00,  0.000000e+00,  0.000000e+00,\n",
       "         0.000000e+00],\n",
       "       [ 2.100000e+01,  0.000000e+00,  0.000000e+00,  3.140900e+01,\n",
       "         1.327418e+02,  1.855796e+02,  1.218299e+02,  1.853841e+02,\n",
       "         1.606566e+02,  1.161478e+02,  1.181078e+02,  1.417946e+02,\n",
       "         6.556351e+01,  4.884066e+01,  2.313864e+01,  1.812932e+01,\n",
       "         1.028531e+01,  6.029663e+00,  6.044627e+00,  5.694764e+00,\n",
       "         3.739085e+00,  3.896037e+00,  0.000000e+00,  0.000000e+00,\n",
       "         0.000000e+00],\n",
       "       [ 2.200000e+01,  0.000000e+00,  0.000000e+00,  1.958994e+01,\n",
       "         4.230355e+01,  9.626777e+01,  1.871207e+02,  1.796626e+02,\n",
       "         2.213898e+02,  1.542617e+02,  1.421604e+02,  1.485737e+02,\n",
       "         6.717937e+01,  4.069044e+01,  3.974512e+01,  2.610166e+01,\n",
       "         1.448469e+01,  8.658730e+00,  3.896037e+00,  3.571392e+00,\n",
       "         3.896037e+00,  3.896037e+00,  3.896037e+00,  1.077756e+00,\n",
       "         0.000000e+00],\n",
       "       [ 2.300000e+01,  1.229679e-03,  3.008948e+00,  5.909858e+00,\n",
       "         3.350574e+01,  1.043341e+02,  1.522165e+02,  1.981988e+02,\n",
       "         1.918410e+02,  2.287349e+02,  1.681041e+02,  1.442759e+02,\n",
       "         1.107436e+02,  5.765214e+01,  4.263504e+01,  2.791891e+01,\n",
       "         1.541052e+01,  8.056102e+00,  3.902830e+00,  3.879774e+00,\n",
       "         3.936718e+00,  3.968634e+00,  1.236256e-01,  3.985531e+00,\n",
       "        -1.835741e-01],\n",
       "       [ 2.400000e+01,  0.000000e+00,  5.626141e+00,  7.676256e+00,\n",
       "         6.316226e+01,  4.599762e+01,  7.956688e+01,  2.273110e+02,\n",
       "         2.039287e+02,  1.725618e+02,  1.771462e+02,  1.404554e+02,\n",
       "         1.239905e+02,  1.103460e+02,  6.512319e+01,  3.431887e+01,\n",
       "         2.452780e+01,  9.561069e+00,  3.334991e+00,  5.590495e+00,\n",
       "         5.487353e+00,  5.909499e+00,  5.868994e+00,  5.833817e+00,\n",
       "         3.568177e+00]])"
      ]
     },
     "execution_count": 111,
     "metadata": {},
     "output_type": "execute_result"
    }
   ],
   "source": [
    "z_data = pd.read_csv('https://raw.githubusercontent.com/plotly/datasets/master/api_docs/mt_bruno_elevation.csv')\n",
    "z = z_data.values\n",
    "z"
   ]
  },
  {
   "cell_type": "code",
   "execution_count": null,
   "id": "b812a05c-1ea7-4da3-9903-6037e6932225",
   "metadata": {},
   "outputs": [],
   "source": []
  }
 ],
 "metadata": {
  "kernelspec": {
   "display_name": "Python 3 (ipykernel)",
   "language": "python",
   "name": "python3"
  },
  "language_info": {
   "codemirror_mode": {
    "name": "ipython",
    "version": 3
   },
   "file_extension": ".py",
   "mimetype": "text/x-python",
   "name": "python",
   "nbconvert_exporter": "python",
   "pygments_lexer": "ipython3",
   "version": "3.11.5"
  }
 },
 "nbformat": 4,
 "nbformat_minor": 5
}
